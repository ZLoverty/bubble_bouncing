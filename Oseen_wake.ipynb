{
 "cells": [
  {
   "cell_type": "markdown",
   "id": "3c1ff433",
   "metadata": {},
   "source": [
    "# Oseen Wake\n",
    "\n",
    "This notebook deals with the Oseen wake that is responsible for the lifting force and back flipping of air bubbles. The flow field can be expressed in spherical coordinates as follows:\n",
    "\n",
    "$$\n",
    "\\frac{u_r}{U} = -\\frac{a^3 \\cos \\theta}{2r^3} + \\frac{3a^2}{2r^2 Re} \\left\\{ 1 - \\exp\\left[ -\\frac{rRe}{2a} (1 + \\cos\\theta) \\right] \\right\\} \\\\- \\frac{3a(1-\\cos\\theta)}{4r} \\exp\\left[ -\\frac{rRe}{2a} (1 + \\cos\\theta) \\right] \n",
    "$$\n",
    "\n",
    "$$\n",
    "\\frac{u_\\theta}{U} = -\\frac{a^3\\sin\\theta}{4r^3} - \\frac{3a\\sin\\theta}{4r}\\exp\\left[ -\\frac{rRe}{2a} (1+\\cos\\theta) \\right]\n",
    "$$\n",
    "\n",
    "$$\n",
    "\\frac{u_\\varphi}{U} = 0\n",
    "$$\n",
    "\n",
    "Since the bubble simulation is formulated in Cartesian coordinates, we convert the above to $u_x$, $u_y$ and $u_z$ using:\n",
    "\n",
    "$$\n",
    "u_x = u_r \\sin\\theta\\cos\\phi + u_\\theta \\cos\\theta\\cos\\phi - u_\\phi\\sin\\phi\n",
    "$$\n",
    "\n",
    "$$\n",
    "u_y = u_r \\sin\\theta\\sin\\phi + u_\\theta \\cos\\theta\\sin\\phi + u_\\phi\\cos\\phi\n",
    "$$\n",
    "\n",
    "$$\n",
    "u_z = u_r \\cos\\theta - u_\\theta\\sin\\theta\n",
    "$$\n",
    "\n",
    "where \n",
    "\n",
    "$$\n",
    "\\sin\\theta = \\frac{\\sqrt{x^2 + y^2}}{r}\n",
    "$$\n",
    "\n",
    "$$\n",
    "\\cos\\theta = \\frac{z}{r}\n",
    "$$\n",
    "\n",
    "$$\n",
    "\\sin\\phi = \\frac{y}{\\sqrt{x^2 + y^2}}\n",
    "$$\n",
    "\n",
    "$$\n",
    "\\cos\\phi = \\frac{x}{\\sqrt{x^2 + y^2}}\n",
    "$$\n",
    "\n",
    "and \n",
    "\n",
    "$$\n",
    "r = \\sqrt{x^2 + y^2 + z^2}\n",
    "$$"
   ]
  },
  {
   "cell_type": "markdown",
   "id": "a12f1b5b",
   "metadata": {},
   "source": [
    "## 0 Packages"
   ]
  },
  {
   "cell_type": "code",
   "execution_count": 9,
   "id": "6b70d800",
   "metadata": {},
   "outputs": [],
   "source": [
    "import numpy as np\n",
    "import matplotlib.pyplot as plt\n",
    "import pyvista as pv\n",
    "import healpy as hp\n",
    "pv.set_jupyter_backend(\"html\")"
   ]
  },
  {
   "cell_type": "markdown",
   "id": "0ecbf218",
   "metadata": {},
   "source": [
    "## 1 Velocity field in Cartesian coordinates"
   ]
  },
  {
   "cell_type": "markdown",
   "id": "b41720bc",
   "metadata": {},
   "source": [
    "### 1.1 Put the equations in code"
   ]
  },
  {
   "cell_type": "code",
   "execution_count": 34,
   "id": "7d7c4151",
   "metadata": {},
   "outputs": [],
   "source": [
    "# define constants\n",
    "U = 1.0e-4\n",
    "mu = 1.0e-3\n",
    "rho = 1.0e3\n",
    "a = .3\n",
    "Re = rho * a * U / mu"
   ]
  },
  {
   "cell_type": "code",
   "execution_count": 35,
   "id": "a9d6a419",
   "metadata": {},
   "outputs": [],
   "source": [
    "# define mesh\n",
    "lim = 2\n",
    "res = 20\n",
    "x = np.linspace(-lim, lim, res)\n",
    "y = np.linspace(-lim, lim, res)\n",
    "z = np.linspace(-lim, lim, res)\n",
    "x, y, z = np.meshgrid(x, y, z)\n",
    "\n",
    "x = x.flatten()\n",
    "y = y.flatten()\n",
    "z = z.flatten()"
   ]
  },
  {
   "cell_type": "code",
   "execution_count": 36,
   "id": "a40428b1",
   "metadata": {},
   "outputs": [],
   "source": [
    "# compute variables in spherical coordinates\n",
    "r = x**2 + y**2 + z**2\n",
    "sint = (x**2 + y**2)**0.5 / r\n",
    "cost = z / r\n",
    "sinp = y / (x**2 + y**2)**0.5\n",
    "cosp = x / (x**2 + y**2)**0.5"
   ]
  },
  {
   "cell_type": "code",
   "execution_count": 37,
   "id": "b483334e",
   "metadata": {},
   "outputs": [],
   "source": [
    "valid_ind = r > a"
   ]
  },
  {
   "cell_type": "code",
   "execution_count": 38,
   "id": "d59d55b4",
   "metadata": {},
   "outputs": [],
   "source": [
    "# velocity field in spherical coordinates\n",
    "u_r = U * ( \n",
    "    - a**3 * cost / 2 / r**3 \n",
    "    + 3 * a**2 / 2 * r**2 * Re * (\n",
    "        1 - np.exp(- r * Re / 2 / a * (1 + cost))\n",
    "    )\n",
    "    - 3 * a * (1 - cost) / 4 / r * np.exp(- r * Re / 2 / a * (1 + cost))\n",
    ")\n",
    "u_t = U * (\n",
    "    - a**3 * sint / 4 / r**3 \n",
    "    - 3 * a * sint / 4 / r * np.exp(- r * Re / 2 / a * (1 + cost))\n",
    ")\n",
    "u_p = 0"
   ]
  },
  {
   "cell_type": "code",
   "execution_count": 39,
   "id": "f6e79a44",
   "metadata": {},
   "outputs": [],
   "source": [
    "# convert spherical coordinates velocity to Cartesian\n",
    "# up to here, we have u(x, y, z) \n",
    "u_x = u_r * sint * cosp + u_t * cost * cosp - u_p * sinp\n",
    "u_y = u_r * sint * sinp + u_t * cost * sinp + u_p * cosp\n",
    "u_z = u_r * cost - u_t * sint"
   ]
  },
  {
   "cell_type": "code",
   "execution_count": 40,
   "id": "6091f234",
   "metadata": {},
   "outputs": [],
   "source": [
    "for i in [x, y, z, u_x, u_y, u_z]:\n",
    "    i[~valid_ind] = np.nan"
   ]
  },
  {
   "cell_type": "code",
   "execution_count": 44,
   "id": "460c7612",
   "metadata": {},
   "outputs": [
    {
     "data": {
      "application/vnd.jupyter.widget-view+json": {
       "model_id": "26bf27eddea8424b87a9d41d36574432",
       "version_major": 2,
       "version_minor": 0
      },
      "text/plain": [
       "EmbeddableWidget(value='<iframe srcdoc=\"<!DOCTYPE html>\\n<html>\\n  <head>\\n    <meta http-equiv=&quot;Content-…"
      ]
     },
     "metadata": {},
     "output_type": "display_data"
    }
   ],
   "source": [
    "points = np.stack([x, y, z], axis=-1)\n",
    "velocity = np.stack([u_x, u_y, u_z], axis=-1)\n",
    "ones = np.ones(velocity.shape[0])\n",
    "\n",
    "pl = pv.Plotter()\n",
    "grid = pv.PolyData(points)\n",
    "grid[\"v\"] = velocity\n",
    "grid[\"v_mag\"] = np.linalg.norm(velocity, axis=1)\n",
    "grid[\"ones\"] = ones\n",
    "pl.add_mesh(grid)\n",
    "glyphs = grid.glyph(orient=\"v\", scale=\"v_mag\", factor=.5)\n",
    "pl.add_mesh(glyphs)\n",
    "pl.show_axes()\n",
    "pl.camera_position = \"yz\" \n",
    "pl.show()"
   ]
  },
  {
   "cell_type": "markdown",
   "id": "2bb699a9",
   "metadata": {},
   "source": [
    "### 1.2 Implement a class for the ease of use\n",
    "\n",
    "In the simulation, we can initiate a `OseenWake` class with\n",
    "\n",
    "```\n",
    "oseen = OseenWake(U, a)\n",
    "```\n",
    "\n",
    "Then, at each step, we can use the instance to calculate the flow velocity at a collection of points:\n",
    "\n",
    "```\n",
    "flow = oseen.flow(points)\n",
    "```\n",
    "\n",
    "where `points` are np.array of shape [npts, 3]."
   ]
  },
  {
   "cell_type": "code",
   "execution_count": null,
   "id": "200fa2b7",
   "metadata": {},
   "outputs": [],
   "source": [
    "class Sphere:\n",
    "    \"\"\"Compute the flow field in a Oseen wake. The flow field is characterized by two regions: a Stokeslet in the low Reynolds region and a compensating flow \"\"\"\n",
    "    def __init__(self, a, U=0, rho=1e3, mu=1e-3):\n",
    "        self.a = a # bubble radius\n",
    "        self.U = U # upward velocity (only upward!)\n",
    "        self.rho = rho # density\n",
    "        self.mu = mu # viscosity\n",
    "        self.pos = np.array([0, 0, 0]) # bubble position\n",
    "        self.surf_coords, self.unit_normals, self.ds = self._compute_surface_coords()\n",
    "\n",
    "    def Oseen_wake(self, points):\n",
    "        \"\"\"Compute Oseen wake at given points. \n",
    "\n",
    "        Args:\n",
    "        points -- should be an array of (npts, 3).\n",
    "\n",
    "        Returns: \n",
    "        flow -- the flow velocity at each given point, also (npts, 3).\n",
    "        \"\"\"\n",
    "        U = self.U\n",
    "        a = self.a\n",
    "        rho = self.rho\n",
    "        mu = self.mu\n",
    "        Re = rho * a * U / mu\n",
    "\n",
    "        x, y, z = points[:, 0], points[:, 1], points[:, 2]\n",
    "        r = x**2 + y**2 + z**2\n",
    "        sint = (x**2 + y**2)**0.5 / r\n",
    "        cost = z / r\n",
    "        sinp = y / (x**2 + y**2)**0.5\n",
    "        cosp = x / (x**2 + y**2)**0.5\n",
    "\n",
    "        u_r = U * ( \n",
    "            - a**3 * cost / 2 / r**3 \n",
    "            + 3 * a**2 / 2 * r**2 * Re * (\n",
    "                1 - np.exp(- r * Re / 2 / a * (1 + cost))\n",
    "            )\n",
    "            - 3 * a * (1 - cost) / 4 / r * np.exp(- r * Re / 2 / a * (1 + cost))\n",
    "        )\n",
    "        u_t = U * (\n",
    "            - a**3 * sint / 4 / r**3 \n",
    "            - 3 * a * sint / 4 / r * np.exp(- r * Re / 2 / a * (1 + cost))\n",
    "        )\n",
    "        u_p = 0\n",
    "\n",
    "        u_x = u_r * sint * cosp + u_t * cost * cosp - u_p * sinp\n",
    "        u_y = u_r * sint * sinp + u_t * cost * sinp + u_p * cosp\n",
    "        u_z = u_r * cost - u_t * sint\n",
    "\n",
    "        # The velocity diverges at r=0, implying that this velocity should be considered as \"far field\" velocity\n",
    "        # thus, we mask out all the velocities inside the imaginary shpere, where r <= a\n",
    "        invalid = r <= a\n",
    "        u_x[invalid] = 0\n",
    "        u_y[invalid] = 0\n",
    "        u_z[invalid] = 0\n",
    "\n",
    "        return np.stack([u_x, u_y, u_z], axis=-1)\n",
    "    \n",
    "    def get_pos(self):\n",
    "        return self.pos\n",
    "    \n",
    "    def set_pos(self, pos):\n",
    "        self.pos = np.array(pos)\n",
    "\n",
    "    def _compute_surface_coords(self, nside=4):\n",
    "        \"\"\"Compute the coordinates of the surface differential area and surface unit normal vectors.\n",
    "        \n",
    "        Args:\n",
    "        nside -- controls how many parts the spherical surface is to be divided, utilizing the `healpy` package. Has to be power of 2. The number of parts will be 12*nside**2.\n",
    "        \n",
    "        Returns:\n",
    "        surface_coords -- coordinates of surface differential area __relative to the center__ of the sphere.\n",
    "        unit_normals -- unit normal vectors corresponding to the surface locations.\n",
    "        differential_surface_area -- the area of each differential surface unit.\"\"\"\n",
    "\n",
    "        R = self.a\n",
    "        npix = hp.nside2npix(nside)\n",
    "\n",
    "        # Get spherical coordinates (theta, phi) of each pixel center\n",
    "        theta, phi = hp.pix2ang(nside, np.arange(npix))\n",
    "\n",
    "        x = R * np.sin(theta) * np.cos(phi) \n",
    "        y = R * np.sin(theta) * np.sin(phi) \n",
    "        z = R * np.cos(theta)\n",
    "        surface_coords = np.stack([x, y, z], axis=-1)\n",
    "        unit_normals = surface_coords / np.linalg.norm(surface_coords, axis=-1, keepdims=True)\n",
    "        differential_surface_area = 4 * np.pi * R**2 / npix\n",
    "        return surface_coords, unit_normals, differential_surface_area"
   ]
  },
  {
   "cell_type": "code",
   "execution_count": 64,
   "id": "a85f5253",
   "metadata": {},
   "outputs": [],
   "source": [
    "U = 1.0e-4\n",
    "a = .2\n",
    "im = Sphere(a, U=U) # the imaginary bubble instance\n",
    "re = Sphere(a) # the real bubble instance\n",
    "re.set_pos([.5, 0, -.5]) # set real bubble to be away from the imaginary bubble"
   ]
  },
  {
   "cell_type": "code",
   "execution_count": 65,
   "id": "0a89c752",
   "metadata": {},
   "outputs": [
    {
     "data": {
      "application/vnd.jupyter.widget-view+json": {
       "model_id": "1b2bd595a98a4e9b8acea57855574590",
       "version_major": 2,
       "version_minor": 0
      },
      "text/plain": [
       "EmbeddableWidget(value='<iframe srcdoc=\"<!DOCTYPE html>\\n<html>\\n  <head>\\n    <meta http-equiv=&quot;Content-…"
      ]
     },
     "metadata": {},
     "output_type": "display_data"
    }
   ],
   "source": [
    "# check the surface coordinates calculation\n",
    "grid = pv.PolyData(re.surf_coords)\n",
    "pl = pv.Plotter(window_size=(400, 400))\n",
    "grid[\"normal\"] = re.unit_normals\n",
    "glyph = grid.glyph(orient=\"normal\", scale=\"normal\", factor=.05)\n",
    "pl.add_mesh(grid)\n",
    "pl.add_mesh(glyph)\n",
    "pl.show()\n",
    "# grid.plot()"
   ]
  },
  {
   "cell_type": "code",
   "execution_count": 66,
   "id": "d040fc31",
   "metadata": {},
   "outputs": [],
   "source": [
    "# Check the flow around the bubble\n",
    "rel_pos = re.surf_coords - re.pos - im.pos # calculated the relative position between the surface of real sphere and the center of the imaginary sphere\n",
    "flow = im.Oseen_wake(rel_pos)"
   ]
  },
  {
   "cell_type": "code",
   "execution_count": null,
   "id": "de0aa378",
   "metadata": {},
   "outputs": [],
   "source": [
    "# do multiple spheres around a imaginary sphere that generates Oseen Wake\n",
    "locs = [(0, 0, -0.5), (0.5, 0, -0.5), (1, 0, -0.5),\n",
    "        (0, 0, -1  ), (0.5, 0, -1.0), (1, 0, -1),\n",
    "        (0.5, 0, 0) , (1.0, 0, 0)]\n",
    "spheres = []\n",
    "for loc in locs:\n",
    "    s = Sphere(a)\n",
    "    s.set_pos(loc)\n",
    "    spheres.append(s)"
   ]
  },
  {
   "cell_type": "code",
   "execution_count": 93,
   "id": "ae3ebe27",
   "metadata": {},
   "outputs": [
    {
     "data": {
      "application/vnd.jupyter.widget-view+json": {
       "model_id": "9ece719ea2584852a9a17f066d2399d0",
       "version_major": 2,
       "version_minor": 0
      },
      "text/plain": [
       "EmbeddableWidget(value='<iframe srcdoc=\"<!DOCTYPE html>\\n<html>\\n  <head>\\n    <meta http-equiv=&quot;Content-…"
      ]
     },
     "metadata": {},
     "output_type": "display_data"
    }
   ],
   "source": [
    "# direction of the flow\n",
    "pl = pv.Plotter()\n",
    "mesh = pv.Sphere(radius=im.a, center=im.pos)\n",
    "pl.add_mesh(mesh, opacity=0.3)\n",
    "for re in spheres:\n",
    "    rel_pos = re.surf_coords + re.pos - im.pos\n",
    "    flow = im.Oseen_wake(rel_pos)\n",
    "    grid = pv.PolyData(re.pos + re.surf_coords)\n",
    "    mesh = pv.Sphere(radius=re.a, center=re.pos)\n",
    "    grid[\"flow\"] = flow\n",
    "    grid[\"normal\"] = np.linalg.norm(re.unit_normals, axis=1)\n",
    "    glyph = grid.glyph(orient=\"flow\", scale=\"normal\", factor=.1)\n",
    "    pl.add_mesh(mesh)\n",
    "    pl.add_mesh(glyph, clim=[1, 1], scalar_bar_args={\"title\": \"Z\", \"n_labels\": 5, \"fmt\": \"%.2f\"})\n",
    "pl.add_axes()\n",
    "pl.camera_position = \"xz\"\n",
    "pl.show()"
   ]
  },
  {
   "cell_type": "code",
   "execution_count": 101,
   "id": "1b527b3c",
   "metadata": {},
   "outputs": [
    {
     "data": {
      "application/vnd.jupyter.widget-view+json": {
       "model_id": "387dbe2e881b44c8b009960351e83140",
       "version_major": 2,
       "version_minor": 0
      },
      "text/plain": [
       "EmbeddableWidget(value='<iframe srcdoc=\"<!DOCTYPE html>\\n<html>\\n  <head>\\n    <meta http-equiv=&quot;Content-…"
      ]
     },
     "metadata": {},
     "output_type": "display_data"
    }
   ],
   "source": [
    "pl = pv.Plotter()\n",
    "mesh = pv.Sphere(radius=im.a, center=im.pos)\n",
    "pl.add_mesh(mesh, opacity=0.3)\n",
    "for re in spheres:\n",
    "    rel_pos = re.surf_coords + re.pos - im.pos\n",
    "    flow = im.Oseen_wake(rel_pos)\n",
    "    # clip the velocity data\n",
    "    max_mag = 0.001\n",
    "    # Normalize and rescale any vector > max_mag\n",
    "    mag = np.linalg.norm(flow, axis=1)\n",
    "    scale = np.minimum(1.0, max_mag / (mag + 1e-12))  # Avoid divide-by-zero\n",
    "    flow_clipped = flow * scale[:, np.newaxis]\n",
    "\n",
    "    grid = pv.PolyData(re.pos + re.surf_coords)\n",
    "    mesh = pv.Sphere(radius=re.a, center=re.pos)\n",
    "    grid[\"flow\"] = flow_clipped\n",
    "    grid[\"normal\"] = np.linalg.norm(re.unit_normals, axis=1)\n",
    "    glyph = grid.glyph(orient=\"flow\", scale=\"flow\", factor=200)\n",
    "    pl.add_mesh(mesh)\n",
    "    pl.add_mesh(glyph)\n",
    "pl.add_axes()\n",
    "pl.camera_position = \"xz\"\n",
    "pl.show()"
   ]
  },
  {
   "attachments": {
    "Oseen_wake.jpg": {
     "image/jpeg": "[encoded data removed]"
    }
   },
   "cell_type": "markdown",
   "id": "2582685b",
   "metadata": {},
   "source": [
    "## 2 Velocity on a spherical shell\n",
    "\n",
    "In the simulation, we want to compute the velocity (i.e. the shear force) acting on the whole bubble surface and integrate the effect. In this section, we implement this calculation by\n",
    "\n",
    "1. Identifying surface locations and normals (done in Sphere class);\n",
    "2. Getting flow field at each location (done in Sphere class);\n",
    "3. Computing tangential projections;\n",
    "4. Integrating over the surface.\n",
    "\n",
    "We consider two bubbles, one imaginary and one real, as sketched below. The imaginary bubble generates and Oseen wake, which drives the rotation and translation of the real bubble. \n",
    "\n",
    "![Oseen_wake.jpg](attachment:Oseen_wake.jpg)"
   ]
  },
  {
   "cell_type": "markdown",
   "id": "2324b35e",
   "metadata": {},
   "source": [
    "We calculate the average circulation $\\bar\\Gamma$ as\n",
    "\n",
    "$$\n",
    "\\bar\\Gamma = \\frac{1}{2a} \\int_S u_s \\; dS,\n",
    "$$\n",
    "\n",
    "where $a$ is the radius of bubble and $u_s$ is the projection of velocity on the spherical surface. Furthermore, since we only consider vorticity in the $xz$ plane, we also project the velocity in the $xz$ plane. \n",
    "\n",
    "Then, we calculate an approximated local vorticity as\n",
    "\n",
    "$$\n",
    "\\bar\\omega \\approx \\frac{1}{\\pi a^2} \\bar\\Gamma.\n",
    "$$\n",
    "\n",
    "The lift force $F_l$ points to the left if the circulation is CW, and has the form\n",
    "\n",
    "$$\n",
    "F_l = C_l \\mathbf{\\bar\\omega} \\times \\mathbf{v} \n",
    "$$\n",
    "\n",
    "where $C_l$ is the lift coefficient, and $\\mathbf{v}$ is the negative velocity of the bubble. "
   ]
  },
  {
   "cell_type": "code",
   "execution_count": null,
   "id": "ae3fec96",
   "metadata": {},
   "outputs": [],
   "source": []
  }
 ],
 "metadata": {
  "kernelspec": {
   "display_name": "fenics",
   "language": "python",
   "name": "python3"
  },
  "language_info": {
   "codemirror_mode": {
    "name": "ipython",
    "version": 3
   },
   "file_extension": ".py",
   "mimetype": "text/x-python",
   "name": "python",
   "nbconvert_exporter": "python",
   "pygments_lexer": "ipython3",
   "version": "3.9.18"
  }
 },
 "nbformat": 4,
 "nbformat_minor": 5
}
