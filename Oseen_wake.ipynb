{
 "cells": [
  {
   "cell_type": "markdown",
   "id": "3c1ff433",
   "metadata": {},
   "source": [
    "# Oseen Wake\n",
    "\n",
    "This notebook deals with the Oseen wake that is responsible for the lifting force and back flipping of air bubbles. The flow field can be expressed in spherical coordinates as follows:\n",
    "\n",
    "$$\n",
    "\\frac{u_r}{U} = -\\frac{a^3 \\cos \\theta}{2r^3} + \\frac{3a^2}{2r^2 Re} \\left\\{ 1 - \\exp\\left[ -\\frac{rRe}{2a} (1 + \\cos\\theta) \\right] \\right\\} \\\\- \\frac{3a(1-\\cos\\theta)}{4r} \\exp\\left[ -\\frac{rRe}{2a} (1 + \\cos\\theta) \\right] \n",
    "$$\n",
    "\n",
    "$$\n",
    "\\frac{u_\\theta}{U} = -\\frac{a^3\\sin\\theta}{4r^3} - \\frac{3a\\sin\\theta}{4r}\\exp\\left[ -\\frac{rRe}{2a} (1+\\cos\\theta) \\right]\n",
    "$$\n",
    "\n",
    "$$\n",
    "\\frac{u_\\varphi}{U} = 0\n",
    "$$\n",
    "\n",
    "Since the bubble simulation is formulated in Cartesian coordinates, we convert the above to $u_x$, $u_y$ and $u_z$ using:\n",
    "\n",
    "$$\n",
    "u_x = u_r \\sin\\theta\\cos\\phi + u_\\theta \\cos\\theta\\cos\\phi - u_\\phi\\sin\\phi\n",
    "$$\n",
    "\n",
    "$$\n",
    "u_y = u_r \\sin\\theta\\sin\\phi + u_\\theta \\cos\\theta\\sin\\phi + u_\\phi\\cos\\phi\n",
    "$$\n",
    "\n",
    "$$\n",
    "u_z = u_r \\cos\\theta - u_\\theta\\sin\\theta\n",
    "$$\n",
    "\n",
    "where \n",
    "\n",
    "$$\n",
    "\\sin\\theta = \\frac{\\sqrt{x^2 + y^2}}{r}\n",
    "$$\n",
    "\n",
    "$$\n",
    "\\cos\\theta = \\frac{z}{r}\n",
    "$$\n",
    "\n",
    "$$\n",
    "\\sin\\phi = \\frac{y}{\\sqrt{x^2 + y^2}}\n",
    "$$\n",
    "\n",
    "$$\n",
    "\\cos\\phi = \\frac{x}{\\sqrt{x^2 + y^2}}\n",
    "$$\n",
    "\n",
    "and \n",
    "\n",
    "$$\n",
    "r = \\sqrt{x^2 + y^2 + z^2}\n",
    "$$"
   ]
  },
  {
   "cell_type": "markdown",
   "id": "a12f1b5b",
   "metadata": {},
   "source": [
    "## 0 Packages"
   ]
  },
  {
   "cell_type": "code",
   "execution_count": 5,
   "id": "6b70d800",
   "metadata": {},
   "outputs": [],
   "source": [
    "import numpy as np\n",
    "import matplotlib.pyplot as plt\n",
    "import pyvista as pv\n",
    "import healpy as hp\n",
    "pv.set_jupyter_backend(\"trame\")\n",
    "from bubble import Bubble"
   ]
  },
  {
   "cell_type": "markdown",
   "id": "0ecbf218",
   "metadata": {},
   "source": [
    "## 1 Velocity field in Cartesian coordinates"
   ]
  },
  {
   "cell_type": "markdown",
   "id": "b41720bc",
   "metadata": {},
   "source": [
    "### 1.1 Put the equations in code"
   ]
  },
  {
   "cell_type": "code",
   "execution_count": 32,
   "id": "7d7c4151",
   "metadata": {},
   "outputs": [],
   "source": [
    "# define constants\n",
    "U = 1.0e-4\n",
    "mu = 1.0e-3\n",
    "rho = 1.0e3\n",
    "a = .3\n",
    "Re = rho * a * U / mu"
   ]
  },
  {
   "cell_type": "code",
   "execution_count": 33,
   "id": "a9d6a419",
   "metadata": {},
   "outputs": [],
   "source": [
    "# define mesh\n",
    "lim = 3*a\n",
    "res = 10\n",
    "x = np.linspace(-lim, lim, res)\n",
    "y = np.linspace(-lim, lim, res)\n",
    "z = np.linspace(-lim, lim, res)\n",
    "x, y, z = np.meshgrid(x, y, z)\n",
    "\n",
    "x = x.flatten()\n",
    "y = y.flatten()\n",
    "z = z.flatten()"
   ]
  },
  {
   "cell_type": "code",
   "execution_count": 34,
   "id": "a40428b1",
   "metadata": {},
   "outputs": [],
   "source": [
    "# compute variables in spherical coordinates\n",
    "r = (x**2 + y**2 + z**2) ** 0.5\n",
    "sint = (x**2 + y**2)**0.5 / r\n",
    "cost = z / r\n",
    "sinp = y / (x**2 + y**2)**0.5\n",
    "cosp = x / (x**2 + y**2)**0.5"
   ]
  },
  {
   "cell_type": "code",
   "execution_count": 35,
   "id": "b483334e",
   "metadata": {},
   "outputs": [],
   "source": [
    "valid_ind = r > a"
   ]
  },
  {
   "cell_type": "code",
   "execution_count": 36,
   "id": "d59d55b4",
   "metadata": {},
   "outputs": [],
   "source": [
    "# velocity field in spherical coordinates\n",
    "u_r = U * ( \n",
    "    - a**3 * cost / 2 / r**3 \n",
    "    + 3 * a**2 / (2 * r**2 * Re) * (\n",
    "        1 - np.exp(- r * Re / 2 / a * (1 + cost))\n",
    "    )\n",
    "    - 3 * a * (1 - cost) / 4 / r * np.exp(- r * Re / 2 / a * (1 + cost))\n",
    ")\n",
    "u_t = U * (\n",
    "    - a**3 * sint / 4 / r**3 \n",
    "    - 3 * a * sint / 4 / r * np.exp(- r * Re / 2 / a * (1 + cost))\n",
    ")\n",
    "u_p = 0"
   ]
  },
  {
   "cell_type": "code",
   "execution_count": 37,
   "id": "f6e79a44",
   "metadata": {},
   "outputs": [],
   "source": [
    "# convert spherical coordinates velocity to Cartesian\n",
    "# up to here, we have u(x, y, z) \n",
    "u_x = u_r * sint * cosp + u_t * cost * cosp - u_p * sinp\n",
    "u_y = u_r * sint * sinp + u_t * cost * sinp + u_p * cosp\n",
    "u_z = u_r * cost - u_t * sint"
   ]
  },
  {
   "cell_type": "code",
   "execution_count": 38,
   "id": "6091f234",
   "metadata": {},
   "outputs": [],
   "source": [
    "for i in [x, y, z, u_x, u_y, u_z]:\n",
    "    i[~valid_ind] = np.nan"
   ]
  },
  {
   "cell_type": "code",
   "execution_count": 39,
   "id": "460c7612",
   "metadata": {},
   "outputs": [
    {
     "data": {
      "application/vnd.jupyter.widget-view+json": {
       "model_id": "7701d7d52190414bae36f485a0846045",
       "version_major": 2,
       "version_minor": 0
      },
      "text/plain": [
       "EmbeddableWidget(value='<iframe srcdoc=\"<!DOCTYPE html>\\n<html>\\n  <head>\\n    <meta http-equiv=&quot;Content-…"
      ]
     },
     "metadata": {},
     "output_type": "display_data"
    }
   ],
   "source": [
    "points = np.stack([x, y, z], axis=-1)\n",
    "velocity = np.stack([u_x, u_y, u_z], axis=-1)\n",
    "ones = np.ones(velocity.shape[0])\n",
    "\n",
    "pl = pv.Plotter()\n",
    "grid = pv.PolyData(points)\n",
    "grid[\"v\"] = velocity\n",
    "grid[\"v_mag\"] = np.linalg.norm(velocity, axis=1)\n",
    "grid[\"ones\"] = ones\n",
    "# pl.add_mesh(grid)\n",
    "glyphs = grid.glyph(orient=\"v\", scale=\"v\", factor=10000)\n",
    "pl.add_mesh(glyphs)\n",
    "pl.show_axes()\n",
    "pl.camera_position = \"xz\" \n",
    "pl.show()"
   ]
  },
  {
   "cell_type": "markdown",
   "id": "2bb699a9",
   "metadata": {},
   "source": [
    "### 1.2 Implement a `Sphere` class for the ease of use\n",
    "\n",
    "We consider the bubbles as a sphere object, which is defined by a radius `a` and a position `pos`. If moving at a velocity `U`, it generates a Oseen wake that induces lift on another sphere. In this sense, the Oseen wake is a property associated with the moving sphere. Also, the surface locations are also properties of a sphere. To structure the code in a more efficient and convenient way, we construct a `Sphere` class, where these properties are computed internally based on the radius and position. "
   ]
  },
  {
   "cell_type": "code",
   "execution_count": 40,
   "id": "200fa2b7",
   "metadata": {},
   "outputs": [],
   "source": [
    "class Sphere:\n",
    "    \"\"\"Compute the flow field in a Oseen wake. The flow field is characterized by two regions: a Stokeslet in the low Reynolds region and a compensating flow \"\"\"\n",
    "    def __init__(self, a, U=0, rho=1e3, mu=1e-3):\n",
    "        self.a = a # bubble radius\n",
    "        self.U = U # upward velocity (only upward!)\n",
    "        self.rho = rho # density\n",
    "        self.mu = mu # viscosity\n",
    "        self.pos = np.array([0, 0, 0]) # bubble position\n",
    "        self.surf_coords, self.unit_normals, self.ds = self._compute_surface_coords()\n",
    "        self.unit_tangents = self._compute_surface_tangent_xz()\n",
    "\n",
    "    def Oseen_wake(self, points):\n",
    "        \"\"\"Compute Oseen wake at given points. \n",
    "\n",
    "        Args:\n",
    "        points -- should be an array of (npts, 3), the points to evaluate Oseen wake flow field.\n",
    "\n",
    "        Returns: \n",
    "        flow -- the flow velocity at each given point, also (npts, 3).\n",
    "        \"\"\"\n",
    "        U = self.U\n",
    "        a = self.a\n",
    "        rho = self.rho\n",
    "        mu = self.mu\n",
    "        Re = rho * a * U / mu\n",
    "\n",
    "        x, y, z = points[:, 0], points[:, 1], points[:, 2]\n",
    "        r = (x**2 + y**2 + z**2) ** 0.5\n",
    "        sint = (x**2 + y**2)**0.5 / r\n",
    "        cost = z / r\n",
    "        sinp = y / (x**2 + y**2)**0.5\n",
    "        cosp = x / (x**2 + y**2)**0.5\n",
    "\n",
    "        u_r = U * ( \n",
    "            - a**3 * cost / 2 / r**3 \n",
    "            + 3 * a**2 / (2 * r**2 * Re) * (\n",
    "                1 - np.exp(- r * Re / 2 / a * (1 + cost))\n",
    "            )\n",
    "            - 3 * a * (1 - cost) / 4 / r * np.exp(- r * Re / 2 / a * (1 + cost))\n",
    "        )\n",
    "        u_t = U * (\n",
    "            - a**3 * sint / 4 / r**3 \n",
    "            - 3 * a * sint / 4 / r * np.exp(- r * Re / 2 / a * (1 + cost))\n",
    "        )\n",
    "        u_p = 0\n",
    "\n",
    "        u_x = u_r * sint * cosp + u_t * cost * cosp - u_p * sinp\n",
    "        u_y = u_r * sint * sinp + u_t * cost * sinp + u_p * cosp\n",
    "        u_z = u_r * cost - u_t * sint\n",
    "\n",
    "        # The velocity diverges at r=0, implying that this velocity should be considered as \"far field\" velocity\n",
    "        # thus, we mask out all the velocities inside the imaginary shpere, where r <= a\n",
    "        invalid = r <= a\n",
    "        u_x[invalid] = 0\n",
    "        u_y[invalid] = 0\n",
    "        u_z[invalid] = 0\n",
    "\n",
    "        return np.stack([u_x, u_y, u_z], axis=-1)\n",
    "    \n",
    "    def get_pos(self):\n",
    "        return self.pos\n",
    "    \n",
    "    def set_pos(self, pos):\n",
    "        self.pos = np.array(pos)\n",
    "\n",
    "    def _compute_surface_coords(self, nside=4):\n",
    "        \"\"\"Compute the coordinates of the surface differential area and surface unit normal vectors.\n",
    "        \n",
    "        Args:\n",
    "        nside -- controls how many parts the spherical surface is to be divided, utilizing the `healpy` package. Has to be power of 2. The number of parts will be 12*nside**2.\n",
    "        \n",
    "        Returns:\n",
    "        surface_coords -- coordinates of surface differential area __relative to the center__ of the sphere.\n",
    "        unit_normals -- unit normal vectors corresponding to the surface locations.\n",
    "        differential_surface_area -- the area of each differential surface unit.\"\"\"\n",
    "\n",
    "        R = self.a\n",
    "        npix = hp.nside2npix(nside)\n",
    "\n",
    "        # Get spherical coordinates (theta, phi) of each pixel center\n",
    "        theta, phi = hp.pix2ang(nside, np.arange(npix))\n",
    "\n",
    "        x = R * np.sin(theta) * np.cos(phi) \n",
    "        y = R * np.sin(theta) * np.sin(phi) \n",
    "        z = R * np.cos(theta)\n",
    "        surface_coords = np.stack([x, y, z], axis=-1)\n",
    "        unit_normals = surface_coords / np.linalg.norm(surface_coords, axis=-1, keepdims=True)\n",
    "        differential_surface_area = 4 * np.pi * R**2 / npix\n",
    "        return surface_coords, unit_normals, differential_surface_area\n",
    "    \n",
    "    def _compute_surface_tangent_xz(self):\n",
    "        \"\"\"Compute sphere surface tangential unit vectors, specifically their projections on the xz plane.\"\"\"\n",
    "        tangent = np.zeros_like(self.unit_normals)\n",
    "        tangent[:, 0] = self.unit_normals[:, 2]\n",
    "        tangent[:, 2] = - self.unit_normals[:, 0]\n",
    "        return tangent / np.linalg.norm(tangent, axis=1, keepdims=True)"
   ]
  },
  {
   "cell_type": "code",
   "execution_count": 41,
   "id": "a85f5253",
   "metadata": {},
   "outputs": [],
   "source": [
    "U = 1.0e-4\n",
    "a = .2\n",
    "im = Sphere(a, U=U) # the imaginary bubble instance\n",
    "re = Sphere(a) # the real bubble instance\n",
    "re.set_pos([.5, 0, -.5]) # set real bubble to be away from the imaginary bubble"
   ]
  },
  {
   "cell_type": "code",
   "execution_count": 42,
   "id": "0a89c752",
   "metadata": {},
   "outputs": [
    {
     "data": {
      "application/vnd.jupyter.widget-view+json": {
       "model_id": "19f813a21ca64af285207080486683e8",
       "version_major": 2,
       "version_minor": 0
      },
      "text/plain": [
       "EmbeddableWidget(value='<iframe srcdoc=\"<!DOCTYPE html>\\n<html>\\n  <head>\\n    <meta http-equiv=&quot;Content-…"
      ]
     },
     "metadata": {},
     "output_type": "display_data"
    }
   ],
   "source": [
    "# check the surface coordinates calculation\n",
    "grid = pv.PolyData(re.surf_coords)\n",
    "pl = pv.Plotter(window_size=(400, 400))\n",
    "grid[\"normal\"] = re.unit_normals\n",
    "glyph = grid.glyph(orient=\"normal\", scale=\"normal\", factor=.05)\n",
    "pl.add_mesh(grid)\n",
    "pl.add_mesh(glyph)\n",
    "pl.show()"
   ]
  },
  {
   "cell_type": "code",
   "execution_count": 43,
   "id": "d040fc31",
   "metadata": {},
   "outputs": [],
   "source": [
    "# Check the flow around the bubble\n",
    "rel_pos = re.surf_coords - re.pos - im.pos # calculated the relative position between the surface of real sphere and the center of the imaginary sphere\n",
    "flow = im.Oseen_wake(rel_pos)"
   ]
  },
  {
   "cell_type": "code",
   "execution_count": 44,
   "id": "de0aa378",
   "metadata": {},
   "outputs": [],
   "source": [
    "# do multiple spheres around a imaginary sphere that generates Oseen Wake\n",
    "locs = [(0, 0, -0.5), (0.5, 0, -0.5), (1, 0, -0.5),\n",
    "        (0, 0, -1  ), (0.5, 0, -1.0), (1, 0, -1),\n",
    "        (0.5, 0, 0) , (1.0, 0, 0)]\n",
    "spheres = []\n",
    "for loc in locs:\n",
    "    s = Sphere(a)\n",
    "    s.set_pos(loc)\n",
    "    spheres.append(s)"
   ]
  },
  {
   "cell_type": "code",
   "execution_count": 45,
   "id": "ae3ebe27",
   "metadata": {},
   "outputs": [
    {
     "data": {
      "application/vnd.jupyter.widget-view+json": {
       "model_id": "11c8561d01604467b3754543e9648d66",
       "version_major": 2,
       "version_minor": 0
      },
      "text/plain": [
       "EmbeddableWidget(value='<iframe srcdoc=\"<!DOCTYPE html>\\n<html>\\n  <head>\\n    <meta http-equiv=&quot;Content-…"
      ]
     },
     "metadata": {},
     "output_type": "display_data"
    }
   ],
   "source": [
    "# direction of the flow\n",
    "pl = pv.Plotter()\n",
    "mesh = pv.Sphere(radius=im.a, center=im.pos)\n",
    "pl.add_mesh(mesh, opacity=0.3)\n",
    "for re in spheres:\n",
    "    rel_pos = re.surf_coords + re.pos - im.pos\n",
    "    flow = im.Oseen_wake(rel_pos)\n",
    "    grid = pv.PolyData(re.pos + re.surf_coords)\n",
    "    mesh = pv.Sphere(radius=re.a, center=re.pos)\n",
    "    grid[\"flow\"] = flow\n",
    "    grid[\"normal\"] = np.linalg.norm(re.unit_normals, axis=1)\n",
    "    glyph = grid.glyph(orient=\"flow\", scale=\"normal\", factor=.1)\n",
    "    pl.add_mesh(mesh)\n",
    "    pl.add_mesh(glyph)\n",
    "pl.add_axes()\n",
    "pl.camera_position = \"xz\"\n",
    "pl.show()"
   ]
  },
  {
   "cell_type": "code",
   "execution_count": 48,
   "id": "1b527b3c",
   "metadata": {},
   "outputs": [
    {
     "data": {
      "application/vnd.jupyter.widget-view+json": {
       "model_id": "b375450a10154739aba46f4e29cd2e7d",
       "version_major": 2,
       "version_minor": 0
      },
      "text/plain": [
       "EmbeddableWidget(value='<iframe srcdoc=\"<!DOCTYPE html>\\n<html>\\n  <head>\\n    <meta http-equiv=&quot;Content-…"
      ]
     },
     "metadata": {},
     "output_type": "display_data"
    }
   ],
   "source": [
    "pl = pv.Plotter()\n",
    "mesh = pv.Sphere(radius=im.a, center=im.pos)\n",
    "pl.add_mesh(mesh, opacity=0.3)\n",
    "for re in spheres:\n",
    "    rel_pos = re.surf_coords + re.pos - im.pos\n",
    "    flow = im.Oseen_wake(rel_pos)\n",
    "    # clip the velocity data\n",
    "    max_mag = 0.001\n",
    "    # Normalize and rescale any vector > max_mag\n",
    "    mag = np.linalg.norm(flow, axis=1)\n",
    "    scale = np.minimum(1.0, max_mag / (mag + 1e-12))  # Avoid divide-by-zero\n",
    "    flow_clipped = flow * scale[:, np.newaxis]\n",
    "    grid = pv.PolyData(re.pos + re.surf_coords)\n",
    "    mesh = pv.Sphere(radius=re.a, center=re.pos)\n",
    "    grid[\"flow\"] = flow_clipped\n",
    "    grid[\"normal\"] = np.linalg.norm(re.unit_normals, axis=1)\n",
    "    glyph = grid.glyph(orient=\"flow\", scale=\"flow\", factor=20000)\n",
    "    pl.add_mesh(mesh)\n",
    "    pl.add_mesh(glyph)\n",
    "pl.add_axes()\n",
    "pl.camera_position = \"xz\"\n",
    "pl.show()"
   ]
  },
  {
   "attachments": {
    "Oseen_wake.jpg": {
     "image/jpeg": "[encoded data removed]"
    }
   },
   "cell_type": "markdown",
   "id": "2582685b",
   "metadata": {},
   "source": [
    "## 2 Velocity on a spherical shell\n",
    "\n",
    "In the simulation, we want to compute the velocity (i.e. the shear force) acting on the whole bubble surface and integrate the effect. In this section, we implement this calculation by\n",
    "\n",
    "1. Identifying surface locations and normals (done in Sphere class);\n",
    "2. Getting flow field at each location (done in Sphere class);\n",
    "3. Computing tangential projections;\n",
    "4. Integrating over the surface.\n",
    "\n",
    "We consider two bubbles, one imaginary and one real, as sketched below. The imaginary bubble generates and Oseen wake, which drives the rotation and translation of the real bubble. \n",
    "\n",
    "![Oseen_wake.jpg](attachment:Oseen_wake.jpg)"
   ]
  },
  {
   "cell_type": "markdown",
   "id": "2324b35e",
   "metadata": {},
   "source": [
    "We calculate the average circulation $\\bar\\Gamma$ as\n",
    "\n",
    "$$\n",
    "\\bar\\Gamma = \\frac{1}{2a} \\int_S u_s \\; dS,\n",
    "$$\n",
    "\n",
    "where $a$ is the radius of bubble and $u_s$ is the projection of velocity on the spherical surface. Furthermore, since we only consider vorticity in the $xz$ plane, we also project the velocity in the $xz$ plane. \n",
    "\n",
    "Then, we calculate an approximated local vorticity as\n",
    "\n",
    "$$\n",
    "\\bar\\omega \\approx \\frac{1}{\\pi a^2} \\bar\\Gamma.\n",
    "$$\n",
    "\n",
    "The lift force $F_l$ points to the left if the circulation is CW, and has the form\n",
    "\n",
    "$$\n",
    "F_l = C_l \\mathbf{\\bar\\omega} \\times \\mathbf{U} \n",
    "$$\n",
    "\n",
    "where $C_l$ is the lift coefficient, and $\\mathbf{U}$ is the velocity of the bubble. "
   ]
  },
  {
   "cell_type": "markdown",
   "id": "2d9156c4",
   "metadata": {},
   "source": [
    "$$\n",
    "F_l =  \\frac{C_l}{\\pi a^2} \\bar\\Gamma \\times \\mathbf{U}\n",
    "$$"
   ]
  },
  {
   "cell_type": "markdown",
   "id": "ae3fec96",
   "metadata": {},
   "source": [
    "### 2.1 Compute unit tangents"
   ]
  },
  {
   "cell_type": "code",
   "execution_count": 19,
   "id": "45c7a97b",
   "metadata": {},
   "outputs": [],
   "source": [
    "U = 1.0e-4\n",
    "a = .2\n",
    "im = Sphere(a, U=U) # the imaginary bubble instance\n",
    "re = Sphere(a) # the real bubble instance\n",
    "re.set_pos([.3, 0, -.5]) # set real bubble to be away from the imaginary bubble"
   ]
  },
  {
   "cell_type": "code",
   "execution_count": 20,
   "id": "0e1a4686",
   "metadata": {},
   "outputs": [
    {
     "data": {
      "image/png": "[encoded data removed]",
      "text/plain": [
       "<PIL.Image.Image image mode=RGB size=400x400>"
      ]
     },
     "metadata": {},
     "output_type": "display_data"
    }
   ],
   "source": [
    "grid = pv.PolyData(re.surf_coords)\n",
    "mesh = pv.Sphere(radius=re.a)\n",
    "pl = pv.Plotter(window_size=(400, 400))\n",
    "grid[\"tangents\"] = re.unit_tangents\n",
    "glyph = grid.glyph(orient=\"tangents\", scale=\"tangents\", factor=.05)\n",
    "pl.add_mesh(mesh)\n",
    "pl.add_mesh(glyph)\n",
    "pl.camera_position = \"xz\"\n",
    "pl.show()"
   ]
  },
  {
   "cell_type": "markdown",
   "id": "8d15532b",
   "metadata": {},
   "source": [
    "### 2.2 Compute the integration of the tangential projection"
   ]
  },
  {
   "cell_type": "code",
   "execution_count": 21,
   "id": "6f4bbbef",
   "metadata": {},
   "outputs": [],
   "source": [
    "rel_pos = re.surf_coords + re.pos - im.pos\n",
    "flow = im.Oseen_wake(rel_pos)\n",
    "flow_surf_xz = (flow * re.unit_tangents).sum(axis=1)"
   ]
  },
  {
   "cell_type": "code",
   "execution_count": 22,
   "id": "29e92a1b",
   "metadata": {},
   "outputs": [
    {
     "data": {
      "image/png": "[encoded data removed]",
      "text/plain": [
       "<PIL.Image.Image image mode=RGB size=400x400>"
      ]
     },
     "metadata": {},
     "output_type": "display_data"
    }
   ],
   "source": [
    "grid = pv.PolyData(re.surf_coords)\n",
    "mesh = grid.delaunay_3d()\n",
    "pl = pv.Plotter(window_size=(400, 400))\n",
    "mesh[\"flow\"] = flow_surf_xz\n",
    "pl.add_mesh(mesh, scalars=\"flow\", clim=[-100, 100], cmap=\"seismic\")\n",
    "pl.camera_position = \"xz\"\n",
    "pl.show_axes()\n",
    "pl.show()"
   ]
  },
  {
   "cell_type": "markdown",
   "id": "5cac4a68",
   "metadata": {},
   "source": [
    "### 2.3 Compute lift force\n",
    "\n",
    "$$\n",
    "F_l =  \\frac{C_l}{\\pi a^2} \\bar\\Gamma \\times \\mathbf{U}\n",
    "$$\n",
    "\n",
    "where $a$ is the bubble radius, $\\bar\\Gamma$ is the mean circulation and $\\mathbf{U}$ is the velocity of the bubble. \n",
    "\n",
    "The circulation $\\Gamma$ has the unit of length^2/time."
   ]
  },
  {
   "cell_type": "code",
   "execution_count": null,
   "id": "e9818c30",
   "metadata": {},
   "outputs": [],
   "source": [
    "def compute_lift(a, surface_flow, ds, U, lift_coef=1.0):\n",
    "    \"\"\"Compute the circulation induced by the Oseen wake flow. We use the following formula\n",
    "    \n",
    "    Gamma = 1/2a \\int_S u_s dS\n",
    "    lift = 4 * np.pi * a**3 / 3 * lift_coef / np.pi / a**2 * (Gamma x U)\n",
    "\n",
    "    Parameters\n",
    "    ----------\n",
    "    a : float\n",
    "        bubble radius\n",
    "    surface_flow : ndarray[float]\n",
    "        flow field projection on the intersection between bubble surface and xy plane\n",
    "    ds : float\n",
    "        differential area on the bubble surface\n",
    "    U : float\n",
    "        bubble velocity\n",
    "    lift_coef : float\n",
    "        lift coefficient\n",
    "    \n",
    "    Return\n",
    "    ------\n",
    "    lift : float\n",
    "        lift force\n",
    "\n",
    "    Note\n",
    "    ----\n",
    "    The definition of surface tangents in the Bubble class dictates that positive Gamma represents CW rotation, where the direction of vorticity points in +z. Therefore, the vector form Gamma should be the magnitude times e_z. \n",
    "\n",
    "    Example\n",
    "    -------\n",
    "    >>> flow = im.Oseen_wake(re.surf_coords+re.pos)\n",
    "    >>> surface_flow = flow * re.unit_tangents\n",
    "    >>> lift = compute_lift(a, surface_flow, re.ds, re.U)\n",
    "    \"\"\"\n",
    "    \n",
    "    Gamma = 1 / 2 / a * surface_flow.sum() * ds * np.array([0, 0, 1])\n",
    "    lift = 4 * np.pi * a**3 / 3 * lift_coef / np.pi / a**2 * np.cross(Gamma, U)\n",
    "    return lift"
   ]
  },
  {
   "cell_type": "code",
   "execution_count": 16,
   "id": "658ed6b7",
   "metadata": {},
   "outputs": [],
   "source": [
    "a = 6e-4\n",
    "theta = 22.5 / 180 * np.pi\n",
    "U_im = 3e-1 * np.array([np.sin(theta), -np.cos(theta), 0])\n",
    "U_re = 3e-1 * np.array([np.sin(theta), np.cos(theta), 0])\n",
    "im = Bubble(a, U=U_im) # the imaginary bubble instance\n",
    "re = Bubble(a, U=U_re) # the real bubble instance\n",
    "re.set_pos([a, -a, 0]) # set real bubble to be away from the imaginary bubble"
   ]
  },
  {
   "cell_type": "code",
   "execution_count": 17,
   "id": "c6f9bc98",
   "metadata": {},
   "outputs": [],
   "source": [
    "flow = im.Oseen_wake(re.surf_coords+re.pos)\n",
    "surface_flow = flow * re.unit_tangents\n",
    "lift = compute_lift(a, surface_flow, re.ds, re.U)"
   ]
  },
  {
   "cell_type": "code",
   "execution_count": 19,
   "id": "718a09d5",
   "metadata": {},
   "outputs": [
    {
     "data": {
      "text/plain": [
       "array([ 2.19340081e-09, -9.08536364e-10,  0.00000000e+00])"
      ]
     },
     "execution_count": 19,
     "metadata": {},
     "output_type": "execute_result"
    }
   ],
   "source": [
    "lift"
   ]
  },
  {
   "cell_type": "markdown",
   "id": "e0c32e3d",
   "metadata": {},
   "source": [
    "## 3 Oseen wake of an off-axis velocity\n",
    "\n",
    "In the original formulation, the flow velocity is fixed in $\\theta=0$ direction. This is general because of the rotational symmetry of the spherical coordinates. However, when convert to Cartesian coordinates, we need to consider the velocity of bubble in any directions, i.e., $U$ should be a vector."
   ]
  },
  {
   "cell_type": "markdown",
   "id": "1b1570a1",
   "metadata": {},
   "source": [
    "### 3.1 Original flow assuming velocity in $z$"
   ]
  },
  {
   "cell_type": "code",
   "execution_count": 2,
   "id": "3b2b2b52",
   "metadata": {},
   "outputs": [],
   "source": [
    "# define bubble and tilted surface\n",
    "a = 6e-4\n",
    "theta = np.pi / 8 # tilted angle\n",
    "U = 0.1 * np.array([np.sin(theta), -np.cos(theta), 0])"
   ]
  },
  {
   "cell_type": "code",
   "execution_count": 5,
   "id": "fa8cf846",
   "metadata": {},
   "outputs": [],
   "source": [
    "# construct the grid\n",
    "lim = 3*a\n",
    "N = 10\n",
    "bubble = Bubble(a, np.linalg.norm(U))\n",
    "points = bubble._grid()\n",
    "points = Vector(points)"
   ]
  },
  {
   "cell_type": "code",
   "execution_count": 6,
   "id": "e4e7a7a2",
   "metadata": {},
   "outputs": [],
   "source": [
    "# compute the raw Oseen wake flow, assuming z velocity\n",
    "flow = Vector(bubble.Oseen_wake(points))"
   ]
  },
  {
   "cell_type": "code",
   "execution_count": 7,
   "id": "c5b8e044",
   "metadata": {},
   "outputs": [
    {
     "data": {
      "application/vnd.jupyter.widget-view+json": {
       "model_id": "a1f6092001dc4993a116be03ae74aee0",
       "version_major": 2,
       "version_minor": 0
      },
      "text/plain": [
       "Widget(value='<iframe src=\"http://localhost:64685/index.html?ui=P_0x105d4bf10_0&reconnect=auto\" class=\"pyvista…"
      ]
     },
     "metadata": {},
     "output_type": "display_data"
    }
   ],
   "source": [
    "grid = pv.PolyData(points)\n",
    "grid[\"v\"] = flow\n",
    "glyph = grid.glyph(orient=\"v\", scale=\"v\", factor=0.02)\n",
    "pl = pv.Plotter()\n",
    "pl.show_axes()\n",
    "pl.add_mesh(glyph)\n",
    "pl.show()"
   ]
  },
  {
   "cell_type": "markdown",
   "id": "aed661c0",
   "metadata": {},
   "source": [
    "### 3.2 Determine rotation axis $k$ and angle $\\alpha$"
   ]
  },
  {
   "cell_type": "code",
   "execution_count": 8,
   "id": "484d6f01",
   "metadata": {},
   "outputs": [],
   "source": [
    "zn = np.array([0, 0, 1])\n",
    "U_unit = U / np.linalg.norm(U)"
   ]
  },
  {
   "cell_type": "code",
   "execution_count": 9,
   "id": "0e925de7",
   "metadata": {},
   "outputs": [],
   "source": [
    "def _compute_rotation_axis_and_angle(U_unit, zn):\n",
    "    \"\"\"Compute the rotation axis and angle to rotate the flow field from z direction to U_unit direction.\"\"\"\n",
    "    k = np.cross(zn, U_unit)\n",
    "    k /= np.linalg.norm(k)\n",
    "    cos_alpha = np.dot(zn, U_unit)\n",
    "    alpha = np.arccos(cos_alpha)\n",
    "    return k, alpha"
   ]
  },
  {
   "cell_type": "code",
   "execution_count": 10,
   "id": "a8d1193f",
   "metadata": {},
   "outputs": [],
   "source": [
    "k, alpha = _compute_rotation_axis_and_angle(U_unit, zn)"
   ]
  },
  {
   "cell_type": "code",
   "execution_count": 11,
   "id": "86c8f772",
   "metadata": {},
   "outputs": [],
   "source": [
    "points_rotated = points.rotate(k, alpha)\n",
    "flow_rotated = flow.rotate(k, alpha)"
   ]
  },
  {
   "cell_type": "code",
   "execution_count": 12,
   "id": "319730bd",
   "metadata": {},
   "outputs": [
    {
     "data": {
      "application/vnd.jupyter.widget-view+json": {
       "model_id": "9b0a99b43cf2473f8747af0f244ff524",
       "version_major": 2,
       "version_minor": 0
      },
      "text/plain": [
       "Widget(value='<iframe src=\"http://localhost:64685/index.html?ui=P_0x105769a90_1&reconnect=auto\" class=\"pyvista…"
      ]
     },
     "metadata": {},
     "output_type": "display_data"
    }
   ],
   "source": [
    "grid = pv.PolyData(points_rotated)\n",
    "grid[\"v\"] = flow_rotated\n",
    "bb = pv.Sphere(radius=bubble.a, center=bubble.pos)\n",
    "glyph = grid.glyph(orient=\"v\", scale=\"v\", factor=0.02)\n",
    "pl = pv.Plotter()\n",
    "pl.show_axes()\n",
    "pl.add_mesh(glyph)\n",
    "pl.add_mesh(bb, color=\"orange\", opacity=0.5)\n",
    "pl.camera_position = [(0, 0, -.01),\n",
    "                      (0, 0, 0 ),\n",
    "                      U_unit]\n",
    "pl.show()"
   ]
  },
  {
   "cell_type": "markdown",
   "id": "b1fc7c15",
   "metadata": {},
   "source": [
    "### 3.4 Implement Bubble class that works for arbitrary U direction"
   ]
  },
  {
   "cell_type": "code",
   "execution_count": 2,
   "id": "b4c86d62",
   "metadata": {},
   "outputs": [],
   "source": [
    "# define bubble and tilted surface\n",
    "a = 6e-4\n",
    "theta = np.pi / 8 # tilted angle\n",
    "U = 0.1 * np.array([np.sin(theta), -np.cos(theta), 0])\n",
    "U_unit = U / np.linalg.norm(U)"
   ]
  },
  {
   "cell_type": "code",
   "execution_count": 3,
   "id": "b722e857",
   "metadata": {},
   "outputs": [],
   "source": [
    "im = Bubble(a, U)\n",
    "im.set_pos([0, -a, 0])\n",
    "re = Bubble(a, -U)\n",
    "re.set_pos([5*a, 3*a, 0])"
   ]
  },
  {
   "cell_type": "code",
   "execution_count": 4,
   "id": "ae21ba39",
   "metadata": {},
   "outputs": [],
   "source": [
    "flow = im.Oseen_wake(re.surf_coords + re.pos)"
   ]
  },
  {
   "cell_type": "code",
   "execution_count": 5,
   "id": "5de33331",
   "metadata": {},
   "outputs": [
    {
     "data": {
      "application/vnd.jupyter.widget-view+json": {
       "model_id": "c278c484ab0048d48d884cd5a1ba0583",
       "version_major": 2,
       "version_minor": 0
      },
      "text/plain": [
       "Widget(value='<iframe src=\"http://localhost:52570/index.html?ui=P_0x103fba880_0&reconnect=auto\" class=\"pyvista…"
      ]
     },
     "metadata": {},
     "output_type": "display_data"
    }
   ],
   "source": [
    "grid = pv.PolyData(re.surf_coords + re.pos)\n",
    "grid[\"v\"] = flow\n",
    "im_bb = pv.Sphere(radius=im.a, center=im.pos)\n",
    "re_bb = pv.Sphere(radius=re.a, center=re.pos)\n",
    "glyph = grid.glyph(orient=\"v\", scale=\"v\", factor=1)\n",
    "pl = pv.Plotter()\n",
    "pl.show_axes()\n",
    "pl.add_mesh(glyph)\n",
    "pl.add_mesh(im_bb, color=\"orange\", opacity=0.5, smooth_shading=True\n",
    "            )\n",
    "pl.add_mesh(re_bb, color=\"orange\", opacity=1, smooth_shading=True)\n",
    "pl.camera_position = [(0, 0, -.03),\n",
    "                      (0, 0, 0 ),\n",
    "                      U_unit]\n",
    "pl.show()"
   ]
  },
  {
   "cell_type": "code",
   "execution_count": 6,
   "id": "79f7738f",
   "metadata": {},
   "outputs": [],
   "source": [
    "flow_tan = (flow * re.unit_tangents).sum(axis=1, keepdims=True) * re.unit_tangents"
   ]
  },
  {
   "cell_type": "code",
   "execution_count": 7,
   "id": "27603f38",
   "metadata": {},
   "outputs": [
    {
     "data": {
      "application/vnd.jupyter.widget-view+json": {
       "model_id": "7d1229f85a8e4591a473a2a949b3b085",
       "version_major": 2,
       "version_minor": 0
      },
      "text/plain": [
       "Widget(value='<iframe src=\"http://localhost:52570/index.html?ui=P_0x30e0c1820_1&reconnect=auto\" class=\"pyvista…"
      ]
     },
     "metadata": {},
     "output_type": "display_data"
    }
   ],
   "source": [
    "grid = pv.PolyData(re.surf_coords + re.pos)\n",
    "grid[\"v\"] = flow_tan\n",
    "im_bb = pv.Sphere(radius=im.a, center=im.pos)\n",
    "re_bb = pv.Sphere(radius=re.a, center=re.pos)\n",
    "glyph = grid.glyph(orient=\"v\", scale=\"v\", factor=1)\n",
    "pl = pv.Plotter()\n",
    "pl.show_axes()\n",
    "pl.add_mesh(glyph)\n",
    "pl.add_mesh(im_bb, color=\"orange\", opacity=0.5, smooth_shading=True\n",
    "            )\n",
    "pl.add_mesh(re_bb, color=\"orange\", opacity=1, smooth_shading=True)\n",
    "pl.camera_position = [(0, 0, -.03),\n",
    "                      (0, 0, 0 ),\n",
    "                      U_unit]\n",
    "pl.show()"
   ]
  },
  {
   "cell_type": "code",
   "execution_count": null,
   "id": "35ecfc8e",
   "metadata": {},
   "outputs": [],
   "source": []
  },
  {
   "cell_type": "code",
   "execution_count": null,
   "id": "036c9451",
   "metadata": {},
   "outputs": [],
   "source": []
  },
  {
   "cell_type": "code",
   "execution_count": 12,
   "id": "fcbc4d26",
   "metadata": {},
   "outputs": [],
   "source": [
    "from dataclasses import dataclass, asdict"
   ]
  },
  {
   "cell_type": "code",
   "execution_count": 9,
   "id": "dfc753e8",
   "metadata": {},
   "outputs": [],
   "source": [
    "@dataclass\n",
    "class SimulationParams:\n",
    "    # Physical constants:\n",
    "    g: float = 9.8\n",
    "    mu: float = 1e-3\n",
    "    sigma: float = 72e-3\n",
    "    rho: float = 1e3\n",
    "    R: float = 6e-4\n",
    "    theta: float = 22.5\n",
    "\n",
    "    # Initial conditions:\n",
    "    V0: float = -0.3\n",
    "    H0: float = 1e-3\n",
    "\n",
    "    # Simulation control:\n",
    "    T: float = 0.2\n",
    "    rm: float = 1.2\n",
    "    N: int = 100\n",
    "    save_time: float = 1e-4"
   ]
  },
  {
   "cell_type": "code",
   "execution_count": 10,
   "id": "706095a7",
   "metadata": {},
   "outputs": [],
   "source": [
    "params = SimulationParams()"
   ]
  },
  {
   "cell_type": "code",
   "execution_count": 14,
   "id": "d16bbf0a",
   "metadata": {},
   "outputs": [],
   "source": [
    "d = asdict(params)"
   ]
  },
  {
   "cell_type": "code",
   "execution_count": 17,
   "id": "d99745eb",
   "metadata": {},
   "outputs": [],
   "source": [
    "with open(\"params.yaml\", \"w\") as f:\n",
    "    import yaml\n",
    "    yaml.dump(d, f)"
   ]
  },
  {
   "cell_type": "code",
   "execution_count": 27,
   "id": "d73eb767",
   "metadata": {},
   "outputs": [],
   "source": [
    "with open(\"params.yaml\", \"r\") as f:\n",
    "    d1 = yaml.safe_load(f)\n",
    "    params1 = type(params)(**d1)"
   ]
  },
  {
   "cell_type": "code",
   "execution_count": 28,
   "id": "d742423f",
   "metadata": {},
   "outputs": [
    {
     "data": {
      "text/plain": [
       "True"
      ]
     },
     "execution_count": 28,
     "metadata": {},
     "output_type": "execute_result"
    }
   ],
   "source": [
    "params1 == params"
   ]
  },
  {
   "cell_type": "code",
   "execution_count": 20,
   "id": "f8790078",
   "metadata": {},
   "outputs": [],
   "source": [
    "for kw in d:\n",
    "    if d[kw] != d1[kw]:\n",
    "        print(f\"Mismatch in {kw}: {d[kw]} != {d1[kw]}\")"
   ]
  },
  {
   "cell_type": "code",
   "execution_count": 23,
   "id": "f8547c1e",
   "metadata": {},
   "outputs": [
    {
     "data": {
      "text/plain": [
       "float"
      ]
     },
     "execution_count": 23,
     "metadata": {},
     "output_type": "execute_result"
    }
   ],
   "source": [
    "type(d[\"H0\"])"
   ]
  },
  {
   "cell_type": "markdown",
   "id": "d6bce4d3",
   "metadata": {},
   "source": []
  }
 ],
 "metadata": {
  "kernelspec": {
   "display_name": "py39",
   "language": "python",
   "name": "python3"
  },
  "language_info": {
   "codemirror_mode": {
    "name": "ipython",
    "version": 3
   },
   "file_extension": ".py",
   "mimetype": "text/x-python",
   "name": "python",
   "nbconvert_exporter": "python",
   "pygments_lexer": "ipython3",
   "version": "3.9.18"
  }
 },
 "nbformat": 4,
 "nbformat_minor": 5
}
