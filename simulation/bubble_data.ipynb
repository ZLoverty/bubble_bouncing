{
 "cells": [
  {
   "cell_type": "markdown",
   "id": "37669059",
   "metadata": {},
   "source": [
    "# Bubble data\n",
    "\n",
    "I have the idea of creating a class for the bubble data. The data we use are effectively np.ndarray, but it is convenient to have a few methods specific to our simulation, such as `get_center`, `get_edge`, etc. \n",
    "\n",
    "Another idea is it might be nice to have an interface to interact with the .h5 simulation data, to speed up visualization."
   ]
  },
  {
   "cell_type": "markdown",
   "id": "3c5daef0",
   "metadata": {},
   "source": [
    "## 0 Packages"
   ]
  },
  {
   "cell_type": "code",
   "execution_count": 1,
   "id": "4555e398",
   "metadata": {},
   "outputs": [],
   "source": [
    "import matplotlib.pyplot as plt\n",
    "import h5py\n",
    "from pathlib import Path\n",
    "import pyvista as pv\n",
    "pv.set_jupyter_backend(\"none\")\n",
    "import yaml\n",
    "import numpy as np\n",
    "import time"
   ]
  },
  {
   "cell_type": "markdown",
   "id": "87ee3095",
   "metadata": {},
   "source": [
    "## 1 Read data"
   ]
  },
  {
   "cell_type": "code",
   "execution_count": 2,
   "id": "7a3e42d4",
   "metadata": {},
   "outputs": [],
   "source": [
    "folder = Path(\"~/Documents/test\").expanduser().resolve()\n",
    "with h5py.File(folder / \"results\" / \"data.h5\", \"r\") as f:\n",
    "    t = f[\"t\"][:]\n",
    "    x = f[\"x\"][:]\n",
    "    h = f[\"h\"][:]"
   ]
  },
  {
   "cell_type": "code",
   "execution_count": 3,
   "id": "3d9e605f",
   "metadata": {},
   "outputs": [],
   "source": [
    "with open(folder / \"params.yaml\") as f:\n",
    "    params = yaml.safe_load(f)"
   ]
  },
  {
   "cell_type": "code",
   "execution_count": 4,
   "id": "f0b645b7",
   "metadata": {},
   "outputs": [],
   "source": [
    "mesh = np.load(folder / \"mesh.npy\")"
   ]
  },
  {
   "cell_type": "markdown",
   "id": "32d12f87",
   "metadata": {},
   "source": [
    "## 2 Plot trajectory using `matplotlib`"
   ]
  },
  {
   "cell_type": "code",
   "execution_count": 45,
   "id": "e60deeb7",
   "metadata": {},
   "outputs": [
    {
     "data": {
      "text/plain": [
       "(np.float64(-0.001007066046815768),\n",
       " np.float64(0.021148386983131127),\n",
       " np.float64(0.000283461556965733),\n",
       " np.float64(0.0017787170921948411))"
      ]
     },
     "execution_count": 45,
     "metadata": {},
     "output_type": "execute_result"
    },
    {
     "data": {
      "image/png": "[encoded data removed]",
      "text/plain": [
       "<Figure size 640x480 with 1 Axes>"
      ]
     },
     "metadata": {},
     "output_type": "display_data"
    }
   ],
   "source": [
    "plt.plot(x[:, 0], x[:, 1])\n",
    "plt.axis(\"equal\")"
   ]
  },
  {
   "cell_type": "markdown",
   "id": "f696fd20",
   "metadata": {},
   "source": [
    "## 3 Plot trajectory using `pyvista`"
   ]
  },
  {
   "cell_type": "code",
   "execution_count": 46,
   "id": "3fe89272",
   "metadata": {},
   "outputs": [
    {
     "data": {
      "application/vnd.jupyter.widget-view+json": {
       "model_id": "b4626faf015a4856b3166e7050782e28",
       "version_major": 2,
       "version_minor": 0
      },
      "text/plain": [
       "Widget(value='<iframe src=\"http://localhost:64185/index.html?ui=P_0x1591065d0_15&reconnect=auto\" class=\"pyvist…"
      ]
     },
     "metadata": {},
     "output_type": "display_data"
    }
   ],
   "source": [
    "traj = pv.PolyData(x[::])\n",
    "theta = params[\"theta\"] / 180 * np.pi\n",
    "up = np.array([np.sin(theta), -np.cos(theta), 0])\n",
    "pl = pv.Plotter()\n",
    "\n",
    "pl.camera_position = [(0, 0, -0.02),\n",
    "                      (0, 0, 0),\n",
    "                      up]\n",
    "pl.add_mesh(traj)\n",
    "pl.show_axes()\n",
    "pl.show()"
   ]
  },
  {
   "cell_type": "markdown",
   "id": "d237353c",
   "metadata": {},
   "source": [
    "## 4 Plot mesh shape using `pyvista`"
   ]
  },
  {
   "cell_type": "code",
   "execution_count": 49,
   "id": "7f017f4d",
   "metadata": {},
   "outputs": [
    {
     "data": {
      "application/vnd.jupyter.widget-view+json": {
       "model_id": "100a5324bb024bae82535cb08a6643b0",
       "version_major": 2,
       "version_minor": 0
      },
      "text/plain": [
       "Widget(value='<iframe src=\"http://localhost:64185/index.html?ui=P_0x1581ef320_18&reconnect=auto\" class=\"pyvist…"
      ]
     },
     "metadata": {},
     "output_type": "display_data"
    }
   ],
   "source": [
    "center = (\n",
    "        (x[:, 0].min() + x[:, 0].max()) / 2,\n",
    "        (x[:, 1].min() + x[:, 1].max()) / 2\n",
    ")\n",
    "                \n",
    "points = np.column_stack([mesh[:, 0], h[0], mesh[:, 2]])\n",
    "surf = pv.PolyData(points).delaunay_2d()\n",
    "theta = params[\"theta\"] / 180 * np.pi\n",
    "up = np.array([np.sin(theta), -np.cos(theta), 0])\n",
    "pl = pv.Plotter()\n",
    "pl.camera_position = [(center[0], center[1], -0.05),\n",
    "                      (center[0], center[1], 0),\n",
    "                      up]\n",
    "pl.add_mesh(surf)\n",
    "pl.show_axes()\n",
    "pl.enable_anti_aliasing()\n",
    "pl.show()"
   ]
  },
  {
   "cell_type": "markdown",
   "id": "15fbee16",
   "metadata": {},
   "source": [
    "## 5 Live update `pyvista` canvas"
   ]
  },
  {
   "cell_type": "code",
   "execution_count": 22,
   "id": "3f68d216",
   "metadata": {},
   "outputs": [
    {
     "name": "stdout",
     "output_type": "stream",
     "text": [
      "469\r"
     ]
    }
   ],
   "source": [
    "R = params[\"R\"]\n",
    "sphere = pv.PolyData(x[0, :])\n",
    "surface = pv.Box((-0.04, 0.04, -0.001, 0, -0.01, 0.01))\n",
    "theta = params[\"theta\"] / 180 * np.pi\n",
    "up = np.array([np.sin(theta), -np.cos(theta), 0])\n",
    "\n",
    "pl = pv.Plotter(notebook=False)\n",
    "\n",
    "pl.add_mesh(sphere, point_size=1000000*R, render_points_as_spheres=True)\n",
    "pl.add_mesh(\n",
    "    surface,\n",
    "    color='steelblue',       # Set a solid color\n",
    "    show_edges=True,         # Show the edges to define the box shape\n",
    "    edge_color='black',      # Make edges black for better contrast\n",
    "    smooth_shading=True,     # Smooth the appearance of the faces\n",
    "    lighting=True            # Ensure lighting is enabled for 3D appearance\n",
    ")\n",
    "pl.add_ruler(\n",
    "    pointa=(0.0, 0.0, 0.0),\n",
    "    pointb=(0.04, 0.0, 0.0)\n",
    ")\n",
    "pl.camera_position = [(x[0, 1]*np.sin(theta)+10*R, 0, -30*R),\n",
    "                      (x[0, 1]*np.sin(theta)+10*R, 0, 0),\n",
    "                      up]\n",
    "# pl.show_axes()\n",
    "# pl.show_bounds = True\n",
    "# pl.show_grid()\n",
    "pl.show(interactive_update=True)\n",
    "\n",
    "for i in range(0, len(x), 1):\n",
    "    sphere.points = x[i]\n",
    "    print(i, end=\"\\r\")\n",
    "    pl.update()\n",
    "    time.sleep(0.05)\n",
    "pl.show()"
   ]
  }
 ],
 "metadata": {
  "kernelspec": {
   "display_name": "py12",
   "language": "python",
   "name": "python3"
  },
  "language_info": {
   "codemirror_mode": {
    "name": "ipython",
    "version": 3
   },
   "file_extension": ".py",
   "mimetype": "text/x-python",
   "name": "python",
   "nbconvert_exporter": "python",
   "pygments_lexer": "ipython3",
   "version": "3.12.11"
  }
 },
 "nbformat": 4,
 "nbformat_minor": 5
}
