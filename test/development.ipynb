{
 "cells": [
  {
   "cell_type": "markdown",
   "metadata": {},
   "source": [
    "# Development\n",
    "\n",
    "This notebook is meant for developing the bubble bouncing simulation code."
   ]
  },
  {
   "cell_type": "markdown",
   "metadata": {},
   "source": [
    "## 0 Packages"
   ]
  },
  {
   "cell_type": "code",
   "execution_count": 16,
   "metadata": {},
   "outputs": [],
   "source": [
    "import numpy as np\n",
    "import matplotlib.pyplot as plt\n",
    "import time\n",
    "from scipy.sparse import diags, kron, identity, csr_matrix"
   ]
  },
  {
   "cell_type": "markdown",
   "metadata": {},
   "source": [
    "## 1 Sparse matrix?\n",
    "\n",
    "I've seen people using sparse matrix to formulate differential equations. Is it faster? Here, let's give it a test. \n",
    "\n",
    "The example task is to compute the laplacian of $h$:\n",
    "\n",
    "$$\n",
    "\\nabla^2 h = \\frac{\\partial^2 h}{\\partial x^2} + \\frac{\\partial^2 h}{\\partial y^2}\n",
    "$$"
   ]
  },
  {
   "cell_type": "markdown",
   "metadata": {},
   "source": [
    "The most straightforward method is to compute the $x$ and $y$ terms separately, then sum them. "
   ]
  },
  {
   "cell_type": "code",
   "execution_count": 25,
   "metadata": {},
   "outputs": [],
   "source": [
    "# prepare the data\n",
    "N = 100\n",
    "h = np.random.rand(N, N)\n",
    "\n",
    "# compute dx and dy \n",
    "global dx, dy\n",
    "x = np.linspace(-1, 1, N)\n",
    "y = np.linspace(-1, 1, N)\n",
    "X, Y = np.meshgrid(x, y)\n",
    "dx = np.gradient(X, axis=1, edge_order=2)\n",
    "dy = np.gradient(Y, axis=0, edge_order=2)\n",
    "\n",
    "# compute the Laplacian operator\n",
    "global L2D\n",
    "# 1D Laplacian matrix for finite difference\n",
    "diagonals = [-2 * np.ones(N), np.ones(N-1), np.ones(N-1)]\n",
    "L1D = diags(diagonals, [0, -1, 1], format=\"csr\") / dx**2\n",
    "\n",
    "# 2D Laplacian using Kronecker product\n",
    "L2D = kron(identity(N), L1D) + kron(L1D, identity(N))"
   ]
  },
  {
   "cell_type": "code",
   "execution_count": 22,
   "metadata": {},
   "outputs": [],
   "source": [
    "def laplacian(h):\n",
    "    \"\"\"\n",
    "    Compute the Laplacian of a 2D array using finite differences.\n",
    "    \"\"\"\n",
    "    d2hdx = np.gradient(np.gradient(h, axis=1, edge_order=2), axis=1, edge_order=2) / dx**2\n",
    "    d2hdy = np.gradient(np.gradient(h, axis=0, edge_order=2), axis=0, edge_order=2) / dy**2\n",
    "    return d2hdx +d2hdy"
   ]
  },
  {
   "cell_type": "code",
   "execution_count": 26,
   "metadata": {},
   "outputs": [],
   "source": [
    "def laplacian_sparse(h):\n",
    "    \"\"\"\n",
    "    Compute the Laplacian of a 2D array using sparse matrix representation.\n",
    "    \"\"\"\n",
    "    \n",
    "    return L2D @ h.flatten()"
   ]
  },
  {
   "cell_type": "code",
   "execution_count": 28,
   "metadata": {},
   "outputs": [
    {
     "name": "stdout",
     "output_type": "stream",
     "text": [
      "np.gradient takes 1.87 seconds\n",
      "sparse matrix takes 0.46 seconds\n"
     ]
    }
   ],
   "source": [
    "t0 = time.time()\n",
    "for i in range(10000):\n",
    "    laplacian(h)\n",
    "t1 = time.time()\n",
    "print(f\"np.gradient takes {t1 - t0:.2f} seconds\")\n",
    "t0 = time.time()\n",
    "for i in range(10000):\n",
    "    laplacian_sparse(h)\n",
    "t1 = time.time()\n",
    "print(f\"sparse matrix takes {t1 - t0:.2f} seconds\")"
   ]
  },
  {
   "cell_type": "markdown",
   "metadata": {},
   "source": [
    "Therefore, using sparse matrix can greatly speed up the computation. "
   ]
  },
  {
   "cell_type": "markdown",
   "metadata": {},
   "source": [
    "## 2 Apply boundary conditions in flattened array\n",
    "\n",
    "In square array, applying boundary conditions is straightforward: \n",
    "\n",
    "```\n",
    "h[:, 0], h[:, -1], h[0, :], h[-1, :]\n",
    "```\n",
    "\n",
    "when flattened, however, these points are not easy to find. To be able to identify the boundary points quickly with ease, we can define a boolean array `edge_ind` as\n",
    "\n",
    "```\n",
    "edge_ind = np.\n",
    "```"
   ]
  },
  {
   "cell_type": "code",
   "execution_count": null,
   "metadata": {},
   "outputs": [
    {
     "data": {
      "text/plain": [
       "<matplotlib.image.AxesImage at 0x1ea6104bbe0>"
      ]
     },
     "execution_count": 7,
     "metadata": {},
     "output_type": "execute_result"
    },
    {
     "data": {
      "image/png": "[encoded data removed]",
      "text/plain": [
       "<Figure size 640x480 with 1 Axes>"
      ]
     },
     "metadata": {},
     "output_type": "display_data"
    }
   ],
   "source": [
    "# Create a boolean array to mark the edges\n",
    "edge_ind = np.zeros((N, N), dtype=bool)\n",
    "edge_ind[:, 0], edge_ind[:, -1], edge_ind[0, :], edge_ind[-1, :] = True, True, True, True\n",
    "\n",
    "plt.imshow(edge_ind)"
   ]
  },
  {
   "cell_type": "code",
   "execution_count": 29,
   "metadata": {},
   "outputs": [],
   "source": [
    "diagonals = [-np.ones(N-1), np.ones(N-1)]\n",
    "D_x = diags(diagonals, [-1, 1], shape=(N, N))"
   ]
  },
  {
   "cell_type": "code",
   "execution_count": 20,
   "metadata": {},
   "outputs": [],
   "source": [
    "D = D_x.toarray()"
   ]
  },
  {
   "cell_type": "code",
   "execution_count": 23,
   "metadata": {},
   "outputs": [],
   "source": [
    "D[0, :3] = [-3, 4, -1]\n",
    "D[-1, -3:] = [1, -4, 3]"
   ]
  },
  {
   "cell_type": "code",
   "execution_count": 24,
   "metadata": {},
   "outputs": [
    {
     "data": {
      "text/plain": [
       "array([[-3.,  4., -1., ...,  0.,  0.,  0.],\n",
       "       [-1.,  0.,  1., ...,  0.,  0.,  0.],\n",
       "       [ 0., -1.,  0., ...,  0.,  0.,  0.],\n",
       "       ...,\n",
       "       [ 0.,  0.,  0., ...,  0.,  1.,  0.],\n",
       "       [ 0.,  0.,  0., ..., -1.,  0.,  1.],\n",
       "       [ 0.,  0.,  0., ...,  1., -4.,  3.]])"
      ]
     },
     "execution_count": 24,
     "metadata": {},
     "output_type": "execute_result"
    }
   ],
   "source": [
    "D"
   ]
  },
  {
   "cell_type": "code",
   "execution_count": 31,
   "metadata": {},
   "outputs": [],
   "source": [
    "eye = np.eye(N)"
   ]
  },
  {
   "cell_type": "code",
   "execution_count": 34,
   "metadata": {},
   "outputs": [],
   "source": [
    "Dx = diags([-1, 1], [-1, 1], shape=(N, N))\n",
    "Dx = Dx.toarray()\n",
    "Dx[0, :3] = [-3, 4, -1]\n",
    "Dx[-1, -3:] = [1, -4, 3]"
   ]
  },
  {
   "cell_type": "code",
   "execution_count": 35,
   "metadata": {},
   "outputs": [
    {
     "data": {
      "text/plain": [
       "45"
      ]
     },
     "execution_count": 35,
     "metadata": {},
     "output_type": "execute_result"
    }
   ],
   "source": [
    "start_message = \"Simulation begins at {}\".format(time.asctime())\n",
    "len(start_message)"
   ]
  },
  {
   "cell_type": "code",
   "execution_count": 37,
   "metadata": {},
   "outputs": [
    {
     "data": {
      "text/plain": [
       "0"
      ]
     },
     "execution_count": 37,
     "metadata": {},
     "output_type": "execute_result"
    }
   ],
   "source": [
    "45-154+214-156+61-10"
   ]
  },
  {
   "cell_type": "code",
   "execution_count": 38,
   "metadata": {},
   "outputs": [],
   "source": [
    "a = np.arange(10)"
   ]
  },
  {
   "cell_type": "code",
   "execution_count": 46,
   "metadata": {},
   "outputs": [
    {
     "data": {
      "text/plain": [
       "299.0139807189705"
      ]
     },
     "execution_count": 46,
     "metadata": {},
     "output_type": "execute_result"
    }
   ],
   "source": [
    "d2f_num[-2]"
   ]
  }
 ],
 "metadata": {
  "kernelspec": {
   "display_name": "py39",
   "language": "python",
   "name": "python3"
  },
  "language_info": {
   "codemirror_mode": {
    "name": "ipython",
    "version": 3
   },
   "file_extension": ".py",
   "mimetype": "text/x-python",
   "name": "python",
   "nbconvert_exporter": "python",
   "pygments_lexer": "ipython3",
   "version": "3.9.17"
  }
 },
 "nbformat": 4,
 "nbformat_minor": 2
}
