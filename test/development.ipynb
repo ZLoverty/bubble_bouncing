{
 "cells": [
  {
   "cell_type": "markdown",
   "metadata": {},
   "source": [
    "# Development\n",
    "\n",
    "This notebook is meant for developing the bubble bouncing simulation code."
   ]
  },
  {
   "cell_type": "markdown",
   "metadata": {},
   "source": [
    "## 0 Packages"
   ]
  },
  {
   "cell_type": "code",
   "execution_count": 1,
   "metadata": {},
   "outputs": [],
   "source": [
    "import numpy as np\n",
    "import matplotlib.pyplot as plt\n",
    "import time\n",
    "from scipy.sparse import diags, kron, identity, csr_matrix"
   ]
  },
  {
   "cell_type": "markdown",
   "metadata": {},
   "source": [
    "## 1 Sparse matrix?\n",
    "\n",
    "I've seen people using sparse matrix to formulate differential equations. Is it faster? Here, let's give it a test. \n",
    "\n",
    "The example task is to compute the laplacian of $h$:\n",
    "\n",
    "$$\n",
    "\\nabla^2 h = \\frac{\\partial^2 h}{\\partial x^2} + \\frac{\\partial^2 h}{\\partial y^2}\n",
    "$$"
   ]
  },
  {
   "cell_type": "markdown",
   "metadata": {},
   "source": [
    "The most straightforward method is to compute the $x$ and $y$ terms separately, then sum them. "
   ]
  },
  {
   "cell_type": "code",
   "execution_count": 25,
   "metadata": {},
   "outputs": [],
   "source": [
    "# prepare the data\n",
    "N = 100\n",
    "h = np.random.rand(N, N)\n",
    "\n",
    "# compute dx and dy \n",
    "global dx, dy\n",
    "x = np.linspace(-1, 1, N)\n",
    "y = np.linspace(-1, 1, N)\n",
    "X, Y = np.meshgrid(x, y)\n",
    "dx = np.gradient(X, axis=1, edge_order=2)\n",
    "dy = np.gradient(Y, axis=0, edge_order=2)\n",
    "\n",
    "# compute the Laplacian operator\n",
    "global L2D\n",
    "# 1D Laplacian matrix for finite difference\n",
    "diagonals = [-2 * np.ones(N), np.ones(N-1), np.ones(N-1)]\n",
    "L1D = diags(diagonals, [0, -1, 1], format=\"csr\") / dx**2\n",
    "\n",
    "# 2D Laplacian using Kronecker product\n",
    "L2D = kron(identity(N), L1D) + kron(L1D, identity(N))"
   ]
  },
  {
   "cell_type": "code",
   "execution_count": 22,
   "metadata": {},
   "outputs": [],
   "source": [
    "def laplacian(h):\n",
    "    \"\"\"\n",
    "    Compute the Laplacian of a 2D array using finite differences.\n",
    "    \"\"\"\n",
    "    d2hdx = np.gradient(np.gradient(h, axis=1, edge_order=2), axis=1, edge_order=2) / dx**2\n",
    "    d2hdy = np.gradient(np.gradient(h, axis=0, edge_order=2), axis=0, edge_order=2) / dy**2\n",
    "    return d2hdx +d2hdy"
   ]
  },
  {
   "cell_type": "code",
   "execution_count": 26,
   "metadata": {},
   "outputs": [],
   "source": [
    "def laplacian_sparse(h):\n",
    "    \"\"\"\n",
    "    Compute the Laplacian of a 2D array using sparse matrix representation.\n",
    "    \"\"\"\n",
    "    \n",
    "    return L2D @ h.flatten()"
   ]
  },
  {
   "cell_type": "code",
   "execution_count": 28,
   "metadata": {},
   "outputs": [
    {
     "name": "stdout",
     "output_type": "stream",
     "text": [
      "np.gradient takes 1.87 seconds\n",
      "sparse matrix takes 0.46 seconds\n"
     ]
    }
   ],
   "source": [
    "t0 = time.time()\n",
    "for i in range(10000):\n",
    "    laplacian(h)\n",
    "t1 = time.time()\n",
    "print(f\"np.gradient takes {t1 - t0:.2f} seconds\")\n",
    "t0 = time.time()\n",
    "for i in range(10000):\n",
    "    laplacian_sparse(h)\n",
    "t1 = time.time()\n",
    "print(f\"sparse matrix takes {t1 - t0:.2f} seconds\")"
   ]
  },
  {
   "cell_type": "markdown",
   "metadata": {},
   "source": [
    "Therefore, using sparse matrix can greatly speed up the computation. "
   ]
  },
  {
   "cell_type": "markdown",
   "metadata": {},
   "source": [
    "## 2 Apply boundary conditions in flattened array\n",
    "\n",
    "In square array, applying boundary conditions is straightforward: \n",
    "\n",
    "```\n",
    "h[:, 0], h[:, -1], h[0, :], h[-1, :]\n",
    "```\n",
    "\n",
    "when flattened, however, these points are not easy to find. To be able to identify the boundary points quickly with ease, we can define a boolean array `edge_ind` as\n",
    "\n",
    "```\n",
    "edge_ind = np.\n",
    "```"
   ]
  },
  {
   "cell_type": "code",
   "execution_count": null,
   "metadata": {},
   "outputs": [
    {
     "data": {
      "text/plain": [
       "<matplotlib.image.AxesImage at 0x1ea6104bbe0>"
      ]
     },
     "execution_count": 7,
     "metadata": {},
     "output_type": "execute_result"
    },
    {
     "data": {
      "image/png": "[encoded data removed]",
      "text/plain": [
       "<Figure size 640x480 with 1 Axes>"
      ]
     },
     "metadata": {},
     "output_type": "display_data"
    }
   ],
   "source": [
    "# Create a boolean array to mark the edges\n",
    "edge_ind = np.zeros((N, N), dtype=bool)\n",
    "edge_ind[:, 0], edge_ind[:, -1], edge_ind[0, :], edge_ind[-1, :] = True, True, True, True\n",
    "\n",
    "plt.imshow(edge_ind)"
   ]
  },
  {
   "cell_type": "code",
   "execution_count": 29,
   "metadata": {},
   "outputs": [],
   "source": [
    "diagonals = [-np.ones(N-1), np.ones(N-1)]\n",
    "D_x = diags(diagonals, [-1, 1], shape=(N, N))"
   ]
  },
  {
   "cell_type": "code",
   "execution_count": 20,
   "metadata": {},
   "outputs": [],
   "source": [
    "D = D_x.toarray()"
   ]
  },
  {
   "cell_type": "code",
   "execution_count": 23,
   "metadata": {},
   "outputs": [],
   "source": [
    "D[0, :3] = [-3, 4, -1]\n",
    "D[-1, -3:] = [1, -4, 3]"
   ]
  },
  {
   "cell_type": "code",
   "execution_count": 24,
   "metadata": {},
   "outputs": [
    {
     "data": {
      "text/plain": [
       "array([[-3.,  4., -1., ...,  0.,  0.,  0.],\n",
       "       [-1.,  0.,  1., ...,  0.,  0.,  0.],\n",
       "       [ 0., -1.,  0., ...,  0.,  0.,  0.],\n",
       "       ...,\n",
       "       [ 0.,  0.,  0., ...,  0.,  1.,  0.],\n",
       "       [ 0.,  0.,  0., ..., -1.,  0.,  1.],\n",
       "       [ 0.,  0.,  0., ...,  1., -4.,  3.]])"
      ]
     },
     "execution_count": 24,
     "metadata": {},
     "output_type": "execute_result"
    }
   ],
   "source": [
    "D"
   ]
  },
  {
   "cell_type": "code",
   "execution_count": 31,
   "metadata": {},
   "outputs": [],
   "source": [
    "eye = np.eye(N)"
   ]
  },
  {
   "cell_type": "code",
   "execution_count": 34,
   "metadata": {},
   "outputs": [],
   "source": [
    "Dx = diags([-1, 1], [-1, 1], shape=(N, N))\n",
    "Dx = Dx.toarray()\n",
    "Dx[0, :3] = [-3, 4, -1]\n",
    "Dx[-1, -3:] = [1, -4, 3]"
   ]
  },
  {
   "cell_type": "code",
   "execution_count": 35,
   "metadata": {},
   "outputs": [
    {
     "data": {
      "text/plain": [
       "45"
      ]
     },
     "execution_count": 35,
     "metadata": {},
     "output_type": "execute_result"
    }
   ],
   "source": [
    "start_message = \"Simulation begins at {}\".format(time.asctime())\n",
    "len(start_message)"
   ]
  },
  {
   "cell_type": "code",
   "execution_count": 37,
   "metadata": {},
   "outputs": [
    {
     "data": {
      "text/plain": [
       "0"
      ]
     },
     "execution_count": 37,
     "metadata": {},
     "output_type": "execute_result"
    }
   ],
   "source": [
    "45-154+214-156+61-10"
   ]
  },
  {
   "cell_type": "code",
   "execution_count": 38,
   "metadata": {},
   "outputs": [],
   "source": [
    "a = np.arange(10)"
   ]
  },
  {
   "cell_type": "code",
   "execution_count": 46,
   "metadata": {},
   "outputs": [
    {
     "data": {
      "text/plain": [
       "299.0139807189705"
      ]
     },
     "execution_count": 46,
     "metadata": {},
     "output_type": "execute_result"
    }
   ],
   "source": [
    "d2f_num[-2]"
   ]
  },
  {
   "cell_type": "markdown",
   "metadata": {},
   "source": [
    "## 3 Use h5 to save data"
   ]
  },
  {
   "cell_type": "code",
   "execution_count": 1,
   "metadata": {},
   "outputs": [],
   "source": [
    "import h5py"
   ]
  },
  {
   "cell_type": "code",
   "execution_count": 4,
   "metadata": {},
   "outputs": [],
   "source": [
    "initial_params = {\n",
    "    \"a\": 1,\n",
    "    \"b\": 2,\n",
    "    \"c\": 3,\n",
    "}"
   ]
  },
  {
   "cell_type": "code",
   "execution_count": 22,
   "metadata": {},
   "outputs": [],
   "source": [
    "f = h5py.File(r\"C:\\Users\\liuzy\\Documents\\BC_simulation\\test.h5\", \"r\")"
   ]
  },
  {
   "cell_type": "code",
   "execution_count": 18,
   "metadata": {},
   "outputs": [],
   "source": [
    "with h5py.File(r\"C:\\Users\\liuzy\\Documents\\BC_simulation\\test.h5\", \"a\") as f:\n",
    "    new_group = f.create_group(\"time_steps\")\n",
    "    for key in f.keys():\n",
    "        if key not in [\"initial_params\", \"forces\"]:\n",
    "            f.move(key, \"time_steps/\"+key)"
   ]
  },
  {
   "cell_type": "markdown",
   "metadata": {},
   "source": [
    "## 4 Visualization utility functions\n",
    "\n",
    "The data is a dense time series of $h$ and $V$. It is good to have some convenient functions that can provide an overview of the data. Useful information includes:\n",
    "\n",
    "1. The whole trajectory\n",
    "2. Force history\n",
    "\n",
    "```\n",
    "\"Time\", \"Distance\", \"Velocity_x\", \"Velocity_y\", \"Velocity_z\", \"Buoyancy_x\", \"Buoyancy_y\", \"Buoyancy_z\", \"Drag_x\", \"Drag_y\", \"Drag_z\", \"AMF2_x\", \"AMF2_y\", \"AMF2_z\", \"TFF_x\", \"TFF_y\", \"TFF_z\", \"Sound_x\", \"Sound_y\", \"Sound_z\"\n",
    "```"
   ]
  },
  {
   "cell_type": "code",
   "execution_count": 62,
   "metadata": {},
   "outputs": [],
   "source": [
    "import h5py\n",
    "f = h5py.File(r\"C:\\Users\\liuzy\\Documents\\BC_simulation\\test2.h5\", \"r\")"
   ]
  },
  {
   "cell_type": "code",
   "execution_count": 99,
   "metadata": {},
   "outputs": [
    {
     "data": {
      "text/plain": [
       "<KeysViewHDF5 ['H0', 'N', 'R', 'V0', 'freq', 'g', 'mu', 'rho', 'rm', 'save_time', 'sigma', 'theta']>"
      ]
     },
     "execution_count": 99,
     "metadata": {},
     "output_type": "execute_result"
    }
   ],
   "source": [
    "f[\"initial_params\"].keys()"
   ]
  },
  {
   "cell_type": "code",
   "execution_count": 100,
   "metadata": {},
   "outputs": [],
   "source": [
    "R = f[\"initial_params\"][\"R\"][()]\n",
    "N = f[\"initial_params\"][\"N\"][()]\n",
    "theta = f[\"initial_params\"][\"theta\"][()]\n",
    "H = f[\"initial_params\"][\"H0\"][()]"
   ]
  },
  {
   "cell_type": "code",
   "execution_count": 14,
   "metadata": {},
   "outputs": [],
   "source": [
    "f.close()"
   ]
  },
  {
   "cell_type": "code",
   "execution_count": 81,
   "metadata": {},
   "outputs": [],
   "source": [
    "import numpy as np\n",
    "V = f[\"forces\"][()][:, [2,4]]\n",
    "t = f[\"forces\"][()][:, 0]\n"
   ]
  },
  {
   "cell_type": "code",
   "execution_count": 110,
   "metadata": {},
   "outputs": [
    {
     "data": {
      "text/plain": [
       "(79,)"
      ]
     },
     "execution_count": 110,
     "metadata": {},
     "output_type": "execute_result"
    }
   ],
   "source": [
    "np.diff(t).shape"
   ]
  },
  {
   "cell_type": "code",
   "execution_count": 112,
   "metadata": {},
   "outputs": [],
   "source": [
    "t_broadcasted = np.diff(t)[:, np.newaxis]\n",
    "traj = (V[:-1, :] * t_broadcasted).cumsum(axis=0)\n",
    "# traj[:, 1] -= traj[0, 1]\n",
    "traj[:, 1] += R + H"
   ]
  },
  {
   "cell_type": "code",
   "execution_count": 113,
   "metadata": {},
   "outputs": [
    {
     "data": {
      "text/plain": [
       "[<matplotlib.lines.Line2D at 0x1a0dced2eb0>]"
      ]
     },
     "execution_count": 113,
     "metadata": {},
     "output_type": "execute_result"
    },
    {
     "data": {
      "image/png": "[encoded data removed]",
      "text/plain": [
       "<Figure size 640x480 with 1 Axes>"
      ]
     },
     "metadata": {},
     "output_type": "display_data"
    }
   ],
   "source": [
    "import matplotlib.pyplot as plt\n",
    "plt.plot(traj[:, 0], traj[:, 1])"
   ]
  },
  {
   "cell_type": "code",
   "execution_count": 114,
   "metadata": {},
   "outputs": [],
   "source": [
    "xs = np.array([traj[:,0].min(), traj[:,0].max()])\n",
    "ys = np.array([0, 0])\n",
    "surface = np.array([xs, ys]).T"
   ]
  },
  {
   "cell_type": "code",
   "execution_count": 115,
   "metadata": {},
   "outputs": [
    {
     "data": {
      "image/png": "[encoded data removed]",
      "text/plain": [
       "<Figure size 1200x900 with 1 Axes>"
      ]
     },
     "metadata": {},
     "output_type": "display_data"
    }
   ],
   "source": [
    "fig, ax = plt.subplots(figsize=(4,3), dpi=300)\n",
    "ax.plot(traj[:,0]*1e3, traj[:,1]*1e3, ls=\"--\")\n",
    "ax.plot(surface[:, 0]*1e3, surface[:, 1]*1e3, lw=5, color=\"black\")\n",
    "ax.set_xlabel(\"$x$ (mm)\")\n",
    "ax.set_ylabel(\"$y$ (mm)\")\n",
    "ax.axis(\"equal\")\n",
    "ax.invert_yaxis()"
   ]
  },
  {
   "cell_type": "code",
   "execution_count": 118,
   "metadata": {},
   "outputs": [],
   "source": [
    "rotation_matrix = np.array([[np.cos(theta/180*np.pi), -np.sin(theta/180*np.pi)],\n",
    "                            [np.sin(theta/180*np.pi),  np.cos(theta/180*np.pi)]])"
   ]
  },
  {
   "cell_type": "code",
   "execution_count": 120,
   "metadata": {},
   "outputs": [],
   "source": [
    "# rotate all the artists\n",
    "trajr = traj @ rotation_matrix\n",
    "surfacer = surface @ rotation_matrix"
   ]
  },
  {
   "cell_type": "code",
   "execution_count": 125,
   "metadata": {},
   "outputs": [
    {
     "data": {
      "text/plain": [
       "(-0.05007439598857767,\n",
       " 1.3960541371192237,\n",
       " 1.5258107246713026,\n",
       " -0.4958356854853372)"
      ]
     },
     "execution_count": 125,
     "metadata": {},
     "output_type": "execute_result"
    },
    {
     "data": {
      "image/png": "[encoded data removed]",
      "text/plain": [
       "<Figure size 1200x900 with 1 Axes>"
      ]
     },
     "metadata": {},
     "output_type": "display_data"
    }
   ],
   "source": [
    "from myimagelib import bestcolor\n",
    "fig, ax = plt.subplots(figsize=(4,3), dpi=300)\n",
    "ax.plot(trajr[:,0]*1e3, trajr[:,1]*1e3, ls=\"--\", lw=.5, color=bestcolor(0))\n",
    "ax.plot(surfacer[:, 0]*1e3, surfacer[:, 1]*1e3, lw=2, color=\"black\")\n",
    "ax.invert_yaxis()\n",
    "# ax.set_ylim([trajrm[:, 1].max()*1e3, trajrm[:, 1].min()*1e3])\n",
    "ax.axis(\"equal\")\n",
    "ax.axis(\"off\")"
   ]
  },
  {
   "cell_type": "code",
   "execution_count": null,
   "metadata": {},
   "outputs": [],
   "source": [
    "for tt in range(len(time_steps)):\n",
    "    xx = x + (trajarr[time_steps[i], 0] - trajarr[0, 0])\n",
    "    hx = np.loadtxt(os.path.join(folder, sfL2[time_steps[i]], \"h.txt\")).reshape(N, N)[N//2, :]\n",
    "    bubble_surface[i] = np.stack([xx, hx], axis=1)"
   ]
  },
  {
   "cell_type": "code",
   "execution_count": null,
   "metadata": {},
   "outputs": [],
   "source": [
    "cmap = plt.get_cmap(\"viridis\", len(time_steps))\n",
    "fig, ax = plt.subplots(figsize=(4,3), dpi=300)\n",
    "ax.plot(trajarr[:,0]*1e3, trajarr[:,1]*1e3, ls=\"--\", lw=.5, color=\"black\")\n",
    "ax.plot(surface[:, 0]*1e3, surface[:, 1]*1e3, lw=1, color=\"black\")\n",
    "for i in range(len(time_steps)):\n",
    "    t = time_steps[i]\n",
    "    ax.plot(bubble_surface[i][:, 0]*1e3, bubble_surface[i][:, 1]*1e3, lw=2, color=cmap(i))\n",
    "    circ = plt.Circle(xy=trajarr[t, :]*1e3, radius=R*1e3, edgecolor=cmap(i), fill=False, ls=\"--\")\n",
    "    ax.add_patch(circ)\n",
    "ax.set_xlabel(\"$x$ (mm)\")\n",
    "ax.set_ylabel(\"$z$ (mm)\")\n",
    "ax.axis(\"equal\")\n",
    "ax.invert_yaxis()"
   ]
  },
  {
   "cell_type": "code",
   "execution_count": 61,
   "metadata": {},
   "outputs": [],
   "source": [
    "f.close()"
   ]
  },
  {
   "cell_type": "code",
   "execution_count": 33,
   "metadata": {},
   "outputs": [],
   "source": [
    "dset = f.create_dataset(\"data\", shape=(100,10), maxshape=(None,None), dtype=\"f8\")"
   ]
  },
  {
   "cell_type": "code",
   "execution_count": 60,
   "metadata": {},
   "outputs": [
    {
     "data": {
      "text/plain": [
       "<KeysViewHDF5 ['data']>"
      ]
     },
     "execution_count": 60,
     "metadata": {},
     "output_type": "execute_result"
    }
   ],
   "source": [
    "f.keys()"
   ]
  },
  {
   "cell_type": "code",
   "execution_count": 56,
   "metadata": {},
   "outputs": [],
   "source": [
    "for i in range(12):\n",
    "    dset[i*10:i*10+10, :] = np.random.rand(10, 10)"
   ]
  },
  {
   "cell_type": "code",
   "execution_count": 57,
   "metadata": {},
   "outputs": [
    {
     "data": {
      "text/plain": [
       "array([[0.26803724, 0.61613987, 0.12427203, 0.31726582, 0.0429222 ,\n",
       "        0.66349634, 0.57680864, 0.25716589, 0.98121486, 0.75464417],\n",
       "       [0.88983059, 0.79721661, 0.37062271, 0.44112153, 0.61319578,\n",
       "        0.4249476 , 0.29775595, 0.89302208, 0.44296135, 0.13620948],\n",
       "       [0.77276416, 0.4758136 , 0.40421745, 0.38741589, 0.30640194,\n",
       "        0.96415774, 0.68747263, 0.96173778, 0.24962327, 0.08780027],\n",
       "       [0.62848719, 0.05421151, 0.29332916, 0.78984296, 0.54795799,\n",
       "        0.96804105, 0.06762311, 0.80670348, 0.25284293, 0.14247265],\n",
       "       [0.26932765, 0.42878295, 0.83910365, 0.16768816, 0.70777201,\n",
       "        0.77428153, 0.74119542, 0.4052244 , 0.24263191, 0.41009201],\n",
       "       [0.62846239, 0.79905027, 0.33471223, 0.47962482, 0.07159367,\n",
       "        0.61058471, 0.05776003, 0.94246221, 0.935351  , 0.238842  ],\n",
       "       [0.06484111, 0.84977686, 0.75483641, 0.95728727, 0.25443791,\n",
       "        0.80432308, 0.43377555, 0.61660037, 0.71054888, 0.36318164],\n",
       "       [0.51005221, 0.30247058, 0.60942989, 0.28312449, 0.2688467 ,\n",
       "        0.21484134, 0.00749129, 0.87513043, 0.78871067, 0.00724641],\n",
       "       [0.09643501, 0.76311116, 0.13108832, 0.21000302, 0.4932807 ,\n",
       "        0.37831834, 0.12476874, 0.05866347, 0.27186185, 0.4479822 ],\n",
       "       [0.86407951, 0.56217331, 0.18521676, 0.41061448, 0.23691286,\n",
       "        0.72987215, 0.52253289, 0.72773003, 0.91428318, 0.31845935],\n",
       "       [0.67013847, 0.6462229 , 0.50552133, 0.46774989, 0.02279644,\n",
       "        0.15348757, 0.61113645, 0.38685821, 0.29745362, 0.20532498],\n",
       "       [0.23698827, 0.52344719, 0.96228213, 0.26211534, 0.94074623,\n",
       "        0.58972154, 0.17568867, 0.92917303, 0.21037604, 0.19659488],\n",
       "       [0.68808113, 0.56470056, 0.0288985 , 0.06912062, 0.94729794,\n",
       "        0.20234283, 0.24116507, 0.52962451, 0.27587298, 0.72414344],\n",
       "       [0.1369942 , 0.92669874, 0.14228958, 0.27950129, 0.61259786,\n",
       "        0.97241878, 0.02972952, 0.20735484, 0.24919502, 0.75880233],\n",
       "       [0.21025742, 0.20060914, 0.85523957, 0.69346109, 0.70999752,\n",
       "        0.46119831, 0.65697064, 0.29203998, 0.4200296 , 0.93485918],\n",
       "       [0.54064303, 0.1636774 , 0.11383139, 0.49439529, 0.8027792 ,\n",
       "        0.38917311, 0.42342176, 0.47968692, 0.11640246, 0.588229  ],\n",
       "       [0.07782481, 0.73971321, 0.55719696, 0.4485481 , 0.1967289 ,\n",
       "        0.95329976, 0.75358241, 0.21439547, 0.79316135, 0.48996648],\n",
       "       [0.35478753, 0.33890909, 0.48093228, 0.47765141, 0.02477112,\n",
       "        0.41570487, 0.43225797, 0.8609532 , 0.69137151, 0.70717014],\n",
       "       [0.5033788 , 0.35096271, 0.30877545, 0.20530508, 0.77174344,\n",
       "        0.90664912, 0.66848052, 0.71786099, 0.5325754 , 0.66871242],\n",
       "       [0.68704067, 0.28223941, 0.02361349, 0.37219562, 0.17274932,\n",
       "        0.15850874, 0.47561337, 0.79083342, 0.75230056, 0.21165827],\n",
       "       [0.09077276, 0.50118445, 0.08461418, 0.78118303, 0.80384517,\n",
       "        0.44758027, 0.38846643, 0.817747  , 0.38993722, 0.44383364],\n",
       "       [0.65223428, 0.71761925, 0.47781264, 0.4349699 , 0.54533428,\n",
       "        0.18925003, 0.787785  , 0.02552892, 0.05591013, 0.09180754],\n",
       "       [0.19297541, 0.13250059, 0.15523169, 0.38308442, 0.48589115,\n",
       "        0.26002923, 0.68470196, 0.03476397, 0.60427351, 0.83263166],\n",
       "       [0.13217084, 0.37907546, 0.65567004, 0.44000109, 0.86570073,\n",
       "        0.31511553, 0.13401235, 0.31896657, 0.59310649, 0.47569816],\n",
       "       [0.75538697, 0.96634504, 0.99379889, 0.88335721, 0.01159197,\n",
       "        0.99131696, 0.98764846, 0.46210303, 0.74108011, 0.15020379],\n",
       "       [0.33529249, 0.57941154, 0.92072805, 0.49156153, 0.47496792,\n",
       "        0.58005582, 0.72204671, 0.03189965, 0.46795556, 0.44910235],\n",
       "       [0.95367863, 0.13851182, 0.47390203, 0.22886433, 0.390853  ,\n",
       "        0.57356343, 0.47104744, 0.48313147, 0.37416523, 0.79719619],\n",
       "       [0.51691358, 0.70724697, 0.6394444 , 0.88772602, 0.0641584 ,\n",
       "        0.02733464, 0.7429108 , 0.78647931, 0.85011932, 0.82322336],\n",
       "       [0.86946369, 0.90450467, 0.05950284, 0.97079236, 0.62134138,\n",
       "        0.87877669, 0.71157104, 0.54157381, 0.6433528 , 0.81139076],\n",
       "       [0.18720008, 0.1917197 , 0.37379061, 0.95169518, 0.62814937,\n",
       "        0.46531068, 0.71200572, 0.74036467, 0.06428584, 0.87666337],\n",
       "       [0.69434572, 0.36198783, 0.07009754, 0.17323328, 0.33871905,\n",
       "        0.57433088, 0.69855985, 0.36092551, 0.68913204, 0.36103807],\n",
       "       [0.28196129, 0.37440568, 0.07241039, 0.58351784, 0.49226733,\n",
       "        0.68438324, 0.47388927, 0.4104748 , 0.60659811, 0.80797067],\n",
       "       [0.02791655, 0.084784  , 0.21124466, 0.22073207, 0.33304637,\n",
       "        0.07492978, 0.24779156, 0.7822122 , 0.60631664, 0.0467194 ],\n",
       "       [0.16047153, 0.43217404, 0.96539261, 0.42115505, 0.79810611,\n",
       "        0.07334745, 0.71976781, 0.18044014, 0.61798747, 0.14747505],\n",
       "       [0.4318633 , 0.31911132, 0.1382095 , 0.38858037, 0.39836613,\n",
       "        0.35543686, 0.0828475 , 0.66232152, 0.46887341, 0.38174389],\n",
       "       [0.17270206, 0.97115467, 0.4574047 , 0.85402351, 0.35051768,\n",
       "        0.25195964, 0.79513094, 0.41943526, 0.043463  , 0.47482566],\n",
       "       [0.58924319, 0.31585147, 0.46410331, 0.4733085 , 0.95836828,\n",
       "        0.79951476, 0.14461578, 0.10972803, 0.6837401 , 0.67556944],\n",
       "       [0.33256075, 0.40191057, 0.61431454, 0.58382807, 0.89858565,\n",
       "        0.39112263, 0.15446504, 0.5933059 , 0.40846854, 0.67819325],\n",
       "       [0.21779836, 0.45060965, 0.98512497, 0.46697402, 0.72760925,\n",
       "        0.34094665, 0.46963949, 0.14488949, 0.47370987, 0.90522525],\n",
       "       [0.58748273, 0.38485534, 0.79902165, 0.99275021, 0.73359878,\n",
       "        0.21561106, 0.27068727, 0.39362153, 0.94148128, 0.07362591],\n",
       "       [0.65004899, 0.74736589, 0.05017765, 0.75055207, 0.17383169,\n",
       "        0.31160035, 0.8145109 , 0.78116897, 0.48003857, 0.58378031],\n",
       "       [0.24635733, 0.78090659, 0.17227981, 0.85984014, 0.29769886,\n",
       "        0.41435997, 0.45251975, 0.33221062, 0.80103726, 0.99672654],\n",
       "       [0.67846362, 0.75729328, 0.62249539, 0.28171477, 0.80799829,\n",
       "        0.15980562, 0.58343503, 0.26316855, 0.25796401, 0.37236685],\n",
       "       [0.64586605, 0.82253884, 0.98284531, 0.73778415, 0.07098508,\n",
       "        0.43064263, 0.35587063, 0.33888168, 0.16283183, 0.9693079 ],\n",
       "       [0.6695846 , 0.51057681, 0.36596196, 0.3476975 , 0.28456193,\n",
       "        0.41874398, 0.8276103 , 0.3990312 , 0.26173693, 0.21562098],\n",
       "       [0.12282866, 0.40241904, 0.08050416, 0.93220032, 0.37318122,\n",
       "        0.043066  , 0.25825988, 0.22657062, 0.72309216, 0.18368317],\n",
       "       [0.93475409, 0.31086642, 0.99770304, 0.76992099, 0.52084537,\n",
       "        0.42132078, 0.73618893, 0.85775962, 0.05418652, 0.8326279 ],\n",
       "       [0.23199158, 0.75197413, 0.75548716, 0.61974629, 0.67528461,\n",
       "        0.73510102, 0.97846252, 0.67902131, 0.97545836, 0.84973104],\n",
       "       [0.06722538, 0.02055927, 0.16109963, 0.53661485, 0.03145718,\n",
       "        0.47290094, 0.75623011, 0.16434711, 0.58725651, 0.31359957],\n",
       "       [0.30496913, 0.88171965, 0.17644719, 0.89187628, 0.87993707,\n",
       "        0.20921837, 0.13925531, 0.99290028, 0.29483054, 0.37332499],\n",
       "       [0.97679347, 0.99332379, 0.7632749 , 0.50379762, 0.12555472,\n",
       "        0.87244343, 0.51325752, 0.58622847, 0.74571406, 0.54528115],\n",
       "       [0.08370828, 0.96508724, 0.77708083, 0.26698324, 0.84280588,\n",
       "        0.98418285, 0.14872777, 0.40092033, 0.82427649, 0.18641379],\n",
       "       [0.94674729, 0.60727833, 0.86873597, 0.30689637, 0.04446091,\n",
       "        0.59154154, 0.78254232, 0.10706542, 0.55312979, 0.41315345],\n",
       "       [0.54502139, 0.40190789, 0.06747738, 0.91744105, 0.52231148,\n",
       "        0.12956   , 0.98609339, 0.52471424, 0.00973061, 0.09009392],\n",
       "       [0.08576345, 0.80126447, 0.60877789, 0.41084222, 0.68574971,\n",
       "        0.72705049, 0.72961562, 0.57288189, 0.3124805 , 0.35649622],\n",
       "       [0.19868032, 0.93893461, 0.2322005 , 0.07554989, 0.82268827,\n",
       "        0.23953308, 0.50825198, 0.40671356, 0.23223326, 0.34498859],\n",
       "       [0.36278927, 0.47016966, 0.48811119, 0.57957058, 0.92336747,\n",
       "        0.86710627, 0.89554514, 0.09713799, 0.56046025, 0.06639429],\n",
       "       [0.99978255, 0.51476999, 0.32833775, 0.28243376, 0.85963194,\n",
       "        0.09018097, 0.61977287, 0.03846994, 0.22873501, 0.54354333],\n",
       "       [0.82877272, 0.32919777, 0.26334003, 0.27642216, 0.77938453,\n",
       "        0.45988322, 0.71978045, 0.6676739 , 0.0813486 , 0.69203175],\n",
       "       [0.18765837, 0.49936098, 0.3282847 , 0.48029881, 0.93426038,\n",
       "        0.3932006 , 0.55533213, 0.52278486, 0.75036104, 0.96030469],\n",
       "       [0.21744899, 0.0311035 , 0.84966488, 0.4762399 , 0.50371169,\n",
       "        0.05723945, 0.04503292, 0.17796564, 0.32317585, 0.30289459],\n",
       "       [0.23707506, 0.75839288, 0.87613627, 0.63658702, 0.80518252,\n",
       "        0.34561408, 0.49996258, 0.32642787, 0.31812217, 0.69199897],\n",
       "       [0.55026556, 0.50909458, 0.82878395, 0.74261843, 0.27352349,\n",
       "        0.86109412, 0.68372466, 0.57377131, 0.95692738, 0.41988141],\n",
       "       [0.27557261, 0.28990559, 0.11142014, 0.21468057, 0.17243643,\n",
       "        0.89935222, 0.77257774, 0.80172189, 0.71715142, 0.64371236],\n",
       "       [0.52376548, 0.28183528, 0.38572436, 0.82414697, 0.17825213,\n",
       "        0.74082376, 0.87859504, 0.36281049, 0.80175212, 0.97669625],\n",
       "       [0.98892012, 0.73646488, 0.39294848, 0.12389714, 0.34962782,\n",
       "        0.65582214, 0.87296021, 0.57313308, 0.37379296, 0.80321938],\n",
       "       [0.93725851, 0.48874461, 0.09393084, 0.20806704, 0.06572392,\n",
       "        0.90823953, 0.24634941, 0.7401931 , 0.53420505, 0.52498446],\n",
       "       [0.30548506, 0.49959662, 0.51993252, 0.59856287, 0.30221682,\n",
       "        0.09285443, 0.88927299, 0.85533813, 0.74798342, 0.82450225],\n",
       "       [0.48374625, 0.55742622, 0.34663389, 0.1467481 , 0.70495233,\n",
       "        0.6825928 , 0.85524102, 0.78665396, 0.92165165, 0.66208825],\n",
       "       [0.87923297, 0.96240599, 0.89116673, 0.84291854, 0.11992538,\n",
       "        0.11068083, 0.04343525, 0.56875898, 0.63550309, 0.00589887],\n",
       "       [0.7846339 , 0.65480579, 0.10908306, 0.33795969, 0.03553675,\n",
       "        0.41764896, 0.70317135, 0.02651002, 0.41851075, 0.97408738],\n",
       "       [0.1294455 , 0.52133655, 0.33730262, 0.42449912, 0.90808059,\n",
       "        0.2091415 , 0.19475999, 0.14336217, 0.37993927, 0.62524618],\n",
       "       [0.47101217, 0.2829052 , 0.56799712, 0.5385905 , 0.30565102,\n",
       "        0.89710776, 0.62109793, 0.40876364, 0.92518635, 0.37905557],\n",
       "       [0.71683384, 0.81052439, 0.47677799, 0.1561006 , 0.4288484 ,\n",
       "        0.77201143, 0.11451467, 0.31871814, 0.09549523, 0.01931783],\n",
       "       [0.61011424, 0.55627711, 0.72424658, 0.55347766, 0.02210862,\n",
       "        0.17269533, 0.19206947, 0.32588413, 0.76491095, 0.69399321],\n",
       "       [0.71546546, 0.32275268, 0.15221314, 0.49730347, 0.85530555,\n",
       "        0.93079969, 0.84081373, 0.44363695, 0.50418165, 0.45031356],\n",
       "       [0.50584408, 0.9912019 , 0.67273736, 0.99226043, 0.52115126,\n",
       "        0.00822634, 0.77062975, 0.59328716, 0.71708565, 0.05666643],\n",
       "       [0.32549237, 0.8622981 , 0.52768099, 0.75385123, 0.88111248,\n",
       "        0.11987653, 0.55257457, 0.06925723, 0.29578531, 0.991261  ],\n",
       "       [0.65203342, 0.72176463, 0.85623047, 0.32008575, 0.28236907,\n",
       "        0.30403004, 0.67250063, 0.41164285, 0.92349991, 0.30153572],\n",
       "       [0.14852872, 0.96621902, 0.83093837, 0.15699438, 0.2855482 ,\n",
       "        0.70240568, 0.77608935, 0.45035234, 0.8241135 , 0.03637607],\n",
       "       [0.72768628, 0.1797766 , 0.91737617, 0.28770894, 0.25559673,\n",
       "        0.8730804 , 0.5821573 , 0.05349941, 0.6744373 , 0.54305739],\n",
       "       [0.55081566, 0.0326942 , 0.58861745, 0.37185446, 0.76004899,\n",
       "        0.44323922, 0.46394013, 0.02343586, 0.9121121 , 0.75970838],\n",
       "       [0.85230079, 0.20051145, 0.97232265, 0.99673594, 0.25074375,\n",
       "        0.87769239, 0.28378811, 0.25064133, 0.52988304, 0.00989408],\n",
       "       [0.82657693, 0.41690786, 0.80028283, 0.25448854, 0.45855406,\n",
       "        0.48622919, 0.47404111, 0.78588902, 0.65134682, 0.57678485],\n",
       "       [0.83182589, 0.39779707, 0.2836013 , 0.0842465 , 0.98435716,\n",
       "        0.67994701, 0.58980517, 0.88314416, 0.75275571, 0.55134721],\n",
       "       [0.21110155, 0.13184498, 0.92283481, 0.51611686, 0.34492167,\n",
       "        0.95222267, 0.53118942, 0.1550029 , 0.85635568, 0.36989887],\n",
       "       [0.16625066, 0.76162429, 0.03607336, 0.13629953, 0.29608326,\n",
       "        0.76926906, 0.90985333, 0.90989404, 0.73916632, 0.16198567],\n",
       "       [0.38233497, 0.5570199 , 0.90158498, 0.05936922, 0.33394947,\n",
       "        0.21464843, 0.63734698, 0.48136391, 0.20984188, 0.08895906],\n",
       "       [0.280302  , 0.82731223, 0.76396088, 0.32513377, 0.87503288,\n",
       "        0.45010901, 0.04688777, 0.59973173, 0.67711539, 0.54778858],\n",
       "       [0.67747002, 0.16763035, 0.62082286, 0.41248863, 0.57937406,\n",
       "        0.36174696, 0.56027174, 0.61305751, 0.46328014, 0.84950819],\n",
       "       [0.51809447, 0.46212523, 0.07095561, 0.37138836, 0.85515998,\n",
       "        0.31695976, 0.60086298, 0.58127948, 0.26500597, 0.04757473],\n",
       "       [0.01066874, 0.88496718, 0.91059089, 0.20537036, 0.85535438,\n",
       "        0.86899774, 0.54559878, 0.79873149, 0.75870552, 0.10547596],\n",
       "       [0.71083364, 0.14413284, 0.74285355, 0.55971958, 0.59394766,\n",
       "        0.77727863, 0.3046925 , 0.35643665, 0.27216199, 0.64659631],\n",
       "       [0.10101594, 0.8206654 , 0.54852739, 0.75986381, 0.49836898,\n",
       "        0.12320899, 0.28702067, 0.7867953 , 0.20529211, 0.64477017],\n",
       "       [0.48033655, 0.97930791, 0.49546934, 0.50427053, 0.15891206,\n",
       "        0.40516868, 0.79717339, 0.66209897, 0.12931869, 0.36636998],\n",
       "       [0.65684254, 0.52346625, 0.33308062, 0.87058093, 0.74549048,\n",
       "        0.63857151, 0.96575659, 0.97488162, 0.43769113, 0.81940892],\n",
       "       [0.84560878, 0.74564986, 0.65213772, 0.73994881, 0.18577681,\n",
       "        0.19862845, 0.42950871, 0.2629561 , 0.6865249 , 0.56216294],\n",
       "       [0.09309219, 0.2724485 , 0.30773739, 0.81222631, 0.03517609,\n",
       "        0.473394  , 0.30108862, 0.04429509, 0.0085712 , 0.16135892],\n",
       "       [0.9871734 , 0.91981592, 0.32583368, 0.25237738, 0.67091241,\n",
       "        0.24341105, 0.80826891, 0.6833499 , 0.65585077, 0.0047498 ],\n",
       "       [0.36594263, 0.4136229 , 0.75850259, 0.95237439, 0.84071352,\n",
       "        0.3772338 , 0.47024294, 0.61909716, 0.21428848, 0.4099987 ]])"
      ]
     },
     "execution_count": 57,
     "metadata": {},
     "output_type": "execute_result"
    }
   ],
   "source": [
    "dset[()]"
   ]
  },
  {
   "cell_type": "code",
   "execution_count": 38,
   "metadata": {},
   "outputs": [
    {
     "data": {
      "text/plain": [
       "array([[9.06902548e-01, 2.02379046e-01, 3.80346283e-01, 1.96232813e-01,\n",
       "        1.80433934e-01, 7.74386889e-01, 8.07012747e-01, 9.31994814e-01,\n",
       "        5.30442707e-01, 8.00664030e-01],\n",
       "       [9.79997016e-01, 1.95494928e-01, 5.14679391e-01, 9.11663649e-01,\n",
       "        4.81743462e-01, 4.40909644e-01, 2.07695128e-01, 8.49394535e-01,\n",
       "        9.44696646e-01, 5.34318090e-02],\n",
       "       [7.60713836e-01, 1.22916796e-01, 8.95627085e-01, 8.44643302e-01,\n",
       "        3.38184842e-01, 2.46749014e-01, 1.05572670e-01, 8.00880297e-01,\n",
       "        2.68436108e-01, 9.47344544e-01],\n",
       "       [9.51680556e-01, 2.92798758e-01, 3.84641538e-01, 3.47768192e-01,\n",
       "        3.93931894e-01, 3.35492022e-01, 6.89115518e-01, 9.83659685e-01,\n",
       "        3.69885187e-02, 3.08554556e-01],\n",
       "       [2.20239363e-01, 3.89337273e-01, 3.46110441e-01, 3.44504787e-02,\n",
       "        7.77404858e-01, 4.20908643e-01, 7.80633986e-01, 1.70268774e-01,\n",
       "        9.17291417e-01, 5.27501195e-01],\n",
       "       [1.09618469e-01, 4.71813673e-01, 6.79966677e-01, 5.30810733e-01,\n",
       "        9.05519826e-01, 8.50865969e-01, 7.35953982e-01, 9.58889008e-01,\n",
       "        8.51317357e-01, 1.33219382e-01],\n",
       "       [9.65799752e-01, 4.32533797e-02, 7.46751051e-01, 4.71766421e-01,\n",
       "        3.38491586e-01, 3.51605996e-02, 3.50280691e-02, 3.21895888e-01,\n",
       "        3.18015834e-01, 9.84939742e-01],\n",
       "       [1.70689588e-01, 4.97766357e-01, 2.71538190e-01, 1.51766086e-02,\n",
       "        9.53127829e-01, 8.63373274e-01, 8.28702036e-02, 1.35373264e-01,\n",
       "        2.42951864e-01, 8.44937702e-01],\n",
       "       [4.31045587e-01, 7.43308709e-02, 6.52340314e-04, 1.11015187e-01,\n",
       "        8.59568763e-01, 1.56137231e-01, 3.76952055e-01, 4.94757983e-01,\n",
       "        2.98176386e-02, 7.58466497e-01],\n",
       "       [5.98686056e-01, 2.10166270e-01, 6.95677360e-01, 3.81694764e-01,\n",
       "        3.08593666e-01, 2.97927318e-01, 8.63813055e-01, 9.58798644e-02,\n",
       "        7.55186006e-01, 6.46749218e-01],\n",
       "       [2.79085748e-01, 1.66685886e-01, 5.78624835e-01, 9.80075163e-01,\n",
       "        8.22719195e-02, 2.88894052e-01, 3.99574530e-01, 6.77504309e-01,\n",
       "        2.75856040e-01, 5.86424087e-01],\n",
       "       [6.46060974e-01, 6.49508917e-01, 9.65008168e-01, 3.57597000e-01,\n",
       "        5.10252516e-01, 9.34695627e-02, 9.95997047e-01, 8.87030640e-01,\n",
       "        3.94951311e-01, 5.62702277e-01],\n",
       "       [8.07588275e-01, 6.85044741e-01, 2.37250074e-04, 1.68287975e-02,\n",
       "        9.62233546e-01, 9.20490099e-01, 9.44523886e-01, 1.45224467e-01,\n",
       "        3.02688144e-01, 3.09712227e-01],\n",
       "       [6.77016967e-01, 4.41371028e-01, 6.30220940e-01, 8.15955587e-01,\n",
       "        3.58715827e-01, 4.44243331e-01, 8.44285301e-01, 7.25859540e-01,\n",
       "        7.08421593e-01, 4.46421676e-01],\n",
       "       [3.13983439e-01, 1.89254472e-01, 2.39714450e-01, 3.80440285e-01,\n",
       "        3.60086187e-01, 3.95268904e-01, 3.51505079e-01, 5.00659599e-01,\n",
       "        6.11932802e-01, 3.57507042e-01],\n",
       "       [6.83389754e-01, 2.00025477e-01, 7.43540836e-01, 8.79713512e-02,\n",
       "        1.64749044e-02, 8.56615325e-01, 5.43090348e-01, 4.97248164e-01,\n",
       "        8.87910997e-01, 7.42035201e-01],\n",
       "       [7.23690874e-01, 2.40028683e-01, 6.41584516e-01, 2.77391309e-01,\n",
       "        2.01406628e-01, 1.88875372e-01, 6.12597537e-01, 3.31902628e-01,\n",
       "        5.77713478e-01, 4.69149327e-01],\n",
       "       [9.04123221e-01, 7.54780073e-01, 2.65945075e-01, 8.49115146e-01,\n",
       "        8.59941271e-01, 2.39356948e-01, 5.90378852e-01, 3.31853276e-01,\n",
       "        5.79163076e-02, 6.92117974e-01],\n",
       "       [9.35263193e-01, 7.78857993e-01, 8.36907508e-01, 7.57945496e-01,\n",
       "        1.66262724e-01, 4.13393890e-02, 5.47795897e-01, 5.41336245e-01,\n",
       "        5.68998554e-01, 6.93851937e-01],\n",
       "       [2.53211432e-01, 4.64594901e-01, 3.24761706e-02, 1.13126151e-01,\n",
       "        4.43311080e-01, 1.81502367e-01, 2.99962288e-01, 6.77806153e-03,\n",
       "        4.55166271e-01, 7.47690461e-01],\n",
       "       [6.94265542e-01, 1.06927800e-01, 7.81581055e-01, 9.62877809e-01,\n",
       "        9.28816552e-01, 7.96418615e-01, 7.56528666e-01, 9.06058132e-01,\n",
       "        5.94091931e-01, 1.74204275e-01],\n",
       "       [2.52123673e-01, 9.62708489e-02, 5.61554369e-01, 6.54343136e-01,\n",
       "        6.40311453e-01, 8.77567118e-01, 4.10721350e-01, 8.51268623e-02,\n",
       "        5.46081703e-01, 7.99090957e-01],\n",
       "       [2.39241634e-01, 3.60067614e-01, 2.64414114e-01, 9.81388198e-01,\n",
       "        9.90484056e-01, 7.21267272e-01, 6.49166634e-03, 6.36356832e-01,\n",
       "        9.56470047e-02, 5.10298537e-03],\n",
       "       [3.48394753e-01, 5.66907245e-01, 5.25430424e-01, 3.45969754e-02,\n",
       "        2.92965270e-01, 7.62417166e-01, 8.18786439e-01, 9.70439233e-02,\n",
       "        8.02723832e-01, 8.72205207e-01],\n",
       "       [7.01511991e-01, 7.21997751e-01, 6.39595470e-01, 2.26551494e-01,\n",
       "        3.96672103e-01, 2.01509755e-02, 6.82446054e-01, 3.42364608e-02,\n",
       "        8.24872288e-01, 2.36264992e-01],\n",
       "       [9.81639914e-01, 9.75818289e-01, 4.86376290e-01, 2.87010563e-01,\n",
       "        9.24740381e-01, 7.60697258e-01, 3.08775695e-01, 1.72870069e-01,\n",
       "        6.90532301e-01, 1.84353744e-01],\n",
       "       [8.93839069e-01, 1.81887956e-01, 6.70048373e-01, 6.99927808e-01,\n",
       "        1.83341321e-01, 9.62103078e-01, 9.21562687e-01, 1.72389902e-01,\n",
       "        7.76778341e-01, 9.12848136e-01],\n",
       "       [7.79368483e-02, 1.09349559e-01, 6.52737625e-01, 4.54957968e-02,\n",
       "        3.07368747e-01, 7.75241598e-01, 8.64443314e-01, 1.84543079e-01,\n",
       "        3.88555358e-01, 1.47704349e-01],\n",
       "       [1.54804423e-01, 2.88685450e-01, 3.04021754e-01, 7.46437076e-02,\n",
       "        5.73428456e-01, 7.63005629e-01, 1.36043349e-01, 2.14667882e-01,\n",
       "        9.15540665e-01, 5.99876027e-02],\n",
       "       [4.76272420e-01, 4.97808238e-01, 4.63599410e-01, 3.39215667e-01,\n",
       "        2.83279044e-01, 1.34477057e-01, 6.68311253e-01, 6.00431912e-01,\n",
       "        1.61336171e-01, 7.62560392e-01],\n",
       "       [2.28296941e-01, 9.99333017e-01, 7.22748864e-01, 5.44581038e-01,\n",
       "        8.91416811e-01, 6.95397835e-01, 6.73263973e-01, 5.59253911e-01,\n",
       "        6.21098631e-02, 7.16308476e-01],\n",
       "       [9.83926427e-01, 7.50876509e-01, 4.36999556e-01, 9.71409880e-01,\n",
       "        7.31335394e-01, 6.66357397e-01, 8.78029651e-01, 1.57060962e-01,\n",
       "        9.04121988e-01, 4.00716656e-01],\n",
       "       [4.18161769e-01, 5.49120621e-01, 5.78041476e-01, 6.07166460e-01,\n",
       "        1.60062476e-01, 1.57189414e-01, 1.06073315e-01, 4.99058446e-02,\n",
       "        1.07099211e-01, 3.26679241e-01],\n",
       "       [9.94897648e-01, 4.59178783e-01, 2.99196882e-01, 1.11179966e-01,\n",
       "        9.82995943e-01, 3.10499670e-01, 8.74945633e-01, 1.33511168e-01,\n",
       "        6.10340339e-01, 9.21482212e-01],\n",
       "       [2.44961304e-01, 9.95594428e-01, 1.91675873e-01, 4.32067961e-02,\n",
       "        4.88022857e-01, 7.57819677e-01, 6.72619661e-01, 1.11703304e-01,\n",
       "        3.45984793e-01, 1.72067955e-01],\n",
       "       [1.50026381e-01, 2.71481733e-01, 4.98604012e-03, 9.21898573e-01,\n",
       "        5.17195117e-01, 6.72305239e-01, 8.41977450e-01, 8.54879571e-01,\n",
       "        6.99703809e-01, 6.37139646e-01],\n",
       "       [7.63463894e-01, 6.14056969e-01, 9.35038211e-01, 4.90893632e-01,\n",
       "        5.49133861e-01, 7.08323152e-01, 4.99202573e-01, 9.22080001e-01,\n",
       "        1.48045861e-01, 2.20237030e-01],\n",
       "       [7.48036234e-01, 6.62150697e-01, 4.01915727e-02, 3.79152274e-01,\n",
       "        8.78446208e-01, 6.49035721e-01, 2.72909189e-01, 6.73630887e-01,\n",
       "        5.61918141e-01, 5.31063622e-01],\n",
       "       [4.09557101e-02, 9.85315179e-01, 9.81184084e-01, 2.26609258e-01,\n",
       "        8.25219100e-01, 2.41082976e-01, 9.24818533e-01, 7.18047633e-01,\n",
       "        7.02762569e-01, 8.69374162e-01],\n",
       "       [8.67769606e-02, 1.15058635e-01, 6.19832367e-01, 9.73429473e-01,\n",
       "        1.56433212e-01, 3.11437457e-01, 7.74669566e-01, 4.87809430e-01,\n",
       "        7.52680888e-01, 1.60970034e-01],\n",
       "       [3.81860808e-01, 4.88988996e-01, 7.48432253e-01, 9.30666033e-01,\n",
       "        5.64909147e-02, 9.91675720e-01, 2.78246558e-01, 1.79993688e-01,\n",
       "        2.78036943e-01, 4.45615220e-01],\n",
       "       [8.92294317e-01, 6.31552828e-02, 6.36684759e-01, 4.24237363e-01,\n",
       "        3.35319747e-01, 7.42616259e-01, 9.12482185e-02, 7.36198041e-01,\n",
       "        2.11450675e-01, 3.83124372e-01],\n",
       "       [4.10722513e-01, 8.87849297e-01, 4.60594244e-01, 2.32717892e-01,\n",
       "        7.07485036e-02, 2.19368359e-01, 2.17810888e-01, 1.81125906e-01,\n",
       "        6.90386452e-01, 1.81169373e-01],\n",
       "       [8.06405725e-01, 5.88396077e-01, 3.29287467e-01, 5.57060360e-01,\n",
       "        2.87408305e-01, 1.48751908e-01, 9.07239162e-01, 5.08098781e-01,\n",
       "        4.07212080e-01, 6.39915711e-01],\n",
       "       [8.03388895e-01, 5.46106026e-01, 1.43917165e-01, 2.82803978e-01,\n",
       "        8.15852832e-01, 1.57546435e-01, 2.32796799e-01, 5.53706976e-02,\n",
       "        8.87378394e-01, 3.28671705e-01],\n",
       "       [4.61983258e-01, 5.98980470e-01, 9.61719697e-01, 7.62621793e-01,\n",
       "        8.42064809e-01, 8.21120568e-02, 5.79003930e-01, 5.01685620e-01,\n",
       "        8.42639381e-01, 7.66742793e-01],\n",
       "       [3.29782019e-01, 2.60578561e-01, 6.74702872e-02, 7.49827247e-01,\n",
       "        3.68817783e-01, 3.98388312e-01, 3.91870244e-01, 4.87078180e-01,\n",
       "        5.28982795e-01, 2.19121898e-01],\n",
       "       [3.06017429e-01, 2.11230549e-01, 9.20965678e-01, 8.64729260e-01,\n",
       "        7.73410630e-01, 3.82130888e-01, 3.92060728e-01, 1.63107529e-01,\n",
       "        2.75605408e-01, 9.34549627e-01],\n",
       "       [5.17746843e-01, 1.99451026e-02, 1.13181039e-01, 3.73540855e-01,\n",
       "        5.79626144e-01, 3.66984632e-01, 1.00032047e-01, 4.24115061e-01,\n",
       "        3.63578408e-01, 4.12089132e-01],\n",
       "       [6.56217876e-01, 4.22879359e-02, 9.92019514e-01, 3.15498118e-01,\n",
       "        5.66984506e-01, 7.90980781e-01, 1.91394140e-01, 5.99114244e-01,\n",
       "        7.52396986e-01, 7.85890106e-01],\n",
       "       [4.69252059e-01, 9.82487837e-01, 3.69778002e-02, 1.72562922e-01,\n",
       "        1.60180820e-01, 2.93524091e-01, 8.95008601e-02, 4.67261561e-01,\n",
       "        4.94254901e-01, 6.48121628e-01],\n",
       "       [4.04839227e-01, 5.15807873e-01, 8.50623713e-02, 5.53388025e-01,\n",
       "        8.44962560e-01, 3.09543637e-01, 6.17797324e-01, 7.31150611e-01,\n",
       "        7.42210663e-01, 5.84483489e-01],\n",
       "       [9.50962996e-01, 1.65841263e-02, 8.01180570e-01, 2.83574215e-01,\n",
       "        6.95974067e-01, 1.94529157e-02, 5.12289343e-01, 8.93975314e-01,\n",
       "        3.70684021e-01, 1.97652439e-01],\n",
       "       [1.32817796e-01, 8.15246595e-01, 6.18723840e-01, 7.33529381e-01,\n",
       "        4.96621352e-01, 3.38030550e-01, 5.50422090e-01, 6.33040689e-01,\n",
       "        4.33696840e-01, 7.33482739e-01],\n",
       "       [6.34056657e-01, 3.09779375e-01, 5.21702104e-01, 4.85524945e-01,\n",
       "        8.72006683e-01, 5.52900645e-01, 9.68394486e-02, 5.42292262e-01,\n",
       "        7.09781185e-01, 6.47810060e-02],\n",
       "       [5.45943238e-01, 4.19851858e-01, 3.42436306e-01, 5.88587261e-01,\n",
       "        8.16094339e-02, 4.83107095e-01, 4.18289403e-01, 5.21771659e-01,\n",
       "        7.64555674e-01, 7.35665878e-01],\n",
       "       [5.32284080e-01, 9.33178573e-01, 3.86158372e-01, 1.91800291e-01,\n",
       "        2.84175919e-01, 7.16099526e-01, 9.14726502e-01, 6.93040313e-01,\n",
       "        9.74781897e-01, 7.77138072e-01],\n",
       "       [8.61239919e-01, 2.52720243e-01, 5.59426681e-01, 2.45800711e-01,\n",
       "        9.56136621e-01, 4.45317159e-01, 8.83190924e-01, 2.62870720e-01,\n",
       "        8.01478736e-01, 1.78625777e-01],\n",
       "       [6.36651880e-01, 1.87650061e-01, 9.83538083e-01, 4.99175956e-02,\n",
       "        6.33251634e-02, 6.46194725e-01, 3.66790530e-01, 6.34272528e-01,\n",
       "        4.12469349e-01, 8.31810285e-01],\n",
       "       [3.00111435e-01, 7.55326654e-01, 4.25898548e-01, 3.13503454e-02,\n",
       "        4.37292247e-02, 6.24363903e-01, 1.99338176e-01, 2.94420208e-01,\n",
       "        3.07053076e-01, 4.42952135e-01],\n",
       "       [4.81772007e-01, 5.54954675e-02, 9.26188598e-01, 9.17367155e-03,\n",
       "        8.44831441e-01, 1.12245862e-01, 3.38231300e-01, 1.33004527e-01,\n",
       "        2.89352170e-01, 5.93957472e-01],\n",
       "       [5.04949809e-01, 7.41837164e-01, 5.13559077e-01, 1.62221405e-01,\n",
       "        5.02978291e-01, 7.29884354e-02, 7.42479497e-01, 1.43550108e-01,\n",
       "        1.46718100e-01, 2.65361936e-01],\n",
       "       [1.16427390e-01, 3.97648686e-01, 4.74859066e-01, 8.19467539e-01,\n",
       "        5.71508774e-01, 4.55453478e-01, 5.65874328e-01, 8.44463923e-02,\n",
       "        2.12671851e-01, 5.53052398e-01],\n",
       "       [8.75537317e-01, 9.08162308e-01, 7.90923464e-01, 3.05628575e-01,\n",
       "        1.72006776e-01, 3.59774381e-01, 6.78651739e-01, 9.27259194e-01,\n",
       "        7.82235165e-01, 3.16914553e-01],\n",
       "       [9.86774601e-01, 1.76620406e-02, 4.86227016e-01, 1.16810598e-01,\n",
       "        1.80458788e-01, 5.38791227e-01, 4.27445092e-01, 5.35701616e-01,\n",
       "        7.79089883e-01, 1.07352320e-01],\n",
       "       [5.21722343e-01, 7.79202526e-02, 9.50366568e-02, 3.24015204e-02,\n",
       "        6.18913351e-01, 1.04357325e-01, 7.59742451e-01, 2.99458553e-01,\n",
       "        5.21612145e-01, 9.72854338e-01],\n",
       "       [6.97515386e-01, 7.55049809e-01, 4.99344219e-02, 5.70055418e-01,\n",
       "        3.16525959e-01, 8.72517020e-01, 3.56591088e-01, 4.49613376e-02,\n",
       "        1.54206625e-03, 3.19140263e-01],\n",
       "       [3.40476255e-01, 9.66420469e-01, 8.69138332e-01, 1.85526208e-01,\n",
       "        1.25146994e-01, 4.35685755e-01, 1.80523027e-01, 4.31808844e-01,\n",
       "        6.22655909e-02, 7.00256985e-01],\n",
       "       [7.10160651e-01, 1.00300487e-01, 3.59909056e-01, 5.73301722e-01,\n",
       "        1.96428809e-01, 9.69397459e-02, 9.85854582e-01, 7.18743188e-02,\n",
       "        6.58244560e-01, 6.98280051e-01],\n",
       "       [9.66366916e-01, 6.33757311e-01, 3.47958088e-01, 5.84490245e-02,\n",
       "        6.48372511e-01, 5.61467629e-01, 8.99374865e-02, 5.31483402e-01,\n",
       "        3.22066190e-01, 4.71407573e-01],\n",
       "       [6.36052758e-01, 1.96004077e-01, 7.04370002e-01, 6.30439333e-01,\n",
       "        9.16055367e-01, 9.60987943e-01, 6.62550497e-01, 6.05917989e-01,\n",
       "        1.20931926e-01, 4.93794645e-01],\n",
       "       [9.42503723e-01, 5.79188557e-01, 2.90818989e-01, 9.72539089e-01,\n",
       "        9.76623090e-01, 9.82944028e-01, 5.81980558e-01, 3.31824188e-01,\n",
       "        1.54045499e-01, 4.57068664e-01],\n",
       "       [7.35339564e-01, 2.86928508e-01, 8.30489552e-01, 7.07894320e-01,\n",
       "        5.96090331e-02, 7.20255569e-01, 5.55843852e-01, 6.41380070e-01,\n",
       "        2.44321351e-01, 8.16771677e-01],\n",
       "       [7.14581290e-01, 8.50751047e-01, 8.61376851e-01, 6.67979443e-01,\n",
       "        1.25132686e-01, 8.27377719e-02, 1.71687433e-01, 5.05994341e-01,\n",
       "        1.28050908e-01, 8.70291229e-01],\n",
       "       [8.39970301e-01, 9.27643406e-01, 9.34265887e-02, 8.18217980e-01,\n",
       "        1.29543821e-01, 7.91212218e-01, 6.53424692e-01, 5.49667057e-01,\n",
       "        7.44035501e-02, 9.87506822e-01],\n",
       "       [3.17304054e-01, 1.87577681e-01, 9.19992988e-01, 6.28823129e-01,\n",
       "        1.39855488e-01, 6.86890964e-01, 4.18157353e-01, 1.87479531e-02,\n",
       "        7.94879516e-01, 7.31149782e-01],\n",
       "       [3.94082827e-01, 1.98322341e-01, 3.52898334e-02, 7.86764906e-01,\n",
       "        6.18172362e-01, 9.97368271e-01, 1.60420632e-01, 5.48579817e-01,\n",
       "        3.86286213e-01, 7.57448159e-01],\n",
       "       [7.61970166e-01, 3.72876774e-01, 7.46663122e-01, 4.69596922e-01,\n",
       "        5.56717554e-01, 8.25424784e-01, 4.02319300e-01, 1.13001282e-01,\n",
       "        3.46952622e-01, 9.08937708e-01],\n",
       "       [5.41652686e-01, 8.52092409e-01, 2.97144157e-01, 3.63921525e-01,\n",
       "        9.58507040e-01, 4.08991474e-01, 2.85629271e-01, 7.25399551e-01,\n",
       "        3.56216183e-01, 5.16364395e-01],\n",
       "       [3.70657558e-01, 1.72807497e-02, 7.97760585e-01, 7.77075371e-01,\n",
       "        7.39162718e-01, 1.62316682e-01, 8.58548024e-02, 1.25984331e-01,\n",
       "        2.41539533e-01, 9.21674351e-01],\n",
       "       [1.03184052e-01, 9.76901349e-01, 2.60585364e-01, 1.02488075e-01,\n",
       "        8.31120262e-01, 5.48057616e-01, 9.34908755e-01, 5.62497658e-01,\n",
       "        1.66008657e-01, 8.08123942e-01],\n",
       "       [6.04729117e-01, 9.11655887e-01, 7.30091941e-01, 8.80832785e-01,\n",
       "        9.79263887e-01, 6.10256159e-01, 5.45451400e-01, 5.92561534e-01,\n",
       "        5.77726978e-01, 5.87693754e-01],\n",
       "       [9.45193182e-01, 8.08170908e-01, 8.18357669e-01, 7.26756336e-01,\n",
       "        5.89504961e-01, 9.57058408e-01, 6.98580027e-01, 7.50342020e-01,\n",
       "        9.73560623e-01, 5.55958242e-01],\n",
       "       [6.88050170e-01, 8.29904014e-01, 6.99472968e-01, 6.51327188e-01,\n",
       "        9.74475157e-01, 6.08647500e-01, 8.63709987e-01, 9.92349836e-01,\n",
       "        6.20568054e-01, 4.44858278e-01],\n",
       "       [5.31460866e-01, 1.05434468e-01, 1.08281986e-01, 2.45245456e-01,\n",
       "        3.87175013e-01, 1.78012059e-01, 2.05857169e-01, 8.65169686e-02,\n",
       "        5.13940345e-01, 9.12944607e-01],\n",
       "       [7.81955941e-01, 7.43913760e-01, 1.18397953e-01, 6.06120331e-01,\n",
       "        8.15827461e-01, 6.57462596e-01, 7.59846005e-01, 1.72202189e-01,\n",
       "        8.30598906e-01, 1.91476996e-01],\n",
       "       [1.81958817e-01, 1.69161888e-01, 1.03292413e-01, 7.45269812e-01,\n",
       "        3.50459702e-02, 2.28771633e-01, 8.30004170e-01, 5.09212885e-01,\n",
       "        6.93431239e-01, 2.70014882e-01],\n",
       "       [5.34863539e-01, 7.92306242e-01, 9.93061340e-01, 9.53712710e-01,\n",
       "        1.89481524e-01, 7.40992003e-01, 7.23584512e-02, 4.74216523e-01,\n",
       "        3.05949940e-02, 4.54780158e-01],\n",
       "       [8.71502743e-01, 1.35247035e-02, 7.11695734e-01, 4.17800488e-01,\n",
       "        8.06093784e-01, 6.61235878e-01, 7.62312666e-01, 3.18441482e-01,\n",
       "        1.11938985e-01, 8.36647232e-01],\n",
       "       [4.22582722e-01, 3.20417961e-01, 2.14156281e-01, 8.62958255e-02,\n",
       "        8.18317048e-01, 5.98649694e-01, 7.26395012e-02, 1.43192668e-01,\n",
       "        9.18141483e-02, 3.10485338e-01],\n",
       "       [6.80897889e-01, 1.85778349e-01, 1.32975990e-01, 2.27052057e-01,\n",
       "        8.72267453e-01, 6.17459099e-01, 8.18559969e-01, 2.91309019e-01,\n",
       "        9.40912698e-01, 7.30227202e-01],\n",
       "       [6.59419039e-01, 5.93196333e-01, 4.82361356e-01, 8.82516833e-01,\n",
       "        6.05052230e-01, 4.11992846e-01, 7.60749849e-01, 4.73996331e-01,\n",
       "        9.76012021e-01, 1.14972586e-01],\n",
       "       [6.62461056e-01, 6.40722575e-01, 4.38696646e-01, 7.54359069e-01,\n",
       "        7.82223071e-01, 1.29978130e-01, 3.21645444e-01, 2.77005875e-01,\n",
       "        4.82096495e-01, 4.16441293e-01],\n",
       "       [1.08113400e-02, 2.70949029e-01, 2.59273583e-01, 2.99823178e-01,\n",
       "        2.42135154e-01, 3.78820885e-01, 1.28052234e-01, 7.34475868e-01,\n",
       "        6.49879079e-01, 7.93102863e-01],\n",
       "       [6.63762085e-01, 6.40324554e-01, 5.44360810e-01, 8.41915650e-01,\n",
       "        3.81316702e-01, 3.02070004e-01, 2.44566181e-01, 9.37912481e-01,\n",
       "        4.86447172e-01, 7.41260796e-01],\n",
       "       [8.56681753e-01, 5.59704528e-01, 3.08148840e-01, 6.53361444e-01,\n",
       "        8.17509570e-01, 3.60095998e-01, 6.56795490e-01, 4.16111393e-01,\n",
       "        9.25796159e-01, 6.81334347e-01],\n",
       "       [1.17120928e-01, 5.72388244e-01, 6.32762181e-01, 4.07413498e-01,\n",
       "        8.07327301e-01, 1.35551526e-01, 4.03192577e-01, 4.50118525e-01,\n",
       "        6.65413181e-01, 9.16047159e-01],\n",
       "       [8.70747163e-01, 9.74052407e-01, 6.68901265e-01, 2.87165240e-01,\n",
       "        5.64691250e-01, 9.45488871e-01, 3.27842272e-01, 1.40513742e-01,\n",
       "        7.70995962e-02, 6.24753402e-01],\n",
       "       [3.10668261e-01, 3.38277988e-01, 5.54300858e-01, 3.29350196e-01,\n",
       "        6.28574207e-01, 5.52926705e-01, 5.91811616e-01, 4.40987162e-01,\n",
       "        6.13846520e-01, 8.24905743e-01],\n",
       "       [4.13843122e-01, 5.65606177e-01, 9.69243745e-01, 8.55552266e-01,\n",
       "        3.00138550e-01, 1.39665559e-01, 2.24230535e-01, 7.06105299e-01,\n",
       "        3.31334241e-01, 3.70723300e-01]])"
      ]
     },
     "execution_count": 38,
     "metadata": {},
     "output_type": "execute_result"
    }
   ],
   "source": [
    "np.array(dset)"
   ]
  },
  {
   "cell_type": "code",
   "execution_count": 20,
   "metadata": {},
   "outputs": [
    {
     "ename": "TypeError",
     "evalue": "Only chunked datasets can be resized",
     "output_type": "error",
     "traceback": [
      "\u001b[1;31m---------------------------------------------------------------------------\u001b[0m",
      "\u001b[1;31mTypeError\u001b[0m                                 Traceback (most recent call last)",
      "Input \u001b[1;32mIn [20]\u001b[0m, in \u001b[0;36m<cell line: 1>\u001b[1;34m()\u001b[0m\n\u001b[1;32m----> 1\u001b[0m \u001b[43mf\u001b[49m\u001b[43m[\u001b[49m\u001b[38;5;124;43m\"\u001b[39;49m\u001b[38;5;124;43mdata\u001b[39;49m\u001b[38;5;124;43m\"\u001b[39;49m\u001b[43m]\u001b[49m\u001b[38;5;241;43m.\u001b[39;49m\u001b[43mresize\u001b[49m\u001b[43m(\u001b[49m\u001b[38;5;241;43m10\u001b[39;49m\u001b[43m,\u001b[49m\u001b[43m \u001b[49m\u001b[38;5;241;43m5\u001b[39;49m\u001b[43m)\u001b[49m\n",
      "File \u001b[1;32mc:\\Users\\liuzy\\Miniconda3\\envs\\py39\\lib\\site-packages\\h5py\\_hl\\dataset.py:673\u001b[0m, in \u001b[0;36mDataset.resize\u001b[1;34m(self, size, axis)\u001b[0m\n\u001b[0;32m    671\u001b[0m \u001b[38;5;28;01mwith\u001b[39;00m phil:\n\u001b[0;32m    672\u001b[0m     \u001b[38;5;28;01mif\u001b[39;00m \u001b[38;5;28mself\u001b[39m\u001b[38;5;241m.\u001b[39mchunks \u001b[38;5;129;01mis\u001b[39;00m \u001b[38;5;28;01mNone\u001b[39;00m:\n\u001b[1;32m--> 673\u001b[0m         \u001b[38;5;28;01mraise\u001b[39;00m \u001b[38;5;167;01mTypeError\u001b[39;00m(\u001b[38;5;124m\"\u001b[39m\u001b[38;5;124mOnly chunked datasets can be resized\u001b[39m\u001b[38;5;124m\"\u001b[39m)\n\u001b[0;32m    675\u001b[0m     \u001b[38;5;28;01mif\u001b[39;00m axis \u001b[38;5;129;01mis\u001b[39;00m \u001b[38;5;129;01mnot\u001b[39;00m \u001b[38;5;28;01mNone\u001b[39;00m:\n\u001b[0;32m    676\u001b[0m         \u001b[38;5;28;01mif\u001b[39;00m \u001b[38;5;129;01mnot\u001b[39;00m (axis \u001b[38;5;241m>\u001b[39m\u001b[38;5;241m=\u001b[39m\u001b[38;5;241m0\u001b[39m \u001b[38;5;129;01mand\u001b[39;00m axis \u001b[38;5;241m<\u001b[39m \u001b[38;5;28mself\u001b[39m\u001b[38;5;241m.\u001b[39mid\u001b[38;5;241m.\u001b[39mrank):\n",
      "\u001b[1;31mTypeError\u001b[0m: Only chunked datasets can be resized"
     ]
    }
   ],
   "source": [
    "f[\"data\"].resize(10, 5)"
   ]
  }
 ],
 "metadata": {
  "kernelspec": {
   "display_name": "py39",
   "language": "python",
   "name": "python3"
  },
  "language_info": {
   "codemirror_mode": {
    "name": "ipython",
    "version": 3
   },
   "file_extension": ".py",
   "mimetype": "text/x-python",
   "name": "python",
   "nbconvert_exporter": "python",
   "pygments_lexer": "ipython3",
   "version": "3.9.17"
  }
 },
 "nbformat": 4,
 "nbformat_minor": 2
}
