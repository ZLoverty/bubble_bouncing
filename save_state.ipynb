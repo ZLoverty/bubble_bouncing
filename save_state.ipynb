{
 "cells": [
  {
   "cell_type": "markdown",
   "id": "e74c81ea",
   "metadata": {},
   "source": [
    "# Save state\n",
    "\n",
    "We use .h5 file to save the simulation states. The idea is that multiple time steps will be saved in a single file, and that we should be able to save the data progressively during the simulation run. "
   ]
  },
  {
   "cell_type": "markdown",
   "id": "6bc2d8d9",
   "metadata": {},
   "source": [
    "## 0 Packages"
   ]
  },
  {
   "cell_type": "code",
   "execution_count": 2,
   "id": "581cba49",
   "metadata": {},
   "outputs": [],
   "source": [
    "import numpy as np\n",
    "import h5py\n",
    "from pathlib import Path\n",
    "import time"
   ]
  },
  {
   "cell_type": "markdown",
   "id": "f481e8eb",
   "metadata": {},
   "source": [
    "## 1 Save data\n",
    "\n",
    "Assume we have data t and y at each step\n",
    "\n",
    "```\n",
    "t : float\n",
    "    time stamp\n",
    "y : array_like[float]\n",
    "    simulation state \n",
    "```\n",
    "\n",
    "We are going to save them in two datasets \"t\" and \"y\"."
   ]
  },
  {
   "cell_type": "markdown",
   "id": "f505f89a",
   "metadata": {},
   "source": [
    "### 1.1 Create file and save one step"
   ]
  },
  {
   "cell_type": "code",
   "execution_count": 2,
   "id": "e48504a4",
   "metadata": {},
   "outputs": [],
   "source": [
    "t = 0\n",
    "y = np.random.rand(100)"
   ]
  },
  {
   "cell_type": "code",
   "execution_count": 3,
   "id": "547098f5",
   "metadata": {},
   "outputs": [],
   "source": [
    "with h5py.File(\"_test.h5\", \"w\") as f:\n",
    "    t_data = f.create_dataset(\"t\", (1,), maxshape=(None,), dtype=float)\n",
    "    y_data = f.create_dataset(\"y\", (1,*y.shape), maxshape=(None,*y.shape), dtype=float)\n",
    "    t_data[0] = t\n",
    "    y_data[0] = np.random.rand(100)"
   ]
  },
  {
   "cell_type": "code",
   "execution_count": 5,
   "id": "a4235a0d",
   "metadata": {},
   "outputs": [
    {
     "name": "stdout",
     "output_type": "stream",
     "text": [
      "t shape = 1\n",
      "y shape = 100\n"
     ]
    }
   ],
   "source": [
    "# inspect the saved data\n",
    "with h5py.File(\"_test.h5\", \"r\") as f:\n",
    "    print(f\"t shape = {f[\"t\"].size}\\ny shape = {f[\"y\"].size}\")"
   ]
  },
  {
   "cell_type": "markdown",
   "id": "77516112",
   "metadata": {},
   "source": [
    "### 1.2 Save multiple steps"
   ]
  },
  {
   "cell_type": "code",
   "execution_count": 6,
   "id": "2345a858",
   "metadata": {},
   "outputs": [],
   "source": [
    "with h5py.File(\"_test.h5\", \"w\") as f:\n",
    "    t_data = f.create_dataset(\"t\", (0,), maxshape=(None,), dtype=float)\n",
    "    y_data = f.create_dataset(\"y\", (0,*y.shape), maxshape=(None,*y.shape), dtype=float)\n",
    "    for t in np.linspace(0, 10):\n",
    "        t_data.resize(t_data.shape[0]+1, axis=0)\n",
    "        t_data[-1] = t\n",
    "        y_data.resize(y_data.shape[0]+1, axis=0)\n",
    "        y_data[-1] = np.random.rand(100)"
   ]
  },
  {
   "cell_type": "code",
   "execution_count": 9,
   "id": "be9e020a",
   "metadata": {},
   "outputs": [
    {
     "name": "stdout",
     "output_type": "stream",
     "text": [
      "t shape = (50,)\n",
      "y shape = (50, 100)\n"
     ]
    }
   ],
   "source": [
    "# inspect the saved data\n",
    "with h5py.File(\"_test.h5\", \"r\") as f:\n",
    "    print(f\"t shape = {f[\"t\"].shape}\\ny shape = {f[\"y\"].shape}\")"
   ]
  },
  {
   "cell_type": "markdown",
   "id": "f345a52d",
   "metadata": {},
   "source": [
    "### 1.3 Append data to an existing .h5 file\n",
    "\n",
    "In a simulation, we need to save data during the run, and possibily inspect the data while the simulation is still actively writing to the file. This means that we cannot keep the .h5 data file open throughout the run, but rather repeatedly open the file, append data, and close the file. This section test this workflow. \n",
    "\n",
    "Intuitively, this repeated file IO process can cause significant overhead and lower the performance of the code. In this section, we will also assess how much overhead is caused by the file operations. "
   ]
  },
  {
   "cell_type": "markdown",
   "id": "6b8f5c90",
   "metadata": {},
   "source": [
    "#### 1.3.1 Append data"
   ]
  },
  {
   "cell_type": "code",
   "execution_count": 10,
   "id": "263f1887",
   "metadata": {},
   "outputs": [],
   "source": [
    "# append data\n",
    "with h5py.File(\"_test.h5\", \"r+\") as f:\n",
    "    t_data = f[\"t\"]\n",
    "    y_data = f[\"y\"]\n",
    "    t_data.resize(t_data.shape[0]+1, axis=0)\n",
    "    y_data.resize(y_data.shape[0]+1, axis=0)\n",
    "    t_data[-1] = t + 1\n",
    "    y_data[-1] = np.random.rand(*y_data.shape[1:])"
   ]
  },
  {
   "cell_type": "code",
   "execution_count": 11,
   "id": "2d29b640",
   "metadata": {},
   "outputs": [
    {
     "name": "stdout",
     "output_type": "stream",
     "text": [
      "t shape = (51,)\n",
      "y shape = (51, 100)\n"
     ]
    }
   ],
   "source": [
    "# inspect the appended data\n",
    "with h5py.File(\"_test.h5\", \"r\") as f:\n",
    "    print(f\"t shape = {f[\"t\"].shape}\\ny shape = {f[\"y\"].shape}\")"
   ]
  },
  {
   "cell_type": "markdown",
   "id": "187318c1",
   "metadata": {},
   "source": [
    "#### 1.3.2 File operation overhead"
   ]
  },
  {
   "cell_type": "code",
   "execution_count": null,
   "id": "70d912d1",
   "metadata": {},
   "outputs": [],
   "source": [
    "N = int(2e5)"
   ]
  },
  {
   "cell_type": "code",
   "execution_count": 25,
   "id": "2c5e2f49",
   "metadata": {},
   "outputs": [
    {
     "name": "stdout",
     "output_type": "stream",
     "text": [
      "Open once run time: 7.0\n"
     ]
    }
   ],
   "source": [
    "# method 1: open file once\n",
    "t0 = time.time()\n",
    "with h5py.File(\"_test.h5\", \"w\") as f:\n",
    "    t_data = f.create_dataset(\"t\", (0,), maxshape=(None,), dtype=float)\n",
    "    y_data = f.create_dataset(\"y\", (0,*y.shape), maxshape=(None,*y.shape), dtype=float)\n",
    "    for t in np.linspace(0, 10, N):\n",
    "        t_data.resize(t_data.shape[0]+1, axis=0)\n",
    "        t_data[-1] = t\n",
    "        y_data.resize(y_data.shape[0]+1, axis=0)\n",
    "        y_data[-1] = np.random.rand(100)\n",
    "t = time.time() - t0\n",
    "print(f\"Open once run time: {t:.1f}\")"
   ]
  },
  {
   "cell_type": "code",
   "execution_count": 8,
   "id": "635fc347",
   "metadata": {},
   "outputs": [
    {
     "name": "stdout",
     "output_type": "stream",
     "text": [
      "Open once run time: 55.3\n"
     ]
    }
   ],
   "source": [
    "# method 1: open file at each iteration\n",
    "t0 = time.time()\n",
    "\n",
    "# create .h5 file\n",
    "with h5py.File(\"_test.h5\", \"w\") as f:\n",
    "    t_data = f.create_dataset(\"t\", (0,), maxshape=(None,), dtype=float)\n",
    "    y_data = f.create_dataset(\"y\", (0,*y.shape), maxshape=(None,*y.shape), dtype=float)\n",
    "\n",
    "# repeatedly append data\n",
    "for t in np.linspace(0, 10, N):\n",
    "    y = np.random.rand(100)\n",
    "    with h5py.File(\"_test.h5\", \"r+\") as f:\n",
    "        t_data = f[\"t\"]\n",
    "        y_data = f[\"y\"]\n",
    "        t_data.resize(t_data.shape[0]+1, axis=0)\n",
    "        y_data.resize(y_data.shape[0]+1, axis=0)\n",
    "        t_data[-1] = t\n",
    "        y_data[-1] = y\n",
    "t = time.time() - t0\n",
    "print(f\"Open once run time: {t:.1f}\")"
   ]
  },
  {
   "cell_type": "markdown",
   "id": "0c5c1024",
   "metadata": {},
   "source": [
    "The file operation overhead is rather obvious: the run time of repeatedly appending is 4 times of the method where the file is only opened once. Therefore, while it is desired that we append data progressively, it is also necessary to minimize the number of file opening and data appending. "
   ]
  },
  {
   "cell_type": "markdown",
   "id": "7d716f7e",
   "metadata": {},
   "source": [
    "#### 1.3.4 Reduce file operation by mode=\"a\" and flushing\n",
    "\n",
    "This is the recommended approach by Gemini, which brings together simplicity and performance. The idea is to use \"a\" mode and flush the cached data at a longer interval. \n",
    "\n",
    "We need to test if this process actually blocks the access of other programs. "
   ]
  },
  {
   "cell_type": "code",
   "execution_count": 40,
   "id": "b4f3e733",
   "metadata": {},
   "outputs": [],
   "source": [
    "h5file = Path(\"_test.h5\")\n",
    "if h5file.exists():\n",
    "    h5file.unlink()"
   ]
  },
  {
   "cell_type": "code",
   "execution_count": 41,
   "id": "6feca08c",
   "metadata": {},
   "outputs": [
    {
     "name": "stdout",
     "output_type": "stream",
     "text": [
      "Flush 1000 times.\n",
      "Caching run time: 87.3\n"
     ]
    }
   ],
   "source": [
    "t0 = time.time()\n",
    "flush_interval = 0.01\n",
    "last_flush = 0\n",
    "T = 10\n",
    "N = int(2e5)\n",
    "print(f\"Flush {int(T/flush_interval)} times.\")\n",
    "with h5py.File(\"_test.h5\", \"a\") as f:\n",
    "    t_data = f.create_dataset(\"t\", (0,), maxshape=(None,), dtype=float)\n",
    "    y_data = f.create_dataset(\"y\", (0,*y.shape), maxshape=(None,*y.shape), dtype=float)\n",
    "    \n",
    "    for t in np.linspace(0, T, N):\n",
    "        \n",
    "        t_data.resize(t_data.shape[0]+1, axis=0)\n",
    "        t_data[-1] = t\n",
    "        y_data.resize(y_data.shape[0]+1, axis=0)\n",
    "        y_data[-1] = np.random.rand(100)\n",
    "\n",
    "        if t - last_flush > flush_interval:\n",
    "            f.flush()\n",
    "\n",
    "t = time.time() - t0\n",
    "print(f\"Caching run time: {t:.1f}\")"
   ]
  },
  {
   "cell_type": "markdown",
   "id": "95df8651",
   "metadata": {},
   "source": [
    "No, the file is locked while the code is running. "
   ]
  },
  {
   "cell_type": "markdown",
   "id": "0ade864e",
   "metadata": {},
   "source": [
    "### 1.4 Caching and batch-saving\n",
    "\n",
    "Cache some data in memory and save them in batches every flush_time."
   ]
  },
  {
   "cell_type": "code",
   "execution_count": 70,
   "id": "2c5aa559",
   "metadata": {},
   "outputs": [],
   "source": [
    "class DataBuffer(list):\n",
    "    def __init__(self, \n",
    "                 h5file: str | Path, \n",
    "                 dset_name: str, \n",
    "                 data_shape: tuple = (),\n",
    "                 dtype : type = float):\n",
    "        \"\"\"Initiate a DataBuffer object. The main purpose is to implement a `flush()` method, so that a list of data can be flushed to a designated file on the disk.\n",
    "        \n",
    "        Parameters\n",
    "        ----------\n",
    "        h5file : str | Path\n",
    "            path to the .h5 file, where the data are dumped\n",
    "        dset_name : str\n",
    "            dataset name\n",
    "        data_shape : tuple\n",
    "            data shape at each step as a tuple, e.g. () for scalar\n",
    "        dtype : type\n",
    "            date type\n",
    "\n",
    "        Examples\n",
    "        --------\n",
    "        >>> with h5py.File(h5file, \"w\") as f: pass\n",
    "        >>> t_buffer = DataBuffer(h5file, \"t\")\n",
    "        >>> for t in range(100):\n",
    "                t_buffer.append(t)\n",
    "                if len(t_buffer) > thres:\n",
    "                    t_buffer.flush()\n",
    "        \"\"\"\n",
    "        super().__init__()\n",
    "        self.dset_name = dset_name\n",
    "        self.h5file = Path(h5file)\n",
    "        try:\n",
    "            with h5py.File(self.h5file, \"r+\") as f:\n",
    "                f.create_dataset(self.dset_name, (0, *data_shape), maxshape=(None, *data_shape), dtype=dtype)\n",
    "        except FileNotFoundError as e:\n",
    "            raise FileNotFoundError(f\"{h5file} not found!\")\n",
    "        \n",
    "    def flush(self):\n",
    "        \"\"\"Flush the buffered data to h5file.\"\"\"\n",
    "        n_add = len(self)\n",
    "        dset_name = self.dset_name\n",
    "\n",
    "        with h5py.File(self.h5file, \"r+\") as f:\n",
    "            dset = f[dset_name]\n",
    "            dset.resize(dset.shape[0]+n_add, axis=0)\n",
    "            dset[-n_add:] = self\n",
    "        self.clear()"
   ]
  },
  {
   "cell_type": "code",
   "execution_count": 76,
   "id": "be7e1263",
   "metadata": {},
   "outputs": [
    {
     "name": "stdout",
     "output_type": "stream",
     "text": [
      "t=9.99, 1000 steps dumped.\n",
      "Caching run time: 2.6\n"
     ]
    }
   ],
   "source": [
    "flush_interval = 0.01\n",
    "last_flush = 0\n",
    "T = 10\n",
    "N = int(1e6)\n",
    "\n",
    "h5file = Path(\"_test.h5\")\n",
    "y_shape = (100, )\n",
    "\n",
    "with h5py.File(h5file, \"w\") as f:\n",
    "    pass # create an empty .h5 file \n",
    "\n",
    "t_buffer = DataBuffer(h5file, \"t\")\n",
    "y_buffer = DataBuffer(h5file, \"y\", y_shape)\n",
    "\n",
    "t0 = time.time()\n",
    "\n",
    "for t in np.linspace(0, T, N):\n",
    "    y = np.random.rand(*y_shape)\n",
    "    t_buffer.append(t)\n",
    "    y_buffer.append(y)\n",
    "    if t - last_flush > flush_interval:\n",
    "        last_flush = t\n",
    "        print(f\"t={t:.2f}, {len(t_buffer)} steps dumped.\", end=\"\\r\")\n",
    "        t_buffer.flush()\n",
    "        y_buffer.flush()\n",
    "\n",
    "t = time.time() - t0\n",
    "print(f\"\\nCaching run time: {t:.1f}\")"
   ]
  },
  {
   "cell_type": "code",
   "execution_count": 74,
   "id": "e351a856",
   "metadata": {},
   "outputs": [
    {
     "name": "stdout",
     "output_type": "stream",
     "text": [
      "(99901,)\n"
     ]
    }
   ],
   "source": [
    "with h5py.File(\"_test.h5\", \"r\") as f:\n",
    "    print(f[\"t\"][:].shape)"
   ]
  },
  {
   "cell_type": "code",
   "execution_count": 66,
   "id": "73b4c16c",
   "metadata": {},
   "outputs": [],
   "source": [
    "h5file = \"__test.h5\"\n",
    "thres = 10\n",
    "with h5py.File(h5file, \"w\") as f: pass\n",
    "t_buffer = DataBuffer(h5file, \"t\")\n",
    "for t in range(100):\n",
    "    t_buffer.append(t)\n",
    "    if len(t_buffer) > thres:\n",
    "        t_buffer.flush()\n",
    "t_buffer.flush()"
   ]
  },
  {
   "cell_type": "code",
   "execution_count": 67,
   "id": "6e80185a",
   "metadata": {},
   "outputs": [],
   "source": [
    "with h5py.File(h5file, \"r\") as f:\n",
    "    t = f[\"t\"][:]"
   ]
  }
 ],
 "metadata": {
  "kernelspec": {
   "display_name": "py12",
   "language": "python",
   "name": "python3"
  },
  "language_info": {
   "codemirror_mode": {
    "name": "ipython",
    "version": 3
   },
   "file_extension": ".py",
   "mimetype": "text/x-python",
   "name": "python",
   "nbconvert_exporter": "python",
   "pygments_lexer": "ipython3",
   "version": "3.12.11"
  }
 },
 "nbformat": 4,
 "nbformat_minor": 5
}
