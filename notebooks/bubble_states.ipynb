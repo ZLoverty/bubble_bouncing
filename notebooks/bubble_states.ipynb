{
 "cells": [
  {
   "cell_type": "markdown",
   "id": "976e3329",
   "metadata": {},
   "source": [
    "# Bubble states\n",
    "\n",
    "Store all the data (states) in the simulation. Currently, we save \n",
    "\n",
    "``` \n",
    "t : float\n",
    "    time\n",
    "h : ndarray[float]\n",
    "    height profile\n",
    "V : ndarray[float]\n",
    "    velocity\n",
    "x : ndarray[float]\n",
    "    position\n",
    "buoyancy : ndarray[float]\n",
    "    buoyancy\n",
    "drag : ndarray[float]\n",
    "    drag\n",
    "amf2 : ndarray[float]\n",
    "    added mass force term 2\n",
    "tff : ndarray[float]\n",
    "    thin film force\n",
    "lift : ndarray[float]\n",
    "    circulation induced lift force\n",
    "x_im : ndarray[float]\n",
    "    imaginary bubble location (note that imaginary bubble properties are not None only after the first bounce)\n",
    "U_im : ndarray[float]\n",
    "    imaginary bubble velocity\n",
    "```"
   ]
  },
  {
   "cell_type": "markdown",
   "id": "3f7a2206",
   "metadata": {},
   "source": [
    "When use the class, we imagine the following scenarios:\n",
    "\n",
    "1. Initialize the class\n",
    "\n",
    "    state = BubbleState(t, y, forces, x_im, U_im)\n",
    "    \n",
    "2. Save data to file\n",
    "\n",
    "    state.save()\n",
    "\n",
    "3. Extract data \n",
    "\n",
    "    y = state.get_y()\n",
    "    forces = state.get_forces()\n",
    "\n",
    "4. "
   ]
  },
  {
   "cell_type": "markdown",
   "id": "45525fc4",
   "metadata": {},
   "source": []
  }
 ],
 "metadata": {
  "language_info": {
   "name": "python"
  }
 },
 "nbformat": 4,
 "nbformat_minor": 5
}
