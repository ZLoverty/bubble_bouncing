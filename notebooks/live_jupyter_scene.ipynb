{
 "cells": [
  {
   "cell_type": "markdown",
   "id": "de8f1c0c",
   "metadata": {},
   "source": [
    "# Live jupyter scene\n",
    "\n",
    "It is desired that I can open up a pyvista window and keep update it using jupyter cells. This way I get an interactive experience of developing visualization tools, thus speed up the development. \n",
    "\n",
    "In this notebook, we attempt to find such a workflow."
   ]
  },
  {
   "cell_type": "markdown",
   "id": "22bc5208",
   "metadata": {},
   "source": [
    "## 0 Packages"
   ]
  },
  {
   "cell_type": "code",
   "execution_count": 2,
   "id": "aeb6325f",
   "metadata": {},
   "outputs": [],
   "source": [
    "import pyvista as pv\n",
    "import numpy as np"
   ]
  },
  {
   "cell_type": "markdown",
   "id": "f4c728fe",
   "metadata": {},
   "source": [
    "## 1 Interactive update\n",
    "\n",
    "With `notebook=False` and `auto_close=False`, we can achieve interactive update on pyvista canvas. The only problem is that I have to click the \"close\" button to exit the canvas loop, so that jupyter can take control. Then, I can transform, add and remove objects."
   ]
  },
  {
   "cell_type": "code",
   "execution_count": 2,
   "id": "1070805f",
   "metadata": {},
   "outputs": [],
   "source": [
    "theta = np.linspace(0, 2*np.pi, 10)\n",
    "centers = np.column_stack([3 * np.cos(theta), 3 * np.sin(theta), np.zeros_like(theta)])\n",
    "# This works well in Jupyter:\n",
    "plotter = pv.Plotter(notebook=False)\n",
    "for center in centers:\n",
    "    plotter.add_mesh(pv.Sphere(center=center))\n",
    "plotter.show(auto_close=False)"
   ]
  },
  {
   "cell_type": "code",
   "execution_count": null,
   "id": "9253f347",
   "metadata": {},
   "outputs": [],
   "source": [
    "actor1 = plotter.add_mesh(pv.Cube(center=(0,0,0)))\n",
    "plotter.render()\n"
   ]
  },
  {
   "cell_type": "code",
   "execution_count": 4,
   "id": "69fccfe9",
   "metadata": {},
   "outputs": [],
   "source": [
    "plotter.reset_camera()"
   ]
  },
  {
   "cell_type": "markdown",
   "id": "39373ff8",
   "metadata": {},
   "source": [
    "## 2 Threading\n",
    "\n",
    "A drawback of the previous method is that once I click \"close\", I cannot interact with the canvas using mouse. Although this is fine for pure programmatic control, being able to interact with canvas can add additional guidance in designing camera motion. In this section, we test whether using threading can let us control the canvas with both mouse interaction and code."
   ]
  },
  {
   "cell_type": "code",
   "execution_count": 3,
   "id": "3afbf1e2",
   "metadata": {},
   "outputs": [],
   "source": [
    "import threading"
   ]
  },
  {
   "cell_type": "code",
   "execution_count": 4,
   "id": "e1678aaf",
   "metadata": {},
   "outputs": [],
   "source": [
    "def show_plotter():\n",
    "    plotter.show(auto_close=False)"
   ]
  },
  {
   "cell_type": "code",
   "execution_count": 5,
   "id": "28f1748e",
   "metadata": {},
   "outputs": [],
   "source": [
    "theta = np.linspace(0, 2*np.pi, 10)\n",
    "centers = np.column_stack([3 * np.cos(theta), 3 * np.sin(theta), np.zeros_like(theta)])\n",
    "# This works well in Jupyter:\n",
    "plotter = pv.Plotter(notebook=False)\n",
    "for center in centers:\n",
    "    plotter.add_mesh(pv.Sphere(center=center))"
   ]
  },
  {
   "cell_type": "code",
   "execution_count": null,
   "id": "e6d567ca",
   "metadata": {},
   "outputs": [
    {
     "ename": "",
     "evalue": "",
     "output_type": "error",
     "traceback": [
      "\u001b[1;31mThe Kernel crashed while executing code in the current cell or a previous cell. \n",
      "\u001b[1;31mPlease review the code in the cell(s) to identify a possible cause of the failure. \n",
      "\u001b[1;31mClick <a href='https://aka.ms/vscodeJupyterKernelCrash'>here</a> for more info. \n",
      "\u001b[1;31mView Jupyter <a href='command:jupyter.viewOutput'>log</a> for further details."
     ]
    }
   ],
   "source": [
    "threading.Thread(target=show_plotter, daemon=False).start()"
   ]
  },
  {
   "cell_type": "markdown",
   "id": "f2953165",
   "metadata": {},
   "source": [
    "Calling `show()` method in thread causes the kernel crash. So this is not the right way."
   ]
  },
  {
   "cell_type": "markdown",
   "id": "837ea987",
   "metadata": {},
   "source": [
    "## 3 `pyvistaqt`\n",
    "\n",
    "This is the solution. Just requires installing packages pyvistaqt and pyqt5."
   ]
  },
  {
   "cell_type": "code",
   "execution_count": 2,
   "id": "d59c1e8c",
   "metadata": {},
   "outputs": [],
   "source": [
    "from pyvistaqt import BackgroundPlotter\n",
    "import pyvista as pv\n",
    "\n",
    "plotter = BackgroundPlotter()\n",
    "actor = plotter.add_mesh(pv.Sphere())"
   ]
  },
  {
   "cell_type": "code",
   "execution_count": 3,
   "id": "f6f4668d",
   "metadata": {},
   "outputs": [],
   "source": [
    "actor.SetPosition([1, 0, 0])"
   ]
  },
  {
   "cell_type": "code",
   "execution_count": 5,
   "id": "9001c4e5",
   "metadata": {},
   "outputs": [
    {
     "data": {
      "text/plain": [
       "[(4.129514543170648, 4.129514543170648, 4.129514543170648),\n",
       " (0.0, 0.0, 0.0),\n",
       " (0.0, 0.0, 1.0)]"
      ]
     },
     "execution_count": 5,
     "metadata": {},
     "output_type": "execute_result"
    },
    {
     "name": "stderr",
     "output_type": "stream",
     "text": [
      "2025-07-17 22:13:30.145 python[7034:483452] error messaging the mach port for IMKCFRunLoopWakeUpReliable\n"
     ]
    }
   ],
   "source": [
    "plotter.camera_position"
   ]
  },
  {
   "cell_type": "code",
   "execution_count": 6,
   "id": "e9bae7c3",
   "metadata": {},
   "outputs": [],
   "source": [
    "plotter.reset_camera()"
   ]
  },
  {
   "cell_type": "code",
   "execution_count": null,
   "id": "8f56b3d5",
   "metadata": {},
   "outputs": [],
   "source": []
  }
 ],
 "metadata": {
  "kernelspec": {
   "display_name": "py12",
   "language": "python",
   "name": "python3"
  },
  "language_info": {
   "codemirror_mode": {
    "name": "ipython",
    "version": 3
   },
   "file_extension": ".py",
   "mimetype": "text/x-python",
   "name": "python",
   "nbconvert_exporter": "python",
   "pygments_lexer": "ipython3",
   "version": "3.12.11"
  }
 },
 "nbformat": 4,
 "nbformat_minor": 5
}
