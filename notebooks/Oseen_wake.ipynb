{
 "cells": [
  {
   "cell_type": "markdown",
   "id": "3c1ff433",
   "metadata": {},
   "source": [
    "# Oseen Wake\n",
    "\n",
    "This notebook deals with the Oseen wake that is responsible for the lifting force and back flipping of air bubbles. The flow field can be expressed in spherical coordinates as follows:\n",
    "\n",
    "$$\n",
    "\\frac{u_r}{U} = -\\frac{a^3 \\cos \\theta}{2r^3} + \\frac{3a^2}{2r^2 Re} \\left\\{ 1 - \\exp\\left[ -\\frac{rRe}{2a} (1 + \\cos\\theta) \\right] \\right\\} \\\\- \\frac{3a(1-\\cos\\theta)}{4r} \\exp\\left[ -\\frac{rRe}{2a} (1 + \\cos\\theta) \\right] \n",
    "$$\n",
    "\n",
    "$$\n",
    "\\frac{u_\\theta}{U} = -\\frac{a^3\\sin\\theta}{4r^3} - \\frac{3a\\sin\\theta}{4r}\\exp\\left[ -\\frac{rRe}{2a} (1+\\cos\\theta) \\right]\n",
    "$$\n",
    "\n",
    "$$\n",
    "\\frac{u_\\varphi}{U} = 0\n",
    "$$\n",
    "\n",
    "Since the bubble simulation is formulated in Cartesian coordinates, we convert the above to $u_x$, $u_y$ and $u_z$ using:\n",
    "\n",
    "$$\n",
    "u_x = u_r \\sin\\theta\\cos\\phi + u_\\theta \\cos\\theta\\cos\\phi - u_\\phi\\sin\\phi\n",
    "$$\n",
    "\n",
    "$$\n",
    "u_y = u_r \\sin\\theta\\sin\\phi + u_\\theta \\cos\\theta\\sin\\phi + u_\\phi\\cos\\phi\n",
    "$$\n",
    "\n",
    "$$\n",
    "u_z = u_r \\cos\\theta - u_\\theta\\sin\\theta\n",
    "$$\n",
    "\n",
    "where \n",
    "\n",
    "$$\n",
    "\\sin\\theta = \\frac{\\sqrt{x^2 + y^2}}{r}\n",
    "$$\n",
    "\n",
    "$$\n",
    "\\cos\\theta = \\frac{z}{r}\n",
    "$$\n",
    "\n",
    "$$\n",
    "\\sin\\phi = \\frac{y}{\\sqrt{x^2 + y^2}}\n",
    "$$\n",
    "\n",
    "$$\n",
    "\\cos\\phi = \\frac{x}{\\sqrt{x^2 + y^2}}\n",
    "$$\n",
    "\n",
    "and \n",
    "\n",
    "$$\n",
    "r = \\sqrt{x^2 + y^2 + z^2}\n",
    "$$\n",
    "\n",
    "The computation of Oseen wake flow field has been coded in the `Bubble` class. In this notebook, we test the functions associated with this class. "
   ]
  },
  {
   "cell_type": "markdown",
   "id": "a12f1b5b",
   "metadata": {},
   "source": [
    "## 0 Packages"
   ]
  },
  {
   "cell_type": "code",
   "execution_count": 2,
   "id": "6b70d800",
   "metadata": {},
   "outputs": [],
   "source": [
    "import numpy as np\n",
    "import matplotlib.pyplot as plt\n",
    "import pyvista as pv\n",
    "pv.set_jupyter_backend(\"trame\")\n",
    "from bubble_bouncing.bubble import Bubble"
   ]
  },
  {
   "cell_type": "markdown",
   "id": "0ecbf218",
   "metadata": {},
   "source": [
    "## 1 Velocity field in Cartesian coordinates\n",
    "\n",
    "Implemented in `Bubble.Oseen_wake()`."
   ]
  },
  {
   "cell_type": "markdown",
   "id": "b41720bc",
   "metadata": {},
   "source": [
    "### 1.1 `Oseen_wake_z(self, U, points)`\n",
    "\n",
    "The flow field around a sphere that's moving in -z direction. This function is a direct coding of the formula in the book by Guazzelli and Morris. One should expect a flow field with radial outward flow in the far field, and radial inward flow in the wake."
   ]
  },
  {
   "cell_type": "code",
   "execution_count": 2,
   "id": "6fbf8b2c",
   "metadata": {},
   "outputs": [],
   "source": [
    "a = 6e-4\n",
    "U = np.array([0, 0, 0.3])\n",
    "bubble = Bubble(a, U=U)"
   ]
  },
  {
   "cell_type": "code",
   "execution_count": 3,
   "id": "f4a5d55f",
   "metadata": {},
   "outputs": [],
   "source": [
    "# define mesh\n",
    "points = bubble._grid(10)"
   ]
  },
  {
   "cell_type": "code",
   "execution_count": 4,
   "id": "8a63adaa",
   "metadata": {},
   "outputs": [],
   "source": [
    "# flow\n",
    "flow = bubble.Oseen_wake_z(0.3, points)"
   ]
  },
  {
   "cell_type": "code",
   "execution_count": 5,
   "id": "a4f607b9",
   "metadata": {},
   "outputs": [
    {
     "data": {
      "application/vnd.jupyter.widget-view+json": {
       "model_id": "2f320f61840b4d78876e8ef989a86683",
       "version_major": 2,
       "version_minor": 0
      },
      "text/plain": [
       "Widget(value='<iframe src=\"http://localhost:53988/index.html?ui=P_0x172090080_0&reconnect=auto\" class=\"pyvista…"
      ]
     },
     "metadata": {},
     "output_type": "display_data"
    }
   ],
   "source": [
    "mesh = pv.PolyData(points)\n",
    "mesh[\"flow\"] = flow\n",
    "glyph = mesh.glyph(orient=\"flow\", scale=\"flow\", factor=0.005)\n",
    "pl = pv.Plotter()\n",
    "pl.add_mesh(glyph)\n",
    "pl.show_axes()\n",
    "pl.show()"
   ]
  },
  {
   "cell_type": "markdown",
   "id": "57449f90",
   "metadata": {},
   "source": [
    "### 1.2 `Oseen_wake(self, points)`\n",
    "\n",
    "Oseen wake flow field for bubble moving in arbitrary directions. The flow field should rotate corresponding to the input velocity U."
   ]
  },
  {
   "cell_type": "code",
   "execution_count": 6,
   "id": "0a39d669",
   "metadata": {},
   "outputs": [],
   "source": [
    "a = 6e-4\n",
    "U = np.array([0, 0.3, 0.])\n",
    "bubble = Bubble(a, U=U)\n",
    "points = bubble._grid()"
   ]
  },
  {
   "cell_type": "code",
   "execution_count": 7,
   "id": "491330b3",
   "metadata": {},
   "outputs": [
    {
     "data": {
      "text/plain": [
       "array([[-0.0012    , -0.0012    , -0.0012    ],\n",
       "       [-0.0012    , -0.0012    , -0.00093333],\n",
       "       [-0.0012    , -0.0012    , -0.00066667],\n",
       "       ...,\n",
       "       [ 0.0012    ,  0.0012    ,  0.00066667],\n",
       "       [ 0.0012    ,  0.0012    ,  0.00093333],\n",
       "       [ 0.0012    ,  0.0012    ,  0.0012    ]], shape=(1000, 3))"
      ]
     },
     "execution_count": 7,
     "metadata": {},
     "output_type": "execute_result"
    }
   ],
   "source": [
    "points"
   ]
  },
  {
   "cell_type": "code",
   "execution_count": 8,
   "id": "e5d612fa",
   "metadata": {},
   "outputs": [],
   "source": [
    "flow = bubble.Oseen_wake(points)"
   ]
  },
  {
   "cell_type": "code",
   "execution_count": 9,
   "id": "7d7c4151",
   "metadata": {},
   "outputs": [
    {
     "data": {
      "application/vnd.jupyter.widget-view+json": {
       "model_id": "3656ed3ec93f42bc8bc297f774b7a4f3",
       "version_major": 2,
       "version_minor": 0
      },
      "text/plain": [
       "Widget(value='<iframe src=\"http://localhost:53988/index.html?ui=P_0x1746b2690_1&reconnect=auto\" class=\"pyvista…"
      ]
     },
     "metadata": {},
     "output_type": "display_data"
    }
   ],
   "source": [
    "mesh = pv.PolyData(points)\n",
    "mesh[\"flow\"] = flow\n",
    "glyph = mesh.glyph(orient=\"flow\", scale=\"flow\", factor=0.005)\n",
    "pl = pv.Plotter()\n",
    "pl.add_mesh(glyph)\n",
    "pl.show_axes()\n",
    "pl.show()"
   ]
  },
  {
   "cell_type": "markdown",
   "id": "c51b3ac3",
   "metadata": {},
   "source": [
    "### 1.3 `_compute_surface_coords`\n",
    "\n",
    "Compute evenly spaced coordinates on a surface."
   ]
  },
  {
   "cell_type": "code",
   "execution_count": 18,
   "id": "480cd713",
   "metadata": {},
   "outputs": [],
   "source": [
    "a = 6e-4\n",
    "U = np.array([0, 0.3, 0.])\n",
    "bubble = Bubble(a, U=U)"
   ]
  },
  {
   "cell_type": "code",
   "execution_count": 59,
   "id": "9d74b385",
   "metadata": {},
   "outputs": [],
   "source": [
    "surf_coords, normal, diff_a = bubble._compute_surface_coords()"
   ]
  },
  {
   "cell_type": "code",
   "execution_count": 66,
   "id": "eeb6021c",
   "metadata": {},
   "outputs": [
    {
     "data": {
      "application/vnd.jupyter.widget-view+json": {
       "model_id": "675b70837c4c4487a88159a4aa6af67a",
       "version_major": 2,
       "version_minor": 0
      },
      "text/plain": [
       "Widget(value='<iframe src=\"http://localhost:57825/index.html?ui=P_0x14d9a5970_23&reconnect=auto\" class=\"pyvist…"
      ]
     },
     "metadata": {},
     "output_type": "display_data"
    }
   ],
   "source": [
    "mesh = pv.PolyData(surf_coords)\n",
    "mesh[\"norm\"] = normal\n",
    "glyph = mesh.glyph(orient=\"norm\", scale=\"norm\", factor=0.0001)\n",
    "pl = pv.Plotter()\n",
    "mesh[\"z\"] = surf_coords[:, 2]\n",
    "pl.add_mesh(mesh, scalars=\"z\")\n",
    "pl.add_mesh(glyph)\n",
    "pl.show()"
   ]
  },
  {
   "cell_type": "markdown",
   "id": "14aa93e9",
   "metadata": {},
   "source": [
    "### 1.4 `_compute_surface_tangent_xy`\n",
    "\n",
    "Compute tangent units on the sphere that are in the xy plane. "
   ]
  },
  {
   "cell_type": "code",
   "execution_count": null,
   "id": "13a73c8e",
   "metadata": {},
   "outputs": [],
   "source": [
    "a = 6e-4\n",
    "U = np.array([0, 0.3, 0.])\n",
    "bubble = Bubble(a, U=U)"
   ]
  },
  {
   "cell_type": "code",
   "execution_count": null,
   "id": "d35349f0",
   "metadata": {},
   "outputs": [],
   "source": [
    "surf_coords, _, _ = bubble._compute_surface_coords()\n",
    "tangent = bubble._compute_surface_tangent_xy()"
   ]
  },
  {
   "cell_type": "code",
   "execution_count": null,
   "id": "4ddd6d78",
   "metadata": {},
   "outputs": [
    {
     "data": {
      "application/vnd.jupyter.widget-view+json": {
       "model_id": "3dcf3da325424359ba41c9b42004f3bd",
       "version_major": 2,
       "version_minor": 0
      },
      "text/plain": [
       "Widget(value='<iframe src=\"http://localhost:57825/index.html?ui=P_0x14d9b7080_24&reconnect=auto\" class=\"pyvist…"
      ]
     },
     "metadata": {},
     "output_type": "display_data"
    }
   ],
   "source": [
    "mesh = pv.PolyData(surf_coords)\n",
    "mesh[\"tangent\"] = tangent\n",
    "glyph = mesh.glyph(orient=\"tangent\", scale=\"tangent\", factor=0.0001)\n",
    "pl = pv.Plotter()\n",
    "mesh[\"z\"] = surf_coords[:, 2]\n",
    "pl.add_mesh(mesh, scalars=\"z\")\n",
    "pl.add_mesh(glyph)\n",
    "pl.show()"
   ]
  },
  {
   "cell_type": "markdown",
   "id": "d9936f35",
   "metadata": {},
   "source": [
    "# Appendix"
   ]
  },
  {
   "cell_type": "markdown",
   "id": "59c16c9f",
   "metadata": {},
   "source": [
    "## A. Test velocity"
   ]
  },
  {
   "cell_type": "code",
   "execution_count": 13,
   "id": "894dfc48",
   "metadata": {},
   "outputs": [],
   "source": [
    "a = 6e-4\n",
    "U = np.array([0, 0.3, 0])\n",
    "theta = 22.5 / 180 * np.pi\n",
    "up = np.array([np.sin(theta), -np.cos(theta), 0])\n",
    "\n",
    "im = Bubble(a, U=U)\n",
    "re = Bubble(a, U=np.array([0, .1, 0]))\n",
    "im.set_pos(up*a*0.01)\n",
    "re.set_pos([0, 0, 0])\n",
    "\n",
    "flow = im.Oseen_wake(re.surf_coords+re.pos)\n",
    "surface_flow = (flow * re.unit_tangents).sum(axis=1, keepdims=True)"
   ]
  },
  {
   "cell_type": "code",
   "execution_count": 14,
   "id": "70a38df8",
   "metadata": {},
   "outputs": [
    {
     "data": {
      "application/vnd.jupyter.widget-view+json": {
       "model_id": "5ff0888ba7e149538f44d4b78963beaa",
       "version_major": 2,
       "version_minor": 0
      },
      "text/plain": [
       "Widget(value='<iframe src=\"http://localhost:50264/index.html?ui=P_0x15dd49b20_2&reconnect=auto\" class=\"pyvista…"
      ]
     },
     "metadata": {},
     "output_type": "display_data"
    }
   ],
   "source": [
    "flow = im.Oseen_wake(re.surf_coords+re.pos)\n",
    "im_grid = pv.Sphere(radius=im.a, center=im.pos)\n",
    "re_grid = pv.Sphere(radius=re.a, center=re.pos)\n",
    "grid = pv.PolyData(re.surf_coords+re.pos)\n",
    "\n",
    "grid[\"flow\"] = surface_flow * re.unit_tangents\n",
    "grid[\"tangent\"] = re.unit_tangents\n",
    "glyph = grid.glyph(orient=\"flow\", scale=\"flow\", factor=1e-2)\n",
    "tan = grid.glyph(orient=\"tangent\", scale=\"tangent\", factor=1e-4)\n",
    "pl = pv.Plotter()\n",
    "pl.add_mesh(im_grid, opacity=.5)\n",
    "pl.add_mesh(re_grid)\n",
    "pl.add_mesh(glyph)\n",
    "pl.add_mesh(tan)\n",
    "pl.camera_position = [\n",
    "    (0, 0, -8*im.a),\n",
    "    (0, 0, 0),\n",
    "    up\n",
    "]\n",
    "pl.show_axes()\n",
    "pl.show()"
   ]
  },
  {
   "cell_type": "code",
   "execution_count": 7,
   "id": "c452a7e7",
   "metadata": {},
   "outputs": [],
   "source": [
    "circulation = 1 / 2 / re.a * surface_flow.sum() * re.ds * np.array([0, 0, 1])"
   ]
  },
  {
   "cell_type": "code",
   "execution_count": 8,
   "id": "8adeeed8",
   "metadata": {},
   "outputs": [
    {
     "data": {
      "text/plain": [
       "Vector([0.00000000e+00, 0.00000000e+00, 3.40559667e-05])"
      ]
     },
     "execution_count": 8,
     "metadata": {},
     "output_type": "execute_result"
    }
   ],
   "source": [
    "circulation"
   ]
  },
  {
   "cell_type": "code",
   "execution_count": 11,
   "id": "182c526d",
   "metadata": {},
   "outputs": [],
   "source": [
    "lift = 4 * np.pi * a**3 / 3 * 1000 / np.pi / a**2 * np.cross(circulation, re.U)"
   ]
  },
  {
   "cell_type": "code",
   "execution_count": 12,
   "id": "3882980a",
   "metadata": {},
   "outputs": [
    {
     "data": {
      "text/plain": [
       "array([-2.72447733e-06,  0.00000000e+00,  0.00000000e+00])"
      ]
     },
     "execution_count": 12,
     "metadata": {},
     "output_type": "execute_result"
    }
   ],
   "source": [
    "lift"
   ]
  },
  {
   "cell_type": "code",
   "execution_count": 28,
   "id": "0c183867",
   "metadata": {},
   "outputs": [],
   "source": [
    "from bubble_bouncing.bubble import forces"
   ]
  },
  {
   "cell_type": "code",
   "execution_count": null,
   "id": "24be7eb7",
   "metadata": {},
   "outputs": [],
   "source": [
    "forces.compute_lift(im.a, flow, im.ds, )"
   ]
  },
  {
   "cell_type": "code",
   "execution_count": null,
   "id": "1db899dd",
   "metadata": {},
   "outputs": [],
   "source": []
  }
 ],
 "metadata": {
  "kernelspec": {
   "display_name": "py12",
   "language": "python",
   "name": "python3"
  },
  "language_info": {
   "codemirror_mode": {
    "name": "ipython",
    "version": 3
   },
   "file_extension": ".py",
   "mimetype": "text/x-python",
   "name": "python",
   "nbconvert_exporter": "python",
   "pygments_lexer": "ipython3",
   "version": "3.12.11"
  }
 },
 "nbformat": 4,
 "nbformat_minor": 5
}
