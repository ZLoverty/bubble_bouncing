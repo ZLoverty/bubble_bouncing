{
 "cells": [
  {
   "cell_type": "markdown",
   "id": "37669059",
   "metadata": {},
   "source": [
    "# Bubble data\n",
    "\n",
    "I have the idea of creating a class for the bubble data. The data we use are effectively np.ndarray, but it is convenient to have a few methods specific to our simulation, such as `get_center`, `get_edge`, etc. \n",
    "\n",
    "Another idea is it might be nice to have an interface to interact with the .h5 simulation data, to speed up visualization."
   ]
  },
  {
   "cell_type": "markdown",
   "id": "3c5daef0",
   "metadata": {},
   "source": [
    "## 0 Packages"
   ]
  },
  {
   "cell_type": "code",
   "execution_count": 14,
   "id": "4555e398",
   "metadata": {},
   "outputs": [],
   "source": [
    "import matplotlib.pyplot as plt\n",
    "import h5py\n",
    "from pathlib import Path\n",
    "import pyvista as pv\n",
    "pv.set_jupyter_backend(\"trame\")\n",
    "import yaml\n",
    "import numpy as np\n",
    "import time"
   ]
  },
  {
   "cell_type": "markdown",
   "id": "87ee3095",
   "metadata": {},
   "source": [
    "## 1 Read data"
   ]
  },
  {
   "cell_type": "code",
   "execution_count": 15,
   "id": "7a3e42d4",
   "metadata": {},
   "outputs": [],
   "source": [
    "folder = Path(\"~/Documents/BC_simulation/test\").expanduser().resolve()\n",
    "with h5py.File(folder / \"results\" / \"data.h5\", \"r\") as f:\n",
    "    t = f[\"t\"][:]\n",
    "    x = f[\"x\"][:]\n",
    "    h = f[\"h\"][:]"
   ]
  },
  {
   "cell_type": "code",
   "execution_count": 16,
   "id": "3d9e605f",
   "metadata": {},
   "outputs": [],
   "source": [
    "with open(folder / \"params.yaml\") as f:\n",
    "    params = yaml.safe_load(f)"
   ]
  },
  {
   "cell_type": "code",
   "execution_count": 17,
   "id": "f0b645b7",
   "metadata": {},
   "outputs": [],
   "source": [
    "mesh = np.load(folder / \"mesh.npy\")"
   ]
  },
  {
   "cell_type": "markdown",
   "id": "32d12f87",
   "metadata": {},
   "source": [
    "## 2 Plot trajectory using `matplotlib`"
   ]
  },
  {
   "cell_type": "code",
   "execution_count": 18,
   "id": "e60deeb7",
   "metadata": {},
   "outputs": [
    {
     "data": {
      "text/plain": [
       "(np.float64(-0.001007066046815768),\n",
       " np.float64(0.021148386983131127),\n",
       " np.float64(0.000283461556965733),\n",
       " np.float64(0.0017787170921948411))"
      ]
     },
     "execution_count": 18,
     "metadata": {},
     "output_type": "execute_result"
    },
    {
     "data": {
      "image/png": "[encoded data removed]",
      "text/plain": [
       "<Figure size 640x480 with 1 Axes>"
      ]
     },
     "metadata": {},
     "output_type": "display_data"
    }
   ],
   "source": [
    "plt.plot(x[:, 0], x[:, 1])\n",
    "plt.axis(\"equal\")"
   ]
  },
  {
   "cell_type": "markdown",
   "id": "f696fd20",
   "metadata": {},
   "source": [
    "## 3 Plot trajectory using `pyvista`"
   ]
  },
  {
   "cell_type": "code",
   "execution_count": null,
   "id": "3fe89272",
   "metadata": {},
   "outputs": [
    {
     "data": {
      "application/vnd.jupyter.widget-view+json": {
       "model_id": "959efc94da6a414eae6c29e8ed26f8ba",
       "version_major": 2,
       "version_minor": 0
      },
      "text/plain": [
       "Widget(value='<iframe src=\"http://localhost:54338/index.html?ui=P_0x17e056cf0_0&reconnect=auto\" class=\"pyvista…"
      ]
     },
     "metadata": {},
     "output_type": "display_data"
    },
    {
     "name": "stderr",
     "output_type": "stream",
     "text": [
      "wslink is not expecting text message:\n",
      "> Cannot write to closing transport\n",
      "wslink is not expecting text message:\n",
      "> Cannot write to closing transport\n",
      "wslink is not expecting text message:\n",
      "> Cannot write to closing transport\n"
     ]
    }
   ],
   "source": [
    "traj = pv.PolyData(x[::])\n",
    "theta = params[\"theta\"] / 180 * np.pi\n",
    "up = np.array([np.sin(theta), -np.cos(theta), 0])\n",
    "cmap = plt.get_cmap(\"tab10\")\n",
    "pl = pv.Plotter()\n",
    "\n",
    "pl.add_mesh(traj, color=cmap(0))\n",
    "\n",
    "pl.camera_position = [(0, 0, -20),\n",
    "                      (0, 0, 0),\n",
    "                      up]\n",
    "pl.reset_camera()\n",
    "pl.camera.zoom(.7)\n",
    "# pl.camera.parallel_projection = True  # Toggle off perspective\n",
    "\n",
    "pl.show_axes()\n",
    "pl.show()"
   ]
  },
  {
   "cell_type": "markdown",
   "id": "d237353c",
   "metadata": {},
   "source": [
    "## 4 Plot mesh shape using `pyvista`"
   ]
  },
  {
   "cell_type": "code",
   "execution_count": 49,
   "id": "7f017f4d",
   "metadata": {},
   "outputs": [
    {
     "data": {
      "application/vnd.jupyter.widget-view+json": {
       "model_id": "100a5324bb024bae82535cb08a6643b0",
       "version_major": 2,
       "version_minor": 0
      },
      "text/plain": [
       "Widget(value='<iframe src=\"http://localhost:64185/index.html?ui=P_0x1581ef320_18&reconnect=auto\" class=\"pyvist…"
      ]
     },
     "metadata": {},
     "output_type": "display_data"
    }
   ],
   "source": [
    "center = (\n",
    "        (x[:, 0].min() + x[:, 0].max()) / 2,\n",
    "        (x[:, 1].min() + x[:, 1].max()) / 2\n",
    ")\n",
    "                \n",
    "points = np.column_stack([mesh[:, 0], h[0], mesh[:, 2]])\n",
    "surf = pv.PolyData(points).delaunay_2d()\n",
    "theta = params[\"theta\"] / 180 * np.pi\n",
    "up = np.array([np.sin(theta), -np.cos(theta), 0])\n",
    "pl = pv.Plotter()\n",
    "pl.camera_position = [(center[0], center[1], -0.05),\n",
    "                      (center[0], center[1], 0),\n",
    "                      up]\n",
    "pl.add_mesh(surf)\n",
    "pl.show_axes()\n",
    "pl.enable_anti_aliasing()\n",
    "pl.show()"
   ]
  },
  {
   "cell_type": "markdown",
   "id": "15fbee16",
   "metadata": {},
   "source": [
    "## 5 Simplify the visualization code\n",
    "\n",
    "Currently, the visualization code contains several things that makes the code long and hard to read. Ideally, we can simplify the code to \n",
    "\n",
    "```\n",
    "# pseudo code\n",
    "add_environment\n",
    "add_actor1\n",
    "add_actor2\n",
    "add_camera\n",
    "make_movie\n",
    "```\n",
    "\n",
    "The actors here should contain the time series data like locations and shape, and the make movie method should interpolate these time series data to the desired time mesh and make movie.\n",
    "\n",
    "In this section, we implement the classes and methods that attempt to achieve these simplifications."
   ]
  },
  {
   "cell_type": "code",
   "execution_count": 2,
   "id": "3f68d216",
   "metadata": {},
   "outputs": [],
   "source": [
    "from pyvistaqt import BackgroundPlotter\n",
    "import pyvista as pv\n",
    "from scipy.interpolate import interp1d\n",
    "import numpy as np\n",
    "import time\n",
    "from PyQt5.QtWidgets import QApplication, QMainWindow"
   ]
  },
  {
   "cell_type": "code",
   "execution_count": 3,
   "id": "8ba17ae2",
   "metadata": {},
   "outputs": [],
   "source": [
    "class Scene(BackgroundPlotter):\n",
    "    def __init__(self, **kwargs):\n",
    "        super().__init__(**kwargs)\n",
    "        self.t = np.array([0])\n",
    "        self.actor_list = []\n",
    "\n",
    "    def add(self, mesh, data):\n",
    "        \"\"\"Add mesh as actor to scene. \n",
    "\n",
    "        Parameters\n",
    "        ----------\n",
    "        mesh : pyvista.DataSet\n",
    "            The mesh to be added.\n",
    "        data : dict\n",
    "            Trajectory data, must contain 't' and 'x'.\n",
    "        \"\"\"\n",
    "        t, x = self._read_data(data)\n",
    "        self.t = t\n",
    "        actor = self.add_mesh(mesh)\n",
    "        actor_data = (actor, data)\n",
    "        self.actor_list.append(actor_data)\n",
    "        self.interp_actor_list = self.actor_list.copy()\n",
    "\n",
    "    def _read_data(self, data):\n",
    "        \"\"\"Validate the data: (i) contains 'x' and 't', (ii) 'x' has shape (N, 3), (iii) t.shape[0] = x.shape[0].\"\"\"\n",
    "        if not all(k in data for k in [\"t\", \"x\"]):\n",
    "            raise ValueError(\"Input data dictionary must contain 't' and 'x'.\")\n",
    "        \n",
    "        t = np.asarray(data[\"t\"])\n",
    "        x = np.asarray(data[\"x\"])\n",
    "\n",
    "        # ensure position data shape\n",
    "        if x.ndim != 2 or x.shape[1] != 3:\n",
    "            raise ValueError(\"The position data shape must be (N, 3).\")\n",
    "        \n",
    "        # ensure t and x are the same length\n",
    "        assert x.shape[0] == t.shape[0]\n",
    "\n",
    "        return t, x\n",
    "\n",
    "    def _interp(self, data):\n",
    "        \"\"\"Generate interpolation constructor based on input data.\n",
    "        \n",
    "        Parameters\n",
    "        ----------\n",
    "        data : dict\n",
    "            Trajectory data, must contain 't' and 'x'.\n",
    "        \n",
    "        Returns\n",
    "        -------\n",
    "        interp_x : scipy.interpolate.interp1d\n",
    "        \"\"\"\n",
    "        # validate input data structure\n",
    "        t, x = self._read_data(data)\n",
    "    \n",
    "        # construct the interpolator\n",
    "        interp_x = interp1d(t, x, axis=0, fill_value=\"extrapolate\")\n",
    "\n",
    "        return interp_x\n",
    "\n",
    "    def set_time(self, t):\n",
    "        \"\"\"Set the time points to prepare the video. Update the 'data_interp' field with interpolated data.\n",
    "        \n",
    "        Parameters\n",
    "        ----------\n",
    "        t : array_like[float]\n",
    "            Time sequence to evaluate the object positions.\n",
    "        \"\"\"\n",
    "        self.t = t\n",
    "        self.interp_actor_list = []\n",
    "        for actor, data in self.actor_list:\n",
    "            x = self._interp(data)\n",
    "            self.interp_actor_list.append((actor, {\"t\": t, \"x\": x}))\n",
    "    \n",
    "    def run(self):\n",
    "        for i in range(len(self.t)):\n",
    "            new_pos = self.actor_list[0][1][\"x\"][i]\n",
    "            self.actor_list[0][0].SetPosition(new_pos)\n",
    "            self.render()\n",
    "            QApplication.processEvents() # let Qt process UI events\n",
    "            time.sleep(0.1)"
   ]
  },
  {
   "cell_type": "code",
   "execution_count": 8,
   "id": "e284f414",
   "metadata": {},
   "outputs": [],
   "source": [
    "scene = Scene(window_size=(800, 500))\n",
    "N = 50\n",
    "data = {\n",
    "    \"t\" : np.linspace(0, 1, N),\n",
    "    \"x\" : np.column_stack([np.linspace(0, 10, N), np.zeros(N), np.zeros(N)])\n",
    "}\n",
    "mesh = pv.Sphere()\n",
    "scene.add(mesh, data)"
   ]
  },
  {
   "cell_type": "code",
   "execution_count": 41,
   "id": "df11a2a4",
   "metadata": {},
   "outputs": [],
   "source": [
    "scene.run()"
   ]
  },
  {
   "cell_type": "code",
   "execution_count": 12,
   "id": "4402dd6b",
   "metadata": {},
   "outputs": [
    {
     "ename": "KeyboardInterrupt",
     "evalue": "",
     "output_type": "error",
     "traceback": [
      "\u001b[31m---------------------------------------------------------------------------\u001b[39m",
      "\u001b[31mKeyboardInterrupt\u001b[39m                         Traceback (most recent call last)",
      "\u001b[36mCell\u001b[39m\u001b[36m \u001b[39m\u001b[32mIn[12]\u001b[39m\u001b[32m, line 4\u001b[39m\n\u001b[32m      2\u001b[39m window = QMainWindow()\n\u001b[32m      3\u001b[39m window.show()\n\u001b[32m----> \u001b[39m\u001b[32m4\u001b[39m \u001b[43mapp\u001b[49m\u001b[43m.\u001b[49m\u001b[43mexec_\u001b[49m\u001b[43m(\u001b[49m\u001b[43m)\u001b[49m\n",
      "\u001b[31mKeyboardInterrupt\u001b[39m: "
     ]
    }
   ],
   "source": [
    "app = QApplication([])\n",
    "window = QMainWindow()\n",
    "window.show()\n",
    "app.exec_()"
   ]
  },
  {
   "cell_type": "code",
   "execution_count": null,
   "id": "77eb13c6",
   "metadata": {},
   "outputs": [],
   "source": [
    "plotter = BackgroundPlotter(show=False)\n",
    "plotter.setWindowFlags(Qt.SubWindow)\n",
    "plotter.setParent(window)\n",
    "plotter.setGeometry(10, 10, 400, 400)\n",
    "plotter.show()"
   ]
  },
  {
   "cell_type": "code",
   "execution_count": null,
   "id": "a88710b6",
   "metadata": {},
   "outputs": [],
   "source": [
    "pl = Scene(app=app)"
   ]
  },
  {
   "cell_type": "code",
   "execution_count": 37,
   "id": "244bb0f0",
   "metadata": {},
   "outputs": [],
   "source": [
    "from PyQt5.QtWidgets import QApplication\n",
    "\n",
    "for i in range(20):\n",
    "    scene.actor_list[0][0].SetPosition((i*0.1, 0 , 0))\n",
    "    scene.render()\n",
    "    QApplication.processEvents()\n",
    "    time.sleep(0.05)"
   ]
  },
  {
   "cell_type": "code",
   "execution_count": 31,
   "id": "005fbcf8",
   "metadata": {},
   "outputs": [],
   "source": [
    "scene.reset_camera()"
   ]
  },
  {
   "cell_type": "code",
   "execution_count": 64,
   "id": "01fc0bbc",
   "metadata": {},
   "outputs": [],
   "source": [
    "class MovingActor:\n",
    "    def __init__(self, mesh, data):\n",
    "        \"\"\"This class implements actor of which the positino can be set according to input data. \n",
    "        data is the time series that describes the motion of the actor. Other key words, except the radius and the center, are passed on to the superclass.\n",
    "        \n",
    "        Parameters\n",
    "        ----------\n",
    "        mesh : pyvista.DataSet\n",
    "            The PyVista mesh (e.g., pv.Sphere(), pv.Cube()) that this actor will represent. This mesh will be used as the visual representation of the actor.\n",
    "        data : dict\n",
    "            the time series that describes the motion of the actor. Other key words, except the center, are passed on to the superclass.actor motion data, must contain \"t\" and \"x\".\n",
    "        **kwargs : \n",
    "            Additional keyword arguments passed directly to the pv.Actor constructor. These can include properties like `color`, `opacity`, `show_edges`, etc.\n",
    "        \"\"\"\n",
    "\n",
    "        # validate input data structure\n",
    "        if not all(k in data for k in [\"t\", \"x\"]):\n",
    "            raise ValueError(\"Input data dictionary must contain 't' and 'x'.\")\n",
    "        \n",
    "        t = np.asarray(data[\"t\"])\n",
    "        x = np.asarray(data[\"x\"])\n",
    "\n",
    "        # ensure position data shape\n",
    "        if x.ndim != 2 or x.shape[1] != 3:\n",
    "            raise ValueError(\"The position data shape must be (N, 3).\")\n",
    "\n",
    "        # initialize the actor using the super class __init__() method\n",
    "\n",
    "        mapper = pv.DataSetMapper(mesh)\n",
    "        self.actor = pv.Actor(mapper)\n",
    "\n",
    "        # construct the interpolator\n",
    "        self.interp_x = interp1d(t, x, axis=0, fill_value=\"extrapolate\")\n",
    "\n",
    "        # set the initial position\n",
    "        initial_pos = self.interp_x(t[0])\n",
    "\n",
    "        self.actor.SetPosition(initial_pos)\n",
    "\n",
    "    def set_time(self, t):\n",
    "        \"\"\"Set the position of actor according to the input data. \n",
    "        \n",
    "        Parameters\n",
    "        ----------\n",
    "        t : float\n",
    "            The current time value for which to set the actor's position.\n",
    "        \"\"\"\n",
    "        x = self.interp_x(t)\n",
    "        self.actor.setPosition(x)"
   ]
  },
  {
   "cell_type": "code",
   "execution_count": 55,
   "id": "52b382b8",
   "metadata": {},
   "outputs": [
    {
     "data": {
      "text/plain": [
       "(3,)"
      ]
     },
     "execution_count": 55,
     "metadata": {},
     "output_type": "execute_result"
    }
   ],
   "source": [
    "f(3).shape"
   ]
  },
  {
   "cell_type": "code",
   "execution_count": 66,
   "id": "1b0fb500",
   "metadata": {},
   "outputs": [
    {
     "data": {
      "text/plain": [
       "(Actor (0x304cbd9c0)\n",
       "   Center:                     (0.5641372013586219, 0.912086958572909, 0.8182945533151926)\n",
       "   Pickable:                   True\n",
       "   Position:                   (0.5641372013586218, 0.9120869585729089, 0.8182945533151927)\n",
       "   Scale:                      (1.0, 1.0, 1.0)\n",
       "   Visible:                    True\n",
       "   X Bounds                    6.487E-02, 1.063E+00\n",
       "   Y Bounds                    4.156E-01, 1.409E+00\n",
       "   Z Bounds                    3.183E-01, 1.318E+00\n",
       "   User matrix:                Identity\n",
       "   Has mapper:                 True\n",
       " \n",
       " Property (0x304c7ab00)\n",
       "   Ambient:                     0.0\n",
       "   Ambient color:               Color(name='lightblue', hex='#add8e6ff', opacity=255)\n",
       "   Anisotropy:                  0.0\n",
       "   Color:                       Color(name='lightblue', hex='#add8e6ff', opacity=255)\n",
       "   Culling:                     \"none\"\n",
       "   Diffuse:                     1.0\n",
       "   Diffuse color:               Color(name='lightblue', hex='#add8e6ff', opacity=255)\n",
       "   Edge color:                  Color(name='black', hex='#000000ff', opacity=255)\n",
       "   Edge opacity:                1.0\n",
       "   Interpolation:               InterpolationType.FLAT\n",
       "   Lighting:                    True\n",
       "   Line width:                  1.0\n",
       "   Metallic:                    0.0\n",
       "   Opacity:                     1.0\n",
       "   Point size:                  5.0\n",
       "   Render lines as tubes:       False\n",
       "   Render points as spheres:    False\n",
       "   Roughness:                   0.5\n",
       "   Show edges:                  False\n",
       "   Specular:                    0.0\n",
       "   Specular color:              Color(name='lightblue', hex='#add8e6ff', opacity=255)\n",
       "   Specular power:              100.0\n",
       "   Style:                       \"Surface\"\n",
       " \n",
       " DataSetMapper (0x354912ce0)\n",
       "   Scalar visibility:           True\n",
       "   Scalar range:                (0.0, 1.0)\n",
       "   Interpolate before mapping:  True\n",
       "   Scalar map mode:             default\n",
       "   Color mode:                  direct\n",
       " \n",
       " Attached dataset:\n",
       " PolyData (0x354912a40)\n",
       "   N Cells:    1680\n",
       "   N Points:   842\n",
       "   N Strips:   0\n",
       "   X Bounds:   -4.993e-01, 4.993e-01\n",
       "   Y Bounds:   -4.965e-01, 4.965e-01\n",
       "   Z Bounds:   -5.000e-01, 5.000e-01\n",
       "   N Arrays:   1,\n",
       " Property (0x304c7ab00)\n",
       "   Ambient:                     0.0\n",
       "   Ambient color:               Color(name='lightblue', hex='#add8e6ff', opacity=255)\n",
       "   Anisotropy:                  0.0\n",
       "   Color:                       Color(name='lightblue', hex='#add8e6ff', opacity=255)\n",
       "   Culling:                     \"none\"\n",
       "   Diffuse:                     1.0\n",
       "   Diffuse color:               Color(name='lightblue', hex='#add8e6ff', opacity=255)\n",
       "   Edge color:                  Color(name='black', hex='#000000ff', opacity=255)\n",
       "   Edge opacity:                1.0\n",
       "   Interpolation:               InterpolationType.FLAT\n",
       "   Lighting:                    True\n",
       "   Line width:                  1.0\n",
       "   Metallic:                    0.0\n",
       "   Opacity:                     1.0\n",
       "   Point size:                  5.0\n",
       "   Render lines as tubes:       False\n",
       "   Render points as spheres:    False\n",
       "   Roughness:                   0.5\n",
       "   Show edges:                  False\n",
       "   Specular:                    0.0\n",
       "   Specular color:              Color(name='lightblue', hex='#add8e6ff', opacity=255)\n",
       "   Specular power:              100.0\n",
       "   Style:                       \"Surface\")"
      ]
     },
     "execution_count": 66,
     "metadata": {},
     "output_type": "execute_result"
    }
   ],
   "source": [
    "scene = Scene()\n",
    "N = 50\n",
    "data = {\n",
    "    \"t\" : np.linspace(0, 1, N),\n",
    "    \"x\" : np.random.rand(N, 3)\n",
    "}\n",
    "actor = MovingActor(pv.Sphere(), data).actor\n",
    "scene.add_actor(actor)"
   ]
  },
  {
   "cell_type": "code",
   "execution_count": 68,
   "id": "824141c8",
   "metadata": {},
   "outputs": [
    {
     "data": {
      "text/plain": [
       "{'Actor(Addr=0x3531d2da0)': Actor (0x304cbd9c0)\n",
       "   Center:                     (0.5641372013586219, 0.912086958572909, 0.8182945533151926)\n",
       "   Pickable:                   True\n",
       "   Position:                   (0.5641372013586218, 0.9120869585729089, 0.8182945533151927)\n",
       "   Scale:                      (1.0, 1.0, 1.0)\n",
       "   Visible:                    True\n",
       "   X Bounds                    6.487E-02, 1.063E+00\n",
       "   Y Bounds                    4.156E-01, 1.409E+00\n",
       "   Z Bounds                    3.183E-01, 1.318E+00\n",
       "   User matrix:                Identity\n",
       "   Has mapper:                 True\n",
       " \n",
       " Property (0x304c7ab00)\n",
       "   Ambient:                     0.0\n",
       "   Ambient color:               Color(name='lightblue', hex='#add8e6ff', opacity=255)\n",
       "   Anisotropy:                  0.0\n",
       "   Color:                       Color(name='lightblue', hex='#add8e6ff', opacity=255)\n",
       "   Culling:                     \"none\"\n",
       "   Diffuse:                     1.0\n",
       "   Diffuse color:               Color(name='lightblue', hex='#add8e6ff', opacity=255)\n",
       "   Edge color:                  Color(name='black', hex='#000000ff', opacity=255)\n",
       "   Edge opacity:                1.0\n",
       "   Interpolation:               InterpolationType.FLAT\n",
       "   Lighting:                    True\n",
       "   Line width:                  1.0\n",
       "   Metallic:                    0.0\n",
       "   Opacity:                     1.0\n",
       "   Point size:                  5.0\n",
       "   Render lines as tubes:       False\n",
       "   Render points as spheres:    False\n",
       "   Roughness:                   0.5\n",
       "   Show edges:                  False\n",
       "   Specular:                    0.0\n",
       "   Specular color:              Color(name='lightblue', hex='#add8e6ff', opacity=255)\n",
       "   Specular power:              100.0\n",
       "   Style:                       \"Surface\"\n",
       " \n",
       " DataSetMapper (0x15fecb6a0)\n",
       "   Scalar visibility:           True\n",
       "   Scalar range:                (0.0, 1.0)\n",
       "   Interpolate before mapping:  True\n",
       "   Scalar map mode:             default\n",
       "   Color mode:                  direct\n",
       " \n",
       " Attached dataset:\n",
       " PolyData (0x15fecbe20)\n",
       "   N Cells:    1680\n",
       "   N Points:   842\n",
       "   N Strips:   0\n",
       "   X Bounds:   -4.993e-01, 4.993e-01\n",
       "   Y Bounds:   -4.965e-01, 4.965e-01\n",
       "   Z Bounds:   -5.000e-01, 5.000e-01\n",
       "   N Arrays:   1}"
      ]
     },
     "execution_count": 68,
     "metadata": {},
     "output_type": "execute_result"
    }
   ],
   "source": [
    "scene.actors"
   ]
  },
  {
   "cell_type": "code",
   "execution_count": 67,
   "id": "a959d86d",
   "metadata": {},
   "outputs": [
    {
     "ename": "AttributeError",
     "evalue": "'Actor' object has no attribute 'set_time'",
     "output_type": "error",
     "traceback": [
      "\u001b[31m---------------------------------------------------------------------------\u001b[39m",
      "\u001b[31mAttributeError\u001b[39m                            Traceback (most recent call last)",
      "\u001b[36mCell\u001b[39m\u001b[36m \u001b[39m\u001b[32mIn[67]\u001b[39m\u001b[32m, line 1\u001b[39m\n\u001b[32m----> \u001b[39m\u001b[32m1\u001b[39m \u001b[43mscene\u001b[49m\u001b[43m.\u001b[49m\u001b[43mset_time\u001b[49m\u001b[43m(\u001b[49m\u001b[32;43m0.5\u001b[39;49m\u001b[43m)\u001b[49m\n\u001b[32m      2\u001b[39m scene.update()\n",
      "\u001b[36mCell\u001b[39m\u001b[36m \u001b[39m\u001b[32mIn[63]\u001b[39m\u001b[32m, line 8\u001b[39m, in \u001b[36mScene.set_time\u001b[39m\u001b[34m(self, t)\u001b[39m\n\u001b[32m      6\u001b[39m \u001b[38;5;28;01mdef\u001b[39;00m\u001b[38;5;250m \u001b[39m\u001b[34mset_time\u001b[39m(\u001b[38;5;28mself\u001b[39m, t):\n\u001b[32m      7\u001b[39m     \u001b[38;5;28;01mfor\u001b[39;00m name, actor \u001b[38;5;129;01min\u001b[39;00m \u001b[38;5;28mself\u001b[39m.actors.items():\n\u001b[32m----> \u001b[39m\u001b[32m8\u001b[39m         \u001b[43mactor\u001b[49m\u001b[43m.\u001b[49m\u001b[43mset_time\u001b[49m(t)\n",
      "\u001b[36mFile \u001b[39m\u001b[32m~/miniconda3/envs/py12/lib/python3.12/site-packages/pyvista/core/_vtk_core.py:643\u001b[39m, in \u001b[36mDisableVtkSnakeCase.__getattribute__\u001b[39m\u001b[34m(self, attr)\u001b[39m\n\u001b[32m    641\u001b[39m             \u001b[38;5;28;01melse\u001b[39;00m:\n\u001b[32m    642\u001b[39m                 warnings.warn(msg, \u001b[38;5;167;01mRuntimeWarning\u001b[39;00m)\n\u001b[32m--> \u001b[39m\u001b[32m643\u001b[39m \u001b[38;5;28;01mreturn\u001b[39;00m \u001b[38;5;28;43msuper\u001b[39;49m\u001b[43m(\u001b[49m\u001b[43m)\u001b[49m\u001b[43m.\u001b[49m\u001b[34;43m__getattribute__\u001b[39;49m\u001b[43m(\u001b[49m\u001b[43mattr\u001b[49m\u001b[43m)\u001b[49m\n",
      "\u001b[31mAttributeError\u001b[39m: 'Actor' object has no attribute 'set_time'"
     ]
    }
   ],
   "source": [
    "scene.set_time(0.5)\n",
    "scene.update()"
   ]
  },
  {
   "cell_type": "code",
   "execution_count": 22,
   "id": "4d80afd1",
   "metadata": {},
   "outputs": [],
   "source": [
    "keys = pl.actors.keys()"
   ]
  },
  {
   "cell_type": "code",
   "execution_count": 31,
   "id": "de56ed77",
   "metadata": {},
   "outputs": [],
   "source": [
    "attrs = pl.actors[list(keys)[0]].__dir__()"
   ]
  },
  {
   "cell_type": "code",
   "execution_count": 32,
   "id": "eec19cd4",
   "metadata": {},
   "outputs": [
    {
     "name": "stdout",
     "output_type": "stream",
     "text": [
      "SetPosition\n"
     ]
    }
   ],
   "source": [
    "for attr in attrs:\n",
    "    if \"setpos\" in attr.lower():\n",
    "        print(attr)"
   ]
  },
  {
   "cell_type": "code",
   "execution_count": 41,
   "id": "b44eb9d9",
   "metadata": {},
   "outputs": [],
   "source": [
    "pl.actors[list(keys)[0]].SetPosition((0,0,0))"
   ]
  },
  {
   "cell_type": "code",
   "execution_count": null,
   "id": "f699b998",
   "metadata": {},
   "outputs": [],
   "source": []
  },
  {
   "cell_type": "code",
   "execution_count": null,
   "id": "289e3448",
   "metadata": {},
   "outputs": [],
   "source": []
  },
  {
   "cell_type": "code",
   "execution_count": null,
   "id": "36adc658",
   "metadata": {},
   "outputs": [],
   "source": []
  },
  {
   "cell_type": "markdown",
   "id": "90bb21c9",
   "metadata": {},
   "source": [
    "## 6 Force"
   ]
  },
  {
   "cell_type": "code",
   "execution_count": 19,
   "id": "f0786b0d",
   "metadata": {},
   "outputs": [],
   "source": [
    "from pathlib import Path\n",
    "import h5py\n",
    "import matplotlib.pyplot as plt"
   ]
  },
  {
   "cell_type": "code",
   "execution_count": 23,
   "id": "a516494a",
   "metadata": {},
   "outputs": [],
   "source": [
    "folder = Path(\"~/Documents/.bcsim_test\").expanduser().resolve()\n",
    "data_file = folder / \"results\" / \"data.h5\"\n",
    "data = {}\n",
    "with h5py.File(data_file, \"r\") as f:\n",
    "    for key in f.keys():\n",
    "        data[key] = f[key][:]"
   ]
  },
  {
   "cell_type": "code",
   "execution_count": 24,
   "id": "9148926c",
   "metadata": {},
   "outputs": [
    {
     "data": {
      "text/plain": [
       "(0.01, 0.025)"
      ]
     },
     "execution_count": 24,
     "metadata": {},
     "output_type": "execute_result"
    },
    {
     "data": {
      "image/png": "[encoded data removed]",
      "text/plain": [
       "<Figure size 640x480 with 1 Axes>"
      ]
     },
     "metadata": {},
     "output_type": "display_data"
    }
   ],
   "source": [
    "for key in [\"buoyancy\", \"drag\", \"tff\", \"lift\"]:\n",
    "    plt.plot(data[\"t\"], data[key][:, 0], label=key)\n",
    "plt.legend()\n",
    "plt.xlim([0.01, 0.025])"
   ]
  },
  {
   "cell_type": "code",
   "execution_count": null,
   "id": "ef323e3d",
   "metadata": {},
   "outputs": [],
   "source": []
  }
 ],
 "metadata": {
  "kernelspec": {
   "display_name": "py12",
   "language": "python",
   "name": "python3"
  },
  "language_info": {
   "codemirror_mode": {
    "name": "ipython",
    "version": 3
   },
   "file_extension": ".py",
   "mimetype": "text/x-python",
   "name": "python",
   "nbconvert_exporter": "python",
   "pygments_lexer": "ipython3",
   "version": "3.12.11"
  }
 },
 "nbformat": 4,
 "nbformat_minor": 5
}
