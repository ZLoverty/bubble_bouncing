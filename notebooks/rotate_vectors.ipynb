{
 "cells": [
  {
   "cell_type": "markdown",
   "id": "55c29e77",
   "metadata": {},
   "source": [
    "# Rotate vectors\n",
    "\n",
    "In bubble bouncing simulations, we typically set the coordinate system in such a way that the $xz$ plane is the bouncing surface, which is typically tilted w.r.t. gravity / bubble velocity. In this case, it is required that the computed Oseen wake flow to be rotated in space properly to match the settings of the coordinate system. \n",
    "\n",
    "In this notebook, we implement helper functions that rotate vectors."
   ]
  },
  {
   "cell_type": "markdown",
   "id": "edac9a79",
   "metadata": {},
   "source": [
    "## 0 Packages"
   ]
  },
  {
   "cell_type": "code",
   "execution_count": 68,
   "id": "48389277",
   "metadata": {},
   "outputs": [],
   "source": [
    "import numpy as np\n",
    "import pyvista as pv\n",
    "import matplotlib.pyplot as plt"
   ]
  },
  {
   "cell_type": "markdown",
   "id": "d53ffdf4",
   "metadata": {},
   "source": [
    "## 1 Rodrigues' rotation formula\n",
    "\n",
    "The rotation of a vector $\\vec{v}$ to another vector $\\vec{v'}$ has to be about an axis $\\vec{k}$, whose orientation can be found by $\\vec{v}\\times\\vec{v'}$. The rotation matrix $R$ that can convert $\\vec{v}$ to $\\vec{v'}$ can be found using the Rodriges' rotation formula:\n",
    "\n",
    "$$\n",
    "\\mathbf{R} = \\mathbf{I} \\cos\\theta + \\mathbf{K} \\sin\\theta + \\mathbf{k}\\otimes\\mathbf{k}^T(1-\\cos\\theta)\n",
    "$$\n",
    "\n",
    "where $\\mathbf{I}$ is identity matrix, $\\theta$ is the angle of rotation, $\\mathbf{K}$ is a skey-symmetric matrix that is equivalent to the cross-product, satisfying $\\mathbf{k}\\times \\mathbf{v} = \\mathbf{Kv}$, and $v$ is the vector to be rotated.\n",
    "\n",
    "$$\n",
    "\\mathbf{K} = \\begin{pmatrix}\n",
    "0 & -k_z & k_y \\\\\n",
    "k_z & 0 & -k_x \\\\\n",
    "-k_y & k_x & 0\n",
    "\\end{pmatrix}\n",
    "$$"
   ]
  },
  {
   "cell_type": "code",
   "execution_count": 86,
   "id": "3fb847ba",
   "metadata": {},
   "outputs": [],
   "source": [
    "def _skew_symmetric(k):\n",
    "    \"\"\"\n",
    "    Convert a vector k to a skew-symmetric matrix.\n",
    "    \n",
    "    Parameters\n",
    "    ----------\n",
    "    k : array_like\n",
    "        A 3D vector.\n",
    "    \n",
    "    Returns\n",
    "    -------\n",
    "    K : ndarray\n",
    "        A 3x3 skew-symmetric matrix corresponding to the vector k.\n",
    "    \"\"\"\n",
    "\n",
    "    if np.isclose(np.linalg.norm(k), 1.0) == False:\n",
    "        k = k / np.linalg.norm(k)\n",
    "        \n",
    "    K = np.array([[0.   , -k[2], k[1] ],\n",
    "                    [k[2] , 0.   , -k[0]],\n",
    "                    [-k[1], k[0] , 0.   ]])\n",
    "    return K"
   ]
  },
  {
   "cell_type": "code",
   "execution_count": null,
   "id": "940c66fe",
   "metadata": {},
   "outputs": [],
   "source": [
    "def rotation_matrix_axis(k, angle):\n",
    "    \"\"\"\n",
    "    Rotate a vector v around an axis k by a given angle. This function computes the rotation matrix using the Rodrigues' rotation formula.\n",
    "    \n",
    "    Parameters\n",
    "    ----------\n",
    "    v : array_like\n",
    "        A 3D vector to be rotated.\n",
    "    k : array_like\n",
    "        A 3D vector representing the axis of rotation.\n",
    "    angle : float\n",
    "        The angle in radians by which to rotate the vector.\n",
    "    \n",
    "    Returns\n",
    "    -------\n",
    "    v_rotated : ndarray\n",
    "        The rotated vector.\n",
    "    \"\"\"\n",
    "\n",
    "    if np.isclose(np.linalg.norm(k), 0.0):\n",
    "        return np.eye(3)\n",
    "    else:\n",
    "        k = k / np.linalg.norm(k)\n",
    "    \n",
    "    K = _skew_symmetric(k)\n",
    "    \n",
    "    R = (\n",
    "        np.eye(3) * np.cos(angle) \n",
    "        + K * np.sin(angle) \n",
    "        + np.outer(k, k) * (1 - np.cos(angle))\n",
    "    )\n",
    "    \n",
    "    return R"
   ]
  },
  {
   "cell_type": "code",
   "execution_count": null,
   "id": "a363020c",
   "metadata": {},
   "outputs": [],
   "source": [
    "class Vector(np.ndarray):\n",
    "    \"\"\"\n",
    "    A subclass of numpy.ndarray to represent 3D vector(s).\n",
    "    \n",
    "    This class allows for easy rotation of the vector(s).\n",
    "    \"\"\"\n",
    "    \n",
    "    def __new__(cls, input_array):\n",
    "        obj = np.asarray(input_array).view(cls)\n",
    "        if obj.shape[1] != 3:\n",
    "            raise ValueError(\"Vector must be a 3D vector.\")\n",
    "        return obj\n",
    "    \n",
    "    def rotate(self, k, angle):\n",
    "        \"\"\"\n",
    "        Rotate the vector around an axis k by a given angle.\n",
    "        \n",
    "        Parameters\n",
    "        ----------\n",
    "        k : array_like\n",
    "            A 3D vector representing the axis of rotation.\n",
    "        angle : float\n",
    "            The angle in radians by which to rotate the vector.\n",
    "        \n",
    "        Returns\n",
    "        -------\n",
    "        Vector\n",
    "            The rotated vector.\n",
    "\n",
    "        Example\n",
    "        -------\n",
    "        >>> points = np.random.rand(10, 3)\n",
    "        >>> k = np.array([0, 0, 1])\n",
    "        >>> angle = np.pi / 4  # 45 degrees\n",
    "        >>> rotated_points = Vector(points).rotate(k, angle)\n",
    "        \"\"\"\n",
    "        R = rotation_matrix_axis(k, angle)\n",
    "        return Vector((R @ self.T).T)"
   ]
  },
  {
   "cell_type": "markdown",
   "id": "97d38061",
   "metadata": {},
   "source": [
    "## 2 Tests\n",
    "\n",
    "### 2.1 Rotate a point cloud"
   ]
  },
  {
   "cell_type": "code",
   "execution_count": 100,
   "id": "470c7eb0",
   "metadata": {},
   "outputs": [],
   "source": [
    "# test\n",
    "x = np.linspace(-1, 1, 10)\n",
    "y = np.linspace(-1, 1, 10)\n",
    "z = np.linspace(-1, 1, 10)\n",
    "x, y, z = np.meshgrid(x, y, z)\n",
    "x = x.flatten()\n",
    "y = y.flatten()\n",
    "z = z.flatten()\n",
    "points = Vector(np.stack([x, y, z], axis=-1))"
   ]
  },
  {
   "cell_type": "code",
   "execution_count": 101,
   "id": "69428328",
   "metadata": {},
   "outputs": [],
   "source": [
    "k = np.array([0, 1, 0])\n",
    "points_rotated = points.rotate(k, np.pi/4)"
   ]
  },
  {
   "cell_type": "code",
   "execution_count": 102,
   "id": "91157e27",
   "metadata": {},
   "outputs": [
    {
     "data": {
      "text/plain": [
       "Vector([[-1.41421356e+00, -1.00000000e+00, -1.11022302e-16],\n",
       "        [-1.25707872e+00, -1.00000000e+00,  1.57134840e-01],\n",
       "        [-1.09994388e+00, -1.00000000e+00,  3.14269681e-01],\n",
       "        ...,\n",
       "        [ 1.09994388e+00,  1.00000000e+00, -3.14269681e-01],\n",
       "        [ 1.25707872e+00,  1.00000000e+00, -1.57134840e-01],\n",
       "        [ 1.41421356e+00,  1.00000000e+00,  1.11022302e-16]])"
      ]
     },
     "execution_count": 102,
     "metadata": {},
     "output_type": "execute_result"
    }
   ],
   "source": [
    "points_rotated"
   ]
  },
  {
   "cell_type": "code",
   "execution_count": 103,
   "id": "ba66515c",
   "metadata": {},
   "outputs": [
    {
     "data": {
      "application/vnd.jupyter.widget-view+json": {
       "model_id": "e634ca3a0da44af4b35807d6f99f5248",
       "version_major": 2,
       "version_minor": 0
      },
      "text/plain": [
       "Widget(value='<iframe src=\"http://localhost:59501/index.html?ui=P_0x329eb8ac0_33&reconnect=auto\" class=\"pyvist…"
      ]
     },
     "metadata": {},
     "output_type": "display_data"
    }
   ],
   "source": [
    "grid = pv.PolyData(points)\n",
    "grid_rotated = pv.PolyData(points_rotated)\n",
    "pl = pv.Plotter()\n",
    "pl.add_mesh(grid, color=\"red\")\n",
    "pl.add_mesh(grid_rotated, color=\"green\")\n",
    "pl.add_lines(np.stack([-k, k]), color=\"blue\")\n",
    "pl.camera_position = \"xy\"\n",
    "pl.show()"
   ]
  },
  {
   "cell_type": "markdown",
   "id": "83a7c16f",
   "metadata": {},
   "source": [
    "### 2.2 Rotate a vector\n",
    "\n",
    "In this test, we rotate a vector by angles ranging from 0 to $2\\pi$ to test the behavior of the rotation method."
   ]
  },
  {
   "cell_type": "code",
   "execution_count": 104,
   "id": "153861f3",
   "metadata": {},
   "outputs": [],
   "source": [
    "v = np.array([[1, 1, 0]])\n",
    "k = np.array([0, 10, 1])"
   ]
  },
  {
   "cell_type": "code",
   "execution_count": 105,
   "id": "4154e8d3",
   "metadata": {},
   "outputs": [
    {
     "data": {
      "application/vnd.jupyter.widget-view+json": {
       "model_id": "0465722b442e44c193e7796d2a840c94",
       "version_major": 2,
       "version_minor": 0
      },
      "text/plain": [
       "Widget(value='<iframe src=\"http://localhost:59501/index.html?ui=P_0x30043bbe0_34&reconnect=auto\" class=\"pyvist…"
      ]
     },
     "metadata": {},
     "output_type": "display_data"
    }
   ],
   "source": [
    "pl = pv.Plotter()\n",
    "pl.add_lines(np.stack([-k, k]), color=\"blue\")\n",
    "n_arrows = 10\n",
    "cmap = plt.get_cmap(\"viridis\", n_arrows)\n",
    "for num, theta in enumerate(np.linspace(0, 2 * np.pi, 10, endpoint=False)):\n",
    "    v = Vector(v)\n",
    "    v_rotated = v.rotate(k, theta,)\n",
    "    arrow = pv.Arrow(start=np.array([0,0,0]), direction=v_rotated, scale=0.5)\n",
    "    pl.add_mesh(arrow, color=cmap(num), point_size=5, render_points_as_spheres=True)\n",
    "pl.show()"
   ]
  },
  {
   "cell_type": "markdown",
   "id": "30d594b0",
   "metadata": {},
   "source": [
    "### 2.3 Rotate a flow field\n",
    "\n",
    "The ultimate goal of the Vector class is to rotate the Oseen wake flow field. This involves rotating both the grid points and the associated velocity field. We test the rotation behavior in this section."
   ]
  },
  {
   "cell_type": "markdown",
   "id": "e56e4a95",
   "metadata": {},
   "source": [
    "#### 2.3.1 The original flow "
   ]
  },
  {
   "cell_type": "code",
   "execution_count": 106,
   "id": "8b5e83a0",
   "metadata": {},
   "outputs": [],
   "source": [
    "from bounce import Bubble"
   ]
  },
  {
   "cell_type": "code",
   "execution_count": 107,
   "id": "dff79626",
   "metadata": {},
   "outputs": [],
   "source": [
    "a = 6e-4\n",
    "U = 0.1\n",
    "\n",
    "lim = 3*a\n",
    "N = 10\n",
    "bubble = Bubble(a, U)\n",
    "x = np.linspace(-lim, lim, N)\n",
    "y = np.linspace(-lim, lim, N)\n",
    "z = np.linspace(-lim, lim, N)\n",
    "x, y, z = np.meshgrid(x, y, z)\n",
    "x = x.flatten()\n",
    "y = y.flatten()\n",
    "z = z.flatten()\n",
    "points = Vector(np.stack([x, y, z], axis=-1))"
   ]
  },
  {
   "cell_type": "code",
   "execution_count": 108,
   "id": "e3ada03d",
   "metadata": {},
   "outputs": [],
   "source": [
    "flow = bubble.Oseen_wake(points)"
   ]
  },
  {
   "cell_type": "code",
   "execution_count": 116,
   "id": "1343278f",
   "metadata": {},
   "outputs": [
    {
     "data": {
      "application/vnd.jupyter.widget-view+json": {
       "model_id": "d779d9c0ec0e4049a6b1fd4310c0a7f3",
       "version_major": 2,
       "version_minor": 0
      },
      "text/plain": [
       "Widget(value='<iframe src=\"http://localhost:59501/index.html?ui=P_0x3560a1700_41&reconnect=auto\" class=\"pyvist…"
      ]
     },
     "metadata": {},
     "output_type": "display_data"
    }
   ],
   "source": [
    "grid = pv.PolyData(points)\n",
    "grid[\"v\"] = flow\n",
    "glyph = grid.glyph(orient=\"v\", scale=\"v\", factor=0.02)\n",
    "pl = pv.Plotter()\n",
    "pl.show_axes()\n",
    "pl.add_mesh(glyph)\n",
    "pl.show()"
   ]
  },
  {
   "cell_type": "markdown",
   "id": "bfc7dc20",
   "metadata": {},
   "source": [
    "#### 2.3.2 Rotated flow"
   ]
  },
  {
   "cell_type": "code",
   "execution_count": 117,
   "id": "f96c1844",
   "metadata": {},
   "outputs": [],
   "source": [
    "k = np.array([0, 1, 0])\n",
    "angle = np.pi / 4\n",
    "\n",
    "points = Vector(points)\n",
    "flow = Vector(flow)\n",
    "\n",
    "points_rotated = points.rotate(k, angle)\n",
    "flow_rotated = flow.rotate(k, angle)"
   ]
  },
  {
   "cell_type": "code",
   "execution_count": 118,
   "id": "ccfc1bc9",
   "metadata": {},
   "outputs": [
    {
     "data": {
      "application/vnd.jupyter.widget-view+json": {
       "model_id": "f645cfd40cf746adb7ac2abc86722bc6",
       "version_major": 2,
       "version_minor": 0
      },
      "text/plain": [
       "Widget(value='<iframe src=\"http://localhost:59501/index.html?ui=P_0x302113f70_42&reconnect=auto\" class=\"pyvist…"
      ]
     },
     "metadata": {},
     "output_type": "display_data"
    }
   ],
   "source": [
    "grid = pv.PolyData(points_rotated)\n",
    "grid[\"v\"] = flow_rotated\n",
    "glyph = grid.glyph(orient=\"v\", scale=\"v\", factor=0.02)\n",
    "pl = pv.Plotter()\n",
    "pl.show_axes()\n",
    "pl.add_mesh(glyph)\n",
    "pl.show()"
   ]
  },
  {
   "cell_type": "code",
   "execution_count": null,
   "id": "52833c11",
   "metadata": {},
   "outputs": [],
   "source": []
  }
 ],
 "metadata": {
  "kernelspec": {
   "display_name": "py39",
   "language": "python",
   "name": "python3"
  },
  "language_info": {
   "codemirror_mode": {
    "name": "ipython",
    "version": 3
   },
   "file_extension": ".py",
   "mimetype": "text/x-python",
   "name": "python",
   "nbconvert_exporter": "python",
   "pygments_lexer": "ipython3",
   "version": "3.9.18"
  }
 },
 "nbformat": 4,
 "nbformat_minor": 5
}
